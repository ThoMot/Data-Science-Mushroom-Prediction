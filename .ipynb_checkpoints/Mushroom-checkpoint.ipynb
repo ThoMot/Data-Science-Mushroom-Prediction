{
 "cells": [
  {
   "cell_type": "markdown",
   "metadata": {},
   "source": [
    "# What is the danger of shrooming? "
   ]
  },
  {
   "cell_type": "markdown",
   "metadata": {},
   "source": [
    "- **Thora Mothes**\n",
    "- **Mathias Ahrn**"
   ]
  },
  {
   "cell_type": "markdown",
   "metadata": {},
   "source": [
    "## Introduction:\n",
    "\n",
    "Shrooming refers to the act of looking for mushrooms or mushroom hunting. In this report predictions will be made as to how likely it is for a mushroom with certain characteristics to be poisonous or edible.\n",
    "\n",
    "##### Dataset:\n",
    "The chosen dataset for this report is called **<a href=\"https://archive.ics.uci.edu/ml/datasets/Mushroom\">Mushrooms</a>**, and is a dataset consisting of descriptions of hypothetical samples corresponding to 23 species of mushroom in the Agaricus amd Lepiota Family. The data originally stems from the Audubon Society Field Guide to North American Mushrooms published in 1981, and was donated to <a href=\"https://archive.ics.uci.edu/ml/index.php\">The UCI repository</a> in 1987. \n",
    "\n",
    "The dataset used in this report was downloaded from <a href=\"https://www.kaggle.com/uciml/mushroom-classification\">Kaggle</a> as the UCI repository could not provide a CSV file. However the data from Kaggle has not been modified in any other way than formatting it into a CSV file. \n",
    "\n",
    "- Date downloaded: **12.09.2019**\n",
    "- Hosted: **Thora Mothes GitHub Repo**\n",
    " \n",
    "\n",
    "##### Goal:\n",
    "In this report the goal is to predict whether or not a mushroom is edible. The feature used for output values is called \"Class\" and consists of values **e** and **p**, e for edible, and p for poisonous.\n",
    "\n",
    "##### Features: \n",
    "\n",
    "When it comes to the features we will use for our models we will have two main criteria, we will try to find features that are easy for people to identify when they are looking for mushrooms and still give good enough accuracy for people not to be poisoned. \n",
    "\n",
    "Some of the most interesting features in this dataset are: \n",
    "- odor - This is a very easy one to identify for most people\n",
    "- cap-color - This is also a very easy identifier\n",
    "- "
   ]
  },
  {
   "cell_type": "code",
   "execution_count": 1,
   "metadata": {},
   "outputs": [],
   "source": [
    "import pandas as pd\n",
    "import numpy as np\n",
    "import matplotlib.pyplot as plt\n",
    "import seaborn as sns\n",
    "from scipy.stats import zscore\n",
    "from sklearn.linear_model import LogisticRegression\n",
    "from sklearn.metrics import roc_auc_score, roc_curve, confusion_matrix, precision_recall_curve\n",
    "from sklearn.model_selection import train_test_split, cross_val_score\n",
    "from sklearn.metrics import confusion_matrix\n",
    "from sklearn.naive_bayes import GaussianNB\n",
    "from inspect import signature\n",
    "from warnings import simplefilter\n",
    "simplefilter(action='ignore', category=FutureWarning)\n",
    "import warnings\n",
    "from sklearn.tree import DecisionTreeClassifier\n",
    "from sklearn.tree import export_graphviz\n",
    "import graphviz\n",
    "from sklearn.metrics import precision_score\n",
    "from sklearn.metrics import recall_score\n",
    "sns.set()\n",
    "\n",
    "warnings.filterwarnings('ignore')"
   ]
  },
  {
   "cell_type": "code",
   "execution_count": 2,
   "metadata": {},
   "outputs": [],
   "source": [
    "df = pd.read_csv(\"https://raw.githubusercontent.com/ThoMot/DataHost/master/DataScience2019/mushrooms.csv\")"
   ]
  },
  {
   "cell_type": "markdown",
   "metadata": {},
   "source": [
    "## Data Exploration:\n",
    "\n",
    "Taking an overall look at the data, it looks like there are no columns with any missing data. The data set consists of 8124 entries, each with attributes distibuted over 23 columns. All of the data are string values, which are categorical in nature. \n",
    "\n",
    "- 1. **Class** - What we are predicting, edible or poisonous\n",
    "- 2. **cap-shape**\n",
    "    - b: bell, c: conical, x: convex, f: flat, k: knobbed, s: sunken \n",
    "- 4. **Cap-surface** - How is the cap built? \n",
    "    -  f: fibrous, g: grooves, y: scaly, s: smooth\n",
    "- 3. **Cap-color**\n",
    "    - n: brown, b: buff, c: cinnamon, g: gray, r: green, p: pink, u: purple, e: red, w: white, y: yellow\n",
    "- 4. **bruises** - Does the shroom have bruses on it?\n",
    "    - true/false\n",
    "- 5. **odor**\n",
    "    - a: almond, l: anise, c: creosote, y: fishy, f: foul, m: musty, n: none, p: pungent, s: spicy\n",
    "- 6. **gill-attachment** - How is the gill attached\n",
    "    - a: attached, d: descending, f: free, n: notched\n",
    "- 7. **gill-spacing** - How are the gills spaced out\n",
    "    - c: close, w: crowded, d: distant\n",
    "- 8. **gill-size**\n",
    "    - b: broad, n: narrow\n",
    "- 9. **gill-color** \n",
    "    - k: black, n: brown, b: buff, h: chocolate, g: gray,  r: green, o: orange, p: pink, u: purple, e: red, w: white, y: yellow\n",
    "- 10. **stalk-shape** \n",
    "    - e: enlarging, t: tapering\n",
    "- 11. **stalk-root** - Shape of the stalk root\n",
    "    - b: bulbous, c: club, u: cup, e: equal, z: rhizomorphs, r: rooted, ?: missing\n",
    "- 12. **stalk-surface-above-ring**\n",
    "    - f: fibrous, y: scaly, k: silky, s: smooth\n",
    "- 13. **stalk-surface-below-ring** \n",
    "    - f: fibrous, y: scaly, k. silky, s: smooth\n",
    "- 14. **stalk-color-above-ring**\n",
    "    - n: brown, b:. buff, c: cinnamon, g: gray, o: orange, p:  pink, e: red, w: white, y: yellow\n",
    "- 15. **stalk-color-below-ring**\n",
    "    - n: brown, b: buff, c: cinnamon, g: gray, o: orange, p:  pink, e: red, w: white, y: yellow\n",
    "- 16. **veil-type** \n",
    "    - p: partial, u: universal\n",
    "- 17. **veil-color** \n",
    "    - n: brown, o: orange, w: white, y: yellow\n",
    "- 18. **ring-number** \n",
    "    - n: none, o: one, t: two\n",
    "- 19. **ring-type** \n",
    "    - c: cobwebby, e: evanescent, f: flaring, l: large, n: none, p: pendant, s: sheathing, z: zone\n",
    "- 20. **spore-print-color**\n",
    "    - k: black n: brown, b: buff, h: chocolate, r: green, o:  orange, u:. purple, w: white, y: yellow\n",
    "- 21. **population** \n",
    "    - a: abundant, c: clustered, n: numerous, s: scattered, v: several, y: solitary\n",
    "- 22. **habitat**: \n",
    "    - g: grasses, l: leaves, m: meadows, p: paths, u: urban, w: waste, d: woods"
   ]
  },
  {
   "cell_type": "code",
   "execution_count": 3,
   "metadata": {},
   "outputs": [
    {
     "name": "stdout",
     "output_type": "stream",
     "text": [
      "<class 'pandas.core.frame.DataFrame'>\n",
      "RangeIndex: 8124 entries, 0 to 8123\n",
      "Data columns (total 23 columns):\n",
      "class                       8124 non-null object\n",
      "cap-shape                   8124 non-null object\n",
      "cap-surface                 8124 non-null object\n",
      "cap-color                   8124 non-null object\n",
      "bruises                     8124 non-null object\n",
      "odor                        8124 non-null object\n",
      "gill-attachment             8124 non-null object\n",
      "gill-spacing                8124 non-null object\n",
      "gill-size                   8124 non-null object\n",
      "gill-color                  8124 non-null object\n",
      "stalk-shape                 8124 non-null object\n",
      "stalk-root                  8124 non-null object\n",
      "stalk-surface-above-ring    8124 non-null object\n",
      "stalk-surface-below-ring    8124 non-null object\n",
      "stalk-color-above-ring      8124 non-null object\n",
      "stalk-color-below-ring      8124 non-null object\n",
      "veil-type                   8124 non-null object\n",
      "veil-color                  8124 non-null object\n",
      "ring-number                 8124 non-null object\n",
      "ring-type                   8124 non-null object\n",
      "spore-print-color           8124 non-null object\n",
      "population                  8124 non-null object\n",
      "habitat                     8124 non-null object\n",
      "dtypes: object(23)\n",
      "memory usage: 1.4+ MB\n"
     ]
    }
   ],
   "source": [
    "df.info()"
   ]
  },
  {
   "cell_type": "markdown",
   "metadata": {},
   "source": [
    "When looking at df.info() it initially looks like there are no missing values. But when looking into the data of the stalk-root feature, we can tell that there are actually quite a few missing values in this column. When graphing this column based on the class of mushroom, edible/poinsonous we can see that a high percentage of this column is missing. This is denoted by a questionmasrk **?** in this dataset. "
   ]
  },
  {
   "cell_type": "code",
   "execution_count": 4,
   "metadata": {},
   "outputs": [
    {
     "data": {
      "text/plain": [
       "b    3776\n",
       "?    2480\n",
       "e    1120\n",
       "c     556\n",
       "r     192\n",
       "Name: stalk-root, dtype: int64"
      ]
     },
     "execution_count": 4,
     "metadata": {},
     "output_type": "execute_result"
    }
   ],
   "source": [
    "df[\"stalk-root\"].value_counts()"
   ]
  },
  {
   "cell_type": "code",
   "execution_count": 5,
   "metadata": {},
   "outputs": [
    {
     "data": {
      "image/png": "[encoded data removed]",
      "text/plain": [
       "<Figure size 1080x360 with 1 Axes>"
      ]
     },
     "metadata": {
      "needs_background": "light"
     },
     "output_type": "display_data"
    }
   ],
   "source": [
    "plt.figure(figsize=(15,5));\n",
    "sns.countplot(df[\"stalk-root\"], hue=df[\"class\"]);\n",
    "plt.title(\"number of different stalk-roots dependent of class\", size=\"20\");\n",
    "plt.xlabel(\"Stalk-root shape\", size=\"15\");\n",
    "plt.ylabel(\"Number of instances\", size=\"15\"); \n",
    "plt.legend([\"poisonous\", \"edible\"], prop={'size': 15});\n",
    "plt.xticks(size=\"12\");\n"
   ]
  },
  {
   "cell_type": "markdown",
   "metadata": {},
   "source": [
    "It is important to look into whether or not the dataset is imbalanced. If the data is imbalanced, one class has a lot more instances than the other. The best classifcation situation would be one where there are about equally as many instances of both classes.\n",
    "\n",
    "The plot below shows the distribution of the two different classes we are going to predict. There seem to be slightly more edible mushrooms than poisonous ones. It seems like we have a fairly balanced dataset."
   ]
  },
  {
   "cell_type": "code",
   "execution_count": 6,
   "metadata": {},
   "outputs": [
    {
     "data": {
      "image/png": "[encoded data removed]",
      "text/plain": [
       "<Figure size 1080x360 with 1 Axes>"
      ]
     },
     "metadata": {
      "needs_background": "light"
     },
     "output_type": "display_data"
    }
   ],
   "source": [
    "plt.figure(figsize=(15,5));\n",
    "sns.countplot(df[\"class\"]);\n",
    "plt.title(\"Class distribution\", size=\"20\");\n",
    "plt.xlabel(\"Class, poisonous, edible\", size=\"15\");\n",
    "plt.ylabel(\"Number of instances\", size=\"15\"); \n",
    "plt.xticks(size=\"12\");"
   ]
  },
  {
   "cell_type": "code",
   "execution_count": 7,
   "metadata": {},
   "outputs": [
    {
     "data": {
      "image/png": "[encoded data removed]",
      "text/plain": [
       "<Figure size 1080x360 with 1 Axes>"
      ]
     },
     "metadata": {
      "needs_background": "light"
     },
     "output_type": "display_data"
    }
   ],
   "source": [
    "plt.figure(figsize=(15,5));\n",
    "sns.countplot(df[\"odor\"], hue=df[\"class\"]);\n",
    "plt.title(\"Class distribution\", size=\"20\");\n",
    "plt.xlabel(\"Class, poisonous, edible\", size=\"15\");\n",
    "plt.ylabel(\"Number of instances\", size=\"15\"); \n",
    "plt.xticks(size=\"12\");"
   ]
  },
  {
   "cell_type": "markdown",
   "metadata": {},
   "source": [
    "When looking at the subplots below, we can tell that some columns are very skewed towards one value. \n",
    "- veil-type only contains values of type p\n",
    "- veil-color contains an overwhelming amount of white instances\n",
    "- gill-attachment contains a very skewed amount of values for free\n",
    "- ring-number is very skewed towards one ring"
   ]
  },
  {
   "cell_type": "code",
   "execution_count": 8,
   "metadata": {},
   "outputs": [
    {
     "data": {
      "text/plain": [
       "p    8124\n",
       "Name: veil-type, dtype: int64"
      ]
     },
     "execution_count": 8,
     "metadata": {},
     "output_type": "execute_result"
    }
   ],
   "source": [
    "df[\"veil-type\"].value_counts()"
   ]
  },
  {
   "cell_type": "code",
   "execution_count": 9,
   "metadata": {},
   "outputs": [
    {
     "data": {
      "text/plain": [
       "w    7924\n",
       "o      96\n",
       "n      96\n",
       "y       8\n",
       "Name: veil-color, dtype: int64"
      ]
     },
     "execution_count": 9,
     "metadata": {},
     "output_type": "execute_result"
    }
   ],
   "source": [
    "df[\"veil-color\"].value_counts()"
   ]
  },
  {
   "cell_type": "code",
   "execution_count": 10,
   "metadata": {},
   "outputs": [
    {
     "data": {
      "text/plain": [
       "f    7914\n",
       "a     210\n",
       "Name: gill-attachment, dtype: int64"
      ]
     },
     "execution_count": 10,
     "metadata": {},
     "output_type": "execute_result"
    }
   ],
   "source": [
    "df[\"gill-attachment\"].value_counts()"
   ]
  },
  {
   "cell_type": "code",
   "execution_count": 11,
   "metadata": {},
   "outputs": [
    {
     "data": {
      "text/plain": [
       "o    7488\n",
       "t     600\n",
       "n      36\n",
       "Name: ring-number, dtype: int64"
      ]
     },
     "execution_count": 11,
     "metadata": {},
     "output_type": "execute_result"
    }
   ],
   "source": [
    "df[\"ring-number\"].value_counts()"
   ]
  },
  {
   "cell_type": "code",
   "execution_count": 12,
   "metadata": {},
   "outputs": [
    {
     "data": {
      "image/png": "[encoded data removed]",
      "text/plain": [
       "<Figure size 1080x1800 with 22 Axes>"
      ]
     },
     "metadata": {
      "needs_background": "light"
     },
     "output_type": "display_data"
    }
   ],
   "source": [
    "fig, ax = plt.subplots(11,2, figsize=(15,25))\n",
    "fig.suptitle(\"Count plot of all features\", size=25, y=0.92)\n",
    "\n",
    "sns.countplot(df[\"class\"], ax=ax[0,0])\n",
    "ax[0,0].set_title(\"count of edible/poisonous\", size=\"15\");\n",
    "ax[0,0].set_xlabel(\"class\", size=\"12\")\n",
    "\n",
    "sns.countplot(df[\"cap-shape\"], ax=ax[0,1])\n",
    "ax[0,1].set_title(\"count of cap-shapes\", size=\"15\");\n",
    "ax[0,1].set_xlabel(\"cap-shape\", size=\"12\")\n",
    "\n",
    "sns.countplot(df[\"cap-surface\"], ax=ax[1,0])\n",
    "ax[1,0].set_title(\"count of cap-surface\", size=\"15\");\n",
    "ax[1,0].set_xlabel(\"cap-surface\", size=\"12\")\n",
    "\n",
    "sns.countplot(df[\"cap-color\"], ax=ax[1,1])\n",
    "ax[1,1].set_title(\"count of cap-color\", size=\"15\");\n",
    "ax[1,1].set_xlabel(\"cap-color\", size=\"12\")\n",
    "\n",
    "sns.countplot(df[\"bruises\"], ax=ax[2,0])\n",
    "ax[2,0].set_title(\"count of bruising\", size=\"15\");\n",
    "ax[2,0].set_xlabel(\"bruises\", size=\"12\")\n",
    "\n",
    "sns.countplot(df[\"odor\"], ax=ax[2,1])\n",
    "ax[2,1].set_title(\"count of odor\", size=\"15\");\n",
    "ax[2,1].set_xlabel(\"odors\", size=\"12\")\n",
    "\n",
    "sns.countplot(df[\"gill-attachment\"], ax=ax[3,0])\n",
    "ax[3,0].set_title(\"count of gill-attachment\", size=\"15\");\n",
    "ax[3,0].set_xlabel(\"gill-attachment\", size=\"12\")\n",
    "\n",
    "sns.countplot(df[\"gill-spacing\"], ax=ax[3,1])\n",
    "ax[3,1].set_title(\"count of gill-spacing\", size=\"15\");\n",
    "ax[3,1].set_xlabel(\"gill-spacing\", size=\"12\")\n",
    "\n",
    "sns.countplot(df[\"gill-size\"], ax=ax[4,0])\n",
    "ax[4,0].set_title(\"count of gill-size\", size=\"15\");\n",
    "ax[4,0].set_xlabel(\"gill-size\", size=\"14\")\n",
    "\n",
    "sns.countplot(df[\"gill-color\"], ax=ax[4,1])\n",
    "ax[4,1].set_title(\"count of gill-color\", size=\"15\");\n",
    "ax[4,1].set_xlabel(\"gill-colors\", size=\"12\")\n",
    "\n",
    "sns.countplot(df[\"stalk-shape\"], ax=ax[5,0])\n",
    "ax[5,0].set_title(\"count of stalk-shape\", size=\"15\");\n",
    "ax[5,0].set_xlabel(\"stalk-shapes\", size=\"12\")\n",
    "\n",
    "sns.countplot(df[\"stalk-root\"], ax=ax[5,1])\n",
    "ax[5,1].set_title(\"count of stalk-root\", size=\"15\");\n",
    "ax[5,1].set_xlabel(\"stalk-root\", size=\"12\")\n",
    "\n",
    "sns.countplot(df[\"stalk-surface-above-ring\"], ax=ax[6,0])\n",
    "ax[6,0].set_title(\"count of stalk-surface-above-ring\", size=\"15\");\n",
    "ax[6,0].set_xlabel(\"stalk-surface-above-ring\", size=\"12\")\n",
    "\n",
    "sns.countplot(df[\"stalk-surface-below-ring\"], ax=ax[6,1])\n",
    "ax[6,1].set_title(\"count of stalk-surface-below-ring\", size=\"15\");\n",
    "ax[6,1].set_xlabel(\"stalk-surface-below-ring\", size=\"12\")\n",
    "\n",
    "sns.countplot(df[\"stalk-color-above-ring\"], ax=ax[7,0])\n",
    "ax[7,0].set_title(\"count of stalk-color-above-ring\", size=\"15\");\n",
    "ax[7,0].set_xlabel(\"stalk-color-above-ring\", size=\"12\")\n",
    "\n",
    "sns.countplot(df[\"stalk-color-below-ring\"], ax=ax[7,1])\n",
    "ax[7,1].set_title(\"count of stalk-color-below-ring\", size=\"15\");\n",
    "ax[7,1].set_xlabel(\"stalk-color-below-ring\", size=\"12\")\n",
    "\n",
    "sns.countplot(df[\"veil-type\"], ax=ax[8,0])\n",
    "ax[8,0].set_title(\"count of veil-type\", size=\"15\");\n",
    "ax[8,0].set_xlabel(\"veil-type\", size=\"12\")\n",
    "\n",
    "sns.countplot(df[\"veil-color\"], ax=ax[8,1])\n",
    "ax[8,1].set_title(\"count of veil-color\", size=\"15\");\n",
    "ax[8,1].set_xlabel(\"veil-color\", size=\"12\");\n",
    "\n",
    "sns.countplot(df[\"ring-number\"], ax=ax[9,0])\n",
    "ax[9,0].set_title(\"count of ring-number\", size=\"15\");\n",
    "ax[9,0].set_xlabel(\"ring-number\", size=\"12\");\n",
    "\n",
    "sns.countplot(df[\"ring-type\"], ax=ax[9,1])\n",
    "ax[9,1].set_title(\"count of ring-type\", size=\"15\");\n",
    "ax[9,1].set_xlabel(\"ring-type\", size=\"12\");\n",
    "\n",
    "sns.countplot(df[\"spore-print-color\"], ax=ax[10,0])\n",
    "ax[10,0].set_title(\"count of spore-print-color\", size=\"15\");\n",
    "ax[10,0].set_xlabel(\"spore-print-color\", size=\"12\");\n",
    "\n",
    "sns.countplot(df[\"population\"], ax=ax[10,1])\n",
    "ax[10,1].set_title(\"count of population\", size=\"15\");\n",
    "ax[10,1].set_xlabel(\"population\", size=\"12\");\n",
    "plt.subplots_adjust(hspace = 0.75)"
   ]
  },
  {
   "cell_type": "markdown",
   "metadata": {},
   "source": [
    "## Data Cleaning"
   ]
  },
  {
   "cell_type": "markdown",
   "metadata": {},
   "source": [
    "- Based on the plots we used to explore the data we can tell that stalk-root had a lot of missing values. it will not be very useful in making predictions. This feature will be dropped.\n",
    "- Veil-type only contains values of type p which means that this column is the same for every instance in the dataset. It is therefore not useful in making predictions and it will be removed. \n",
    "- veil-color had very few values of any other type than white\n",
    "- ring-number had very few values of any other type than one ring\n",
    "- gill-attachment had very few values of any other type than free"
   ]
  },
  {
   "cell_type": "code",
   "execution_count": 13,
   "metadata": {},
   "outputs": [],
   "source": [
    "df.drop(columns=[\"veil-type\", \"stalk-root\", \"veil-color\", \"ring-number\", \"gill-attachment\"], inplace=True)"
   ]
  },
  {
   "cell_type": "markdown",
   "metadata": {},
   "source": [
    "The target variable is set to 0 = poisonous and 1 = edible."
   ]
  },
  {
   "cell_type": "code",
   "execution_count": 14,
   "metadata": {},
   "outputs": [],
   "source": [
    "df[\"class\"] = (df[\"class\"] == \"e\").astype(int)"
   ]
  },
  {
   "cell_type": "markdown",
   "metadata": {},
   "source": [
    "Since all of the data we are working with is categorical we need to get dummies of the dataframe so we can use it in scikit-learn."
   ]
  },
  {
   "cell_type": "code",
   "execution_count": 15,
   "metadata": {},
   "outputs": [
    {
     "data": {
      "text/plain": [
       "(8124, 102)"
      ]
     },
     "execution_count": 15,
     "metadata": {},
     "output_type": "execute_result"
    }
   ],
   "source": [
    "columns = df.columns[df.columns != \"class\"]\n",
    "df1 = df.drop(columns=[\"class\"])\n",
    "df1 = pd.get_dummies(df1, columns=columns)\n",
    "df1.shape"
   ]
  },
  {
   "cell_type": "markdown",
   "metadata": {},
   "source": [
    "The dataframe now has 111 columns/features, that all contain numeric non-categorical data, ready for scikit-learn machine learning."
   ]
  },
  {
   "cell_type": "markdown",
   "metadata": {},
   "source": [
    "# Model 1 - Naive Bayes"
   ]
  },
  {
   "cell_type": "markdown",
   "metadata": {},
   "source": [
    "For the first model we will be using Naive Bayes, since this is a very fast and easy classification model to implement. However we should be careful of strongly correlated values."
   ]
  },
  {
   "cell_type": "code",
   "execution_count": 16,
   "metadata": {},
   "outputs": [],
   "source": [
    "X = df1.values\n",
    "y = df[\"class\"].values\n",
    "X_train, X_test, y_train, y_test = train_test_split(X, y, test_size=0.3, random_state=42)"
   ]
  },
  {
   "cell_type": "markdown",
   "metadata": {},
   "source": [
    "#### Accuracy\n",
    "When looking at the baseline accuracy this seems reasonable from the plot we made in exploration of the class variable, where we saw a distribution of almost 50/50. The accuracy of the model however comes out to 0.981 which is very very high. It seems that the data we are working with gives extremely good predictions when using all the features of the set."
   ]
  },
  {
   "cell_type": "code",
   "execution_count": 17,
   "metadata": {},
   "outputs": [
    {
     "name": "stdout",
     "output_type": "stream",
     "text": [
      "The baseline accuracy is: 0.481\n",
      "The accuracy of the model is: 0.981\n"
     ]
    }
   ],
   "source": [
    "clf = GaussianNB()\n",
    "clf.fit(X_train, y_train)\n",
    "y_pred = clf.predict(X_test)\n",
    "\n",
    "print(\"The baseline accuracy is: {:.3}\".format(1 - y_train.mean()))\n",
    "print(\"The accuracy of the model is: {:.3}\".format(clf.score(X_test, y_test)))"
   ]
  },
  {
   "cell_type": "code",
   "execution_count": 18,
   "metadata": {},
   "outputs": [],
   "source": [
    "def print_conf_mtx(y_true, y_pred, classes=None):\n",
    "    \"\"\" Print a confusion matrix (two classes only). \"\"\"\n",
    "    \n",
    "    if not classes:\n",
    "        classes = ['poisonous', ' edible']\n",
    "   \t \n",
    "    # formatting\n",
    "    max_class_len = max([len(s) for s in classes])\n",
    "    m = max(max_class_len, len('predicted')//2 + 1)\n",
    "    n = max(len('actual')+1, max_class_len)\n",
    "    left   \t= '{:<10s}'.replace('10',str(n))\n",
    "    right  \t= '{:>10s}'.replace('10',str(m))\n",
    "    big_center = '{:^20s}'.replace('20',str(m*2))\n",
    "    \n",
    "    cm = confusion_matrix(y_test, y_pred)\n",
    "    print((left+big_center).format('', 'predicted'))\n",
    "    print((left+right+right).format('actual', classes[0], classes[1]))\n",
    "    print((left+right+right).format(classes[0], str(cm[0,0]), str(cm[0,1])))\n",
    "    print((left+right+right).format(classes[1], str(cm[1,0]), str(cm[1,1])))\n",
    "\n",
    "def getPrecision(y_true, y_pred):\n",
    "    cm = confusion_matrix(y_test, y_pred)\n",
    "    pospos = cm[[1],1]\n",
    "    poscol = cm[[0],1]\n",
    "    return (pospos / (pospos + poscol))[0]\n",
    "\n",
    "def getRecall(y_true, y_pred):\n",
    "    cm = confusion_matrix(y_test, y_pred)\n",
    "    #print(cm.shape)\n",
    "    pospos = cm[[1],1]\n",
    "    posrow = cm[[1],0]\n",
    "    return (pospos / (pospos + posrow))[0]\n",
    "\n",
    "def precisionRecallCurve(y_probs, y_test):\n",
    "    thresholds = np.linspace(0,1,100)\n",
    "    precision_vals = []\n",
    "    recall_vals = []\n",
    "    for t in thresholds:\n",
    "        y_pred = (y_probs > t).astype(int)\n",
    "        precision_vals.append(precision_score(y_pred, y_test))\n",
    "        recall_vals.append(recall_score(y_pred, y_test))\n",
    "    ticks = np.linspace(0,1,10)\n",
    "    labels = ticks.round(1)\n",
    "    precision_vals = np.array(precision_vals)\n",
    "    recall_vals = np.array(recall_vals)\n",
    "    precision_vals = np.insert(precision_vals, 0, 1.0)\n",
    "    recall_vals = np.insert(recall_vals, 0, 0)\n",
    "    recall_vals[-1] = 1.0\n",
    "    plt.title(\"Precision/Recall\")\n",
    "    plt.xlabel(\"Recall\")\n",
    "    plt.ylabel(\"Precision\")\n",
    "    plt.fill_between(recall_vals, precision_vals, alpha=0.2, color='b')\n",
    "    plt.plot(recall_vals, precision_vals)\n"
   ]
  },
  {
   "cell_type": "markdown",
   "metadata": {},
   "source": [
    "#### Confusion Matrix\n",
    "\n",
    "When looking at the confusion matrix it looks like both the precision and recall values are very good. The precision is better than the recall, which is very important for this kind of classification problem it is very important to get the ones predicted to be edible to actually be edible because the consequences of false positives in this case could be death."
   ]
  },
  {
   "cell_type": "code",
   "execution_count": 19,
   "metadata": {},
   "outputs": [
    {
     "name": "stdout",
     "output_type": "stream",
     "text": [
      "             predicted     \n",
      "actual   poisonous   edible\n",
      "poisonous     1180        1\n",
      " edible         46     1211\n"
     ]
    }
   ],
   "source": [
    "print_conf_mtx(y_test, y_pred)"
   ]
  },
  {
   "cell_type": "markdown",
   "metadata": {},
   "source": [
    "#### Precision/Recall\n",
    "\n",
    "- Precision: of the positive predictions, what fraction are correct\n",
    "- Recall: of the positive cases, which fraction are predicted positive\n",
    "\n",
    "We definitely want a higher precision than recall here even though there in this canse only is a very small difference."
   ]
  },
  {
   "cell_type": "code",
   "execution_count": 20,
   "metadata": {},
   "outputs": [
    {
     "name": "stdout",
     "output_type": "stream",
     "text": [
      "Precision: 1.00\n",
      "Recall: 0.96\n"
     ]
    }
   ],
   "source": [
    "print(\"Precision: {:.2f}\".format(getPrecision(y_test, y_pred)))\n",
    "print(\"Recall: {:.2f}\".format(getRecall(y_test, y_pred)))"
   ]
  },
  {
   "cell_type": "code",
   "execution_count": 21,
   "metadata": {},
   "outputs": [],
   "source": [
    "te_errs = []\n",
    "tr_errs = []\n",
    "tr_sizes = np.linspace(100, X_train.shape[0], 10).astype(int)\n",
    "for tr_size in tr_sizes:\n",
    "  X_train1 = X_train[:tr_size,:]\n",
    "  y_train1 = y_train[:tr_size]\n",
    "  \n",
    "  clf.fit(X_train1, y_train1)\n",
    "\n",
    "  tr_predicted = clf.predict(X_train1)\n",
    "  err = (tr_predicted != y_train1).mean()\n",
    "  tr_errs.append(err)\n",
    "  \n",
    "  te_predicted = clf.predict(X_test)\n",
    "  err = (te_predicted != y_test).mean()\n",
    "  te_errs.append(err)"
   ]
  },
  {
   "cell_type": "markdown",
   "metadata": {},
   "source": [
    "#### Learning Curve\n",
    "\n",
    "Looking at the learning cure we can tell that the error is very small, even at the beginning of the graph. And the graphs are following each other very very closely. "
   ]
  },
  {
   "cell_type": "code",
   "execution_count": 22,
   "metadata": {},
   "outputs": [
    {
     "data": {
      "image/png": "[encoded data removed]",
      "text/plain": [
       "<Figure size 720x360 with 1 Axes>"
      ]
     },
     "metadata": {
      "needs_background": "light"
     },
     "output_type": "display_data"
    }
   ],
   "source": [
    "plt.figure(figsize=(10,5))\n",
    "sns.lineplot(x=tr_sizes, y=te_errs);\n",
    "sns.lineplot(x=tr_sizes, y=tr_errs);\n",
    "plt.title(\"Learning curve Model 1\", size=15);\n",
    "plt.xlabel(\"Training set size\", size=15);\n",
    "plt.ylabel(\"Error\", size=15);\n",
    "plt.legend(['Test Data', 'Training Data']);"
   ]
  },
  {
   "cell_type": "markdown",
   "metadata": {},
   "source": [
    "# Model 2 - Naive Bayes with Feature Selection"
   ]
  },
  {
   "cell_type": "markdown",
   "metadata": {},
   "source": [
    "#### Feature Selection:"
   ]
  },
  {
   "cell_type": "markdown",
   "metadata": {},
   "source": [
    "For the second model we will do feature selection to try to see if we can get the same accuracy as in the previous model with fewer features. When letting the algorithm pick the best 10 columns, we can see that we get an accuracy of 1 at feature number 6."
   ]
  },
  {
   "cell_type": "code",
   "execution_count": 23,
   "metadata": {},
   "outputs": [],
   "source": [
    "X = df1.values\n",
    "y = df[\"class\"].values\n",
    "\n",
    "X_train, X_test, y_train, y_test = train_test_split(X, y, test_size=0.3, random_state=42)\n",
    "clf2 = GaussianNB()\n",
    "clf2.fit(X_train, y_train);\n",
    "\n",
    "\n",
    "def bestFeatures(num):\n",
    "    remaining = list(range(X_train.shape[1]))\n",
    "    selected = []\n",
    "    n = num\n",
    "    while len(selected) < n:\n",
    "        min_acc = -1e7\n",
    "        for i in remaining:\n",
    "            X_i = X_train[:,selected+[i]]\n",
    "            scores = cross_val_score(GaussianNB(), X_i, y_train,\n",
    "           scoring='accuracy', cv=3)\n",
    "            accuracy = scores.mean() \n",
    "            if accuracy > min_acc:\n",
    "                min_acc = accuracy\n",
    "                i_min = i\n",
    "\n",
    "        remaining.remove(i_min)\n",
    "        selected.append(i_min)\n",
    "        print('num features: {}; accuracy: {:.2f}'.format(len(selected), min_acc))\n",
    "    return selected"
   ]
  },
  {
   "cell_type": "code",
   "execution_count": 24,
   "metadata": {},
   "outputs": [
    {
     "name": "stdout",
     "output_type": "stream",
     "text": [
      "num features: 1; accuracy: 0.89\n",
      "num features: 2; accuracy: 0.94\n",
      "num features: 3; accuracy: 0.96\n",
      "num features: 4; accuracy: 0.96\n",
      "num features: 5; accuracy: 0.99\n",
      "num features: 6; accuracy: 1.00\n",
      "num features: 7; accuracy: 1.00\n",
      "num features: 8; accuracy: 1.00\n",
      "num features: 9; accuracy: 1.00\n",
      "num features: 10; accuracy: 1.00\n"
     ]
    }
   ],
   "source": [
    "selected = df1.columns[bestFeatures(10)]"
   ]
  },
  {
   "cell_type": "markdown",
   "metadata": {},
   "source": [
    "Here we see that the best features picked by the algorithm are to do with odor, habitat and spore print color. These are features that might be easy for people to identify, however spore prints might not always be present and stalk color below the ring can also be hard to distinguish. We will explore if we can find such features that are easier to observe and give good accuracy in the next model."
   ]
  },
  {
   "cell_type": "code",
   "execution_count": 25,
   "metadata": {},
   "outputs": [
    {
     "name": "stdout",
     "output_type": "stream",
     "text": [
      "The best 6 features are: ['odor_n' 'odor_a' 'habitat_m' 'spore-print-color_r' 'odor_l'\n",
      " 'stalk-color-below-ring_y']\n"
     ]
    }
   ],
   "source": [
    "predictors = selected[0:6].values\n",
    "print(\"The best 6 features are:\", predictors)"
   ]
  },
  {
   "cell_type": "markdown",
   "metadata": {},
   "source": [
    "#### Correlation Plot of chosen features\n",
    "\n",
    "This heatmap shows the correlation between the features chosen in feature selection. Naive Bayes models don't do well with strongly correlated features, in this plot we can tell that habitat seems to be somewhat correlated with odors almond and anise but the model does not seem to suffer from this."
   ]
  },
  {
   "cell_type": "code",
   "execution_count": 26,
   "metadata": {},
   "outputs": [
    {
     "data": {
      "image/png": "[encoded data removed]",
      "text/plain": [
       "<Figure size 720x360 with 2 Axes>"
      ]
     },
     "metadata": {
      "needs_background": "light"
     },
     "output_type": "display_data"
    }
   ],
   "source": [
    "plt.figure(figsize=(10,5))\n",
    "corr = df1[predictors].corr();\n",
    "sns.heatmap(corr);\n",
    "plt.title(\"Heatmap of features used in model 2\");"
   ]
  },
  {
   "cell_type": "markdown",
   "metadata": {},
   "source": [
    "Training our new model using the predictors found by feature selection"
   ]
  },
  {
   "cell_type": "code",
   "execution_count": 27,
   "metadata": {},
   "outputs": [],
   "source": [
    "X = df1[predictors].values\n",
    "y = df[\"class\"].values\n",
    "\n",
    "X_train, X_test, y_train, y_test = train_test_split(X,y, test_size=0.3, random_state=42)\n",
    "\n",
    "clf2 = GaussianNB();\n",
    "clf2.fit(X_train, y_train);"
   ]
  },
  {
   "cell_type": "markdown",
   "metadata": {},
   "source": [
    "#### Accuracy\n",
    "Looking at the accuracy for this model it has gone up by 0.01 percent using these six predictors. This is a very good model for predicting edible mushrooms."
   ]
  },
  {
   "cell_type": "code",
   "execution_count": 28,
   "metadata": {},
   "outputs": [
    {
     "name": "stdout",
     "output_type": "stream",
     "text": [
      "The baseline accuracy is: 0.481\n",
      "The accuracy of the model is: 0.996\n"
     ]
    }
   ],
   "source": [
    "y_pred = clf2.predict(X_test)\n",
    "print(\"The baseline accuracy is: {:.3}\".format(1 - y_train.mean()))\n",
    "print(\"The accuracy of the model is: {:.3}\".format(clf2.score(X_test, y_test)))"
   ]
  },
  {
   "cell_type": "markdown",
   "metadata": {},
   "source": [
    "#### Confusion Matrix:\n",
    "\n",
    "Looking at the confusion Matrix for the model we can tell that the results have changed ever so slightly. There is now a better Recall value while Precision has gone a bit down. One could argue that this development is not favourable since it is very bad to predict a mushroom to be edible and it ending up actually being poisonous."
   ]
  },
  {
   "cell_type": "code",
   "execution_count": 29,
   "metadata": {},
   "outputs": [
    {
     "name": "stdout",
     "output_type": "stream",
     "text": [
      "             predicted     \n",
      "actual   poisonous   edible\n",
      "poisonous     1172        9\n",
      " edible          0     1257\n"
     ]
    }
   ],
   "source": [
    "print_conf_mtx(y_test, y_pred)"
   ]
  },
  {
   "cell_type": "markdown",
   "metadata": {},
   "source": [
    "#### Precision/Recall:\n",
    "\n",
    "The precision recall values are confirming what we saw in the confusion matrix, that Recall is now perfect while Precision has gone down, even if only by a little."
   ]
  },
  {
   "cell_type": "code",
   "execution_count": 30,
   "metadata": {},
   "outputs": [
    {
     "name": "stdout",
     "output_type": "stream",
     "text": [
      "Precision: 0.993\n",
      "Recall: 1.000\n"
     ]
    }
   ],
   "source": [
    "print(\"Precision: {:.3f}\".format(getPrecision(y_test, y_pred)))\n",
    "print(\"Recall: {:.3f}\".format(getRecall(y_test, y_pred)))"
   ]
  },
  {
   "cell_type": "markdown",
   "metadata": {},
   "source": [
    "#### Learning Curve:\n",
    "\n",
    "The learning curve looks very interesting. We can tell that the error is very very small. We do not seem to have a high variance case since the training error is so low and the gap between the curves is pretty small. It does not look like a high bias problem either since the training error is so low. It looks like the model is fitted very well to the training data and that it works very well for the test data."
   ]
  },
  {
   "cell_type": "code",
   "execution_count": 31,
   "metadata": {},
   "outputs": [],
   "source": [
    "te_errs = []\n",
    "tr_errs = []\n",
    "tr_sizes = np.linspace(100, X_train.shape[0], 10).astype(int)\n",
    "for tr_size in tr_sizes:\n",
    "  X_train1 = X_train[:tr_size,:]\n",
    "  y_train1 = y_train[:tr_size]\n",
    "  \n",
    "  clf2.fit(X_train1, y_train1)\n",
    "\n",
    "  tr_predicted = clf2.predict(X_train1)\n",
    "  err = (tr_predicted != y_train1).mean()\n",
    "  tr_errs.append(err)\n",
    "  \n",
    "  te_predicted = clf2.predict(X_test)\n",
    "  err = (te_predicted != y_test).mean()\n",
    "  te_errs.append(err)"
   ]
  },
  {
   "cell_type": "code",
   "execution_count": 32,
   "metadata": {},
   "outputs": [
    {
     "data": {
      "image/png": "[encoded data removed]",
      "text/plain": [
       "<Figure size 720x360 with 1 Axes>"
      ]
     },
     "metadata": {
      "needs_background": "light"
     },
     "output_type": "display_data"
    }
   ],
   "source": [
    "plt.figure(figsize=(10,5))\n",
    "sns.lineplot(x=tr_sizes, y=te_errs);\n",
    "sns.lineplot(x=tr_sizes, y=tr_errs);\n",
    "plt.title(\"Learning curve Model 2\", size=15);\n",
    "plt.xlabel(\"Training set size\", size=15);\n",
    "plt.ylabel(\"Error\", size=15);\n",
    "plt.legend(['Test Data', 'Training Data']);"
   ]
  },
  {
   "cell_type": "markdown",
   "metadata": {},
   "source": [
    "# Model 3 - Naive Bayes - Making the most usable prediction model"
   ]
  },
  {
   "cell_type": "markdown",
   "metadata": {},
   "source": [
    "In this model we will try to make to most usable prediction model possible by selecting features that are easy for people going shrooming to distiguish between. The features we selected are: \n",
    "- cap-surface\n",
    "- odor \n",
    "- cap-shape\n",
    "These are all features that should be easily distinguishable when going out looking for mushrooms and it should be easy for people to take note of these characteristics. We are getting dummy variables for these featues as they are categorical in nature."
   ]
  },
  {
   "cell_type": "code",
   "execution_count": 33,
   "metadata": {},
   "outputs": [],
   "source": [
    "cols = [\"cap-surface\", \"odor\", \"cap-shape\"]\n",
    "df3 = df[cols]\n",
    "df3 = pd.get_dummies(df3)"
   ]
  },
  {
   "cell_type": "code",
   "execution_count": 34,
   "metadata": {},
   "outputs": [],
   "source": [
    "X = df3.values\n",
    "\n",
    "X_train, X_test, y_train, y_test = train_test_split(X, y, test_size=0.3, random_state=42)\n",
    "clf3 = GaussianNB()\n",
    "clf3.fit(X_train, y_train);"
   ]
  },
  {
   "cell_type": "markdown",
   "metadata": {},
   "source": [
    "#### Forward feature selection: \n",
    "\n",
    "When doing forward feature selection based on the features we chose for this model, we get an accuracy of 99 when we get to 5 features."
   ]
  },
  {
   "cell_type": "code",
   "execution_count": 35,
   "metadata": {},
   "outputs": [
    {
     "name": "stdout",
     "output_type": "stream",
     "text": [
      "num features: 1; accuracy: 0.89\n",
      "num features: 2; accuracy: 0.94\n",
      "num features: 3; accuracy: 0.96\n",
      "num features: 4; accuracy: 0.96\n",
      "num features: 5; accuracy: 0.99\n"
     ]
    }
   ],
   "source": [
    "selected = df3.columns[bestFeatures(5)]"
   ]
  },
  {
   "cell_type": "markdown",
   "metadata": {},
   "source": [
    "The best five features to use for these predictions according to forward feature selection are: \n",
    "- odor none\n",
    "- odor almond\n",
    "- cap shape bell\n",
    "- cap shape conical\n",
    "- odor anise"
   ]
  },
  {
   "cell_type": "code",
   "execution_count": 36,
   "metadata": {},
   "outputs": [
    {
     "name": "stdout",
     "output_type": "stream",
     "text": [
      "The best 5 features are: ['odor_n' 'odor_a' 'cap-shape_b' 'cap-shape_c' 'odor_l']\n"
     ]
    }
   ],
   "source": [
    "predictors3 = selected[0:10].values\n",
    "print(\"The best 5 features are:\", predictors3)"
   ]
  },
  {
   "cell_type": "markdown",
   "metadata": {},
   "source": [
    "#### Correlation Plot\n",
    "\n",
    "It does not seem like any of the features used in this model are strongly correlated. This is very good for Naive bayes predictions."
   ]
  },
  {
   "cell_type": "code",
   "execution_count": 37,
   "metadata": {},
   "outputs": [
    {
     "data": {
      "image/png": "[encoded data removed]",
      "text/plain": [
       "<Figure size 720x360 with 2 Axes>"
      ]
     },
     "metadata": {
      "needs_background": "light"
     },
     "output_type": "display_data"
    }
   ],
   "source": [
    "plt.figure(figsize=(10,5))\n",
    "corr3 = df3[predictors3].corr();\n",
    "sns.heatmap(corr3);\n",
    "plt.title(\"Heatmap of features used in model2\");"
   ]
  },
  {
   "cell_type": "markdown",
   "metadata": {},
   "source": [
    "#### Accuracy\n",
    "\n",
    "The accuracy of the model is high at 0.985. This isn't a perfect model like we almost acheived with forward feature selection in the previous model, but it is still high enough to be reasonably good at predicting edible mushrooms."
   ]
  },
  {
   "cell_type": "code",
   "execution_count": 38,
   "metadata": {},
   "outputs": [
    {
     "name": "stdout",
     "output_type": "stream",
     "text": [
      "The baseline accuracy is: 0.481\n",
      "The accuracy of the model is: 0.985\n"
     ]
    }
   ],
   "source": [
    "y_pred = clf3.predict(X_test)\n",
    "print(\"The baseline accuracy is: {:.3}\".format(1 - y_train.mean()))\n",
    "print(\"The accuracy of the model is: {:.3}\".format(clf3.score(X_test, y_test)))"
   ]
  },
  {
   "cell_type": "markdown",
   "metadata": {},
   "source": [
    "#### Confusion Matrix\n",
    "\n",
    "When looking at the confusion matrix produced for this model we can tell that the recall is perfect while the precision is a little bit off. It is not much but there are still 36 mushrooms that will be classified aas edible that are actually poisonous. This is not a good outcome. However it is a very very small fraction. One could argue that is would be very important to get precision to 1 here, because you would not want people believing in your model and then ending up being severely poisoned. "
   ]
  },
  {
   "cell_type": "code",
   "execution_count": 39,
   "metadata": {},
   "outputs": [
    {
     "name": "stdout",
     "output_type": "stream",
     "text": [
      "             predicted     \n",
      "actual   poisonous   edible\n",
      "poisonous     1145       36\n",
      " edible          0     1257\n"
     ]
    }
   ],
   "source": [
    "print_conf_mtx(y_test, y_pred)"
   ]
  },
  {
   "cell_type": "markdown",
   "metadata": {},
   "source": [
    "#### Precision/ Recall\n",
    "\n",
    "Like stated in the previous paragraph we can tell that Recall is perfect and we have a little bit to go on when it comes to precision. Hwever, precision for this classification is still really good at 0.97."
   ]
  },
  {
   "cell_type": "code",
   "execution_count": 40,
   "metadata": {},
   "outputs": [
    {
     "name": "stdout",
     "output_type": "stream",
     "text": [
      "Precision: 0.972\n",
      "Recall: 1.000\n"
     ]
    }
   ],
   "source": [
    "print(\"Precision: {:.3f}\".format(getPrecision(y_test, y_pred)))\n",
    "print(\"Recall: {:.3f}\".format(getRecall(y_test, y_pred)))"
   ]
  },
  {
   "cell_type": "code",
   "execution_count": 41,
   "metadata": {},
   "outputs": [],
   "source": [
    "te_errs = []\n",
    "tr_errs = []\n",
    "tr_sizes = np.linspace(100, X_train.shape[0], 10).astype(int)\n",
    "for tr_size in tr_sizes:\n",
    "  X_train1 = X_train[:tr_size,:]\n",
    "  y_train1 = y_train[:tr_size]\n",
    "  \n",
    "  clf3.fit(X_train1, y_train1)\n",
    "\n",
    "  tr_predicted = clf3.predict(X_train1)\n",
    "  err = (tr_predicted != y_train1).mean()\n",
    "  tr_errs.append(err)\n",
    "  \n",
    "  te_predicted = clf3.predict(X_test)\n",
    "  err = (te_predicted != y_test).mean()\n",
    "  te_errs.append(err)"
   ]
  },
  {
   "cell_type": "markdown",
   "metadata": {},
   "source": [
    "#### Learning Curve\n",
    "\n",
    "This learning curve also shows us a very small error. However, it does look like we get a very low error for the training data that actaully goes back up a bit when getting to around 1500 in training size. We also have a point where the two curves intersect at right before 1000 instances. The two lines do however smooth out and stay fairly close to each other as more data is provided. It looks like it is stabilizing at around an error of 0.0150."
   ]
  },
  {
   "cell_type": "code",
   "execution_count": 42,
   "metadata": {},
   "outputs": [
    {
     "data": {
      "image/png": "[encoded data removed]",
      "text/plain": [
       "<Figure size 720x360 with 1 Axes>"
      ]
     },
     "metadata": {
      "needs_background": "light"
     },
     "output_type": "display_data"
    }
   ],
   "source": [
    "plt.figure(figsize=(10,5))\n",
    "sns.lineplot(x=tr_sizes, y=te_errs);\n",
    "sns.lineplot(x=tr_sizes, y=tr_errs);\n",
    "plt.title(\"Learning curve Model 1\", size=15);\n",
    "plt.xlabel(\"Training set size\", size=15);\n",
    "plt.ylabel(\"Error\", size=15);\n",
    "plt.legend(['Test Data', 'Training Data']);"
   ]
  },
  {
   "cell_type": "markdown",
   "metadata": {},
   "source": [
    "#### Conclusion Model 3: \n",
    "\n",
    "It looks like overall we ended up with a marginally lower accuracy and a little bit of a lower precision for this model than for the last model using feature selection on all features in the dataset. However this might be a more usable model for poeple actually in the woods looking for mushrooms. The features we worked with in this case are easier to distinguish than the ones found in the previous even more accurate model."
   ]
  },
  {
   "cell_type": "markdown",
   "metadata": {},
   "source": [
    "# Tree Classifiers"
   ]
  },
  {
   "cell_type": "markdown",
   "metadata": {},
   "source": [
    "# Model 4 - Tree Classification - All Features"
   ]
  },
  {
   "cell_type": "markdown",
   "metadata": {},
   "source": [
    "For the fourth model we are using a tree classifier to compare to our earlier naive bayes models. First we are making a model using all the features in the dataset to see if we get as good of an accuracy here as we did with Naive Bayes."
   ]
  },
  {
   "cell_type": "code",
   "execution_count": 43,
   "metadata": {},
   "outputs": [],
   "source": [
    "np.random.seed(42)"
   ]
  },
  {
   "cell_type": "code",
   "execution_count": 44,
   "metadata": {},
   "outputs": [],
   "source": [
    "X = df1.values\n",
    "\n",
    "X_train, X_test, y_train, y_test = train_test_split(X,y, test_size=0.3, random_state=42)\n",
    "\n",
    "clf4 = DecisionTreeClassifier(max_depth=3, random_state=0);\n",
    "clf4.fit(X_train, y_train);"
   ]
  },
  {
   "cell_type": "markdown",
   "metadata": {},
   "source": [
    "#### Tree Graph\n",
    "\n",
    "A graph displaying our model fit to the training data is produced. From the graph we can tell that our baseline accuracy should be 0.48 since looking at all data points, 48% of the mushrooms are poisonous. So if we haven't looked at the dataset at all before guessing that a mushroom is poisonous, we have a 48% chance of being right."
   ]
  },
  {
   "cell_type": "code",
   "execution_count": 45,
   "metadata": {},
   "outputs": [
    {
     "data": {
      "image/svg+xml": [
       "<?xml version=\"1.0\" encoding=\"UTF-8\" standalone=\"no\"?>\n",
       "<!DOCTYPE svg PUBLIC \"-//W3C//DTD SVG 1.1//EN\"\n",
       " \"http://www.w3.org/Graphics/SVG/1.1/DTD/svg11.dtd\">\n",
       "<!-- Generated by graphviz version 2.40.1 (20161225.0304)\n",
       " -->\n",
       "<!-- Title: Tree Pages: 1 -->\n",
       "<svg width=\"725pt\" height=\"433pt\"\n",
       " viewBox=\"0.00 0.00 725.00 433.00\" xmlns=\"http://www.w3.org/2000/svg\" xmlns:xlink=\"http://www.w3.org/1999/xlink\">\n",
       "<g id=\"graph0\" class=\"graph\" transform=\"scale(1 1) rotate(0) translate(4 429)\">\n",
       "<title>Tree</title>\n",
       "<polygon fill=\"#ffffff\" stroke=\"transparent\" points=\"-4,4 -4,-429 721,-429 721,4 -4,4\"/>\n",
       "<!-- 0 -->\n",
       "<g id=\"node1\" class=\"node\">\n",
       "<title>0</title>\n",
       "<path fill=\"#f1f8fd\" stroke=\"#000000\" d=\"M421,-425C421,-425 309,-425 309,-425 303,-425 297,-419 297,-413 297,-413 297,-354 297,-354 297,-348 303,-342 309,-342 309,-342 421,-342 421,-342 427,-342 433,-348 433,-354 433,-354 433,-413 433,-413 433,-419 427,-425 421,-425\"/>\n",
       "<text text-anchor=\"start\" x=\"325.5\" y=\"-409.8\" font-family=\"Helvetica,sans-Serif\" font-size=\"14.00\" fill=\"#000000\">odor_n ≤ 0.5</text>\n",
       "<text text-anchor=\"start\" x=\"336\" y=\"-394.8\" font-family=\"Helvetica,sans-Serif\" font-size=\"14.00\" fill=\"#000000\">gini = 0.5</text>\n",
       "<text text-anchor=\"start\" x=\"307\" y=\"-379.8\" font-family=\"Helvetica,sans-Serif\" font-size=\"14.00\" fill=\"#000000\">samples = 100.0%</text>\n",
       "<text text-anchor=\"start\" x=\"305\" y=\"-364.8\" font-family=\"Helvetica,sans-Serif\" font-size=\"14.00\" fill=\"#000000\">value = [0.48, 0.52]</text>\n",
       "<text text-anchor=\"start\" x=\"321.5\" y=\"-349.8\" font-family=\"Helvetica,sans-Serif\" font-size=\"14.00\" fill=\"#000000\">class = Edible</text>\n",
       "</g>\n",
       "<!-- 1 -->\n",
       "<g id=\"node2\" class=\"node\">\n",
       "<title>1</title>\n",
       "<path fill=\"#ea9a61\" stroke=\"#000000\" d=\"M326,-306C326,-306 214,-306 214,-306 208,-306 202,-300 202,-294 202,-294 202,-235 202,-235 202,-229 208,-223 214,-223 214,-223 326,-223 326,-223 332,-223 338,-229 338,-235 338,-235 338,-294 338,-294 338,-300 332,-306 326,-306\"/>\n",
       "<text text-anchor=\"start\" x=\"224\" y=\"-290.8\" font-family=\"Helvetica,sans-Serif\" font-size=\"14.00\" fill=\"#000000\">bruises_f ≤ 0.5</text>\n",
       "<text text-anchor=\"start\" x=\"237.5\" y=\"-275.8\" font-family=\"Helvetica,sans-Serif\" font-size=\"14.00\" fill=\"#000000\">gini = 0.28</text>\n",
       "<text text-anchor=\"start\" x=\"216\" y=\"-260.8\" font-family=\"Helvetica,sans-Serif\" font-size=\"14.00\" fill=\"#000000\">samples = 56.1%</text>\n",
       "<text text-anchor=\"start\" x=\"210\" y=\"-245.8\" font-family=\"Helvetica,sans-Serif\" font-size=\"14.00\" fill=\"#000000\">value = [0.83, 0.17]</text>\n",
       "<text text-anchor=\"start\" x=\"213\" y=\"-230.8\" font-family=\"Helvetica,sans-Serif\" font-size=\"14.00\" fill=\"#000000\">class = Poisonous</text>\n",
       "</g>\n",
       "<!-- 0&#45;&gt;1 -->\n",
       "<g id=\"edge1\" class=\"edge\">\n",
       "<title>0&#45;&gt;1</title>\n",
       "<path fill=\"none\" stroke=\"#000000\" d=\"M331.7736,-341.8796C324.6556,-332.9633 317.0661,-323.4565 309.7308,-314.268\"/>\n",
       "<polygon fill=\"#000000\" stroke=\"#000000\" points=\"312.3425,-311.9295 303.3682,-306.2981 306.8719,-316.2968 312.3425,-311.9295\"/>\n",
       "<text text-anchor=\"middle\" x=\"300.5819\" y=\"-327.4423\" font-family=\"Helvetica,sans-Serif\" font-size=\"14.00\" fill=\"#000000\">True</text>\n",
       "</g>\n",
       "<!-- 6 -->\n",
       "<g id=\"node7\" class=\"node\">\n",
       "<title>6</title>\n",
       "<path fill=\"#40a0e6\" stroke=\"#000000\" d=\"M532,-306C532,-306 390,-306 390,-306 384,-306 378,-300 378,-294 378,-294 378,-235 378,-235 378,-229 384,-223 390,-223 390,-223 532,-223 532,-223 538,-223 544,-229 544,-235 544,-235 544,-294 544,-294 544,-300 538,-306 532,-306\"/>\n",
       "<text text-anchor=\"start\" x=\"386\" y=\"-290.8\" font-family=\"Helvetica,sans-Serif\" font-size=\"14.00\" fill=\"#000000\">spore&#45;print&#45;color_r ≤ 0.5</text>\n",
       "<text text-anchor=\"start\" x=\"428.5\" y=\"-275.8\" font-family=\"Helvetica,sans-Serif\" font-size=\"14.00\" fill=\"#000000\">gini = 0.06</text>\n",
       "<text text-anchor=\"start\" x=\"407\" y=\"-260.8\" font-family=\"Helvetica,sans-Serif\" font-size=\"14.00\" fill=\"#000000\">samples = 43.9%</text>\n",
       "<text text-anchor=\"start\" x=\"401\" y=\"-245.8\" font-family=\"Helvetica,sans-Serif\" font-size=\"14.00\" fill=\"#000000\">value = [0.03, 0.97]</text>\n",
       "<text text-anchor=\"start\" x=\"417.5\" y=\"-230.8\" font-family=\"Helvetica,sans-Serif\" font-size=\"14.00\" fill=\"#000000\">class = Edible</text>\n",
       "</g>\n",
       "<!-- 0&#45;&gt;6 -->\n",
       "<g id=\"edge6\" class=\"edge\">\n",
       "<title>0&#45;&gt;6</title>\n",
       "<path fill=\"none\" stroke=\"#000000\" d=\"M398.5761,-341.8796C405.7691,-332.9633 413.4384,-323.4565 420.851,-314.268\"/>\n",
       "<polygon fill=\"#000000\" stroke=\"#000000\" points=\"423.7258,-316.2788 427.2805,-306.2981 418.2776,-311.8836 423.7258,-316.2788\"/>\n",
       "<text text-anchor=\"middle\" x=\"429.9398\" y=\"-327.4562\" font-family=\"Helvetica,sans-Serif\" font-size=\"14.00\" fill=\"#000000\">False</text>\n",
       "</g>\n",
       "<!-- 2 -->\n",
       "<g id=\"node3\" class=\"node\">\n",
       "<title>2</title>\n",
       "<path fill=\"#c1e1f7\" stroke=\"#000000\" d=\"M175,-187C175,-187 63,-187 63,-187 57,-187 51,-181 51,-175 51,-175 51,-116 51,-116 51,-110 57,-104 63,-104 63,-104 175,-104 175,-104 181,-104 187,-110 187,-116 187,-116 187,-175 187,-175 187,-181 181,-187 175,-187\"/>\n",
       "<text text-anchor=\"start\" x=\"81.5\" y=\"-171.8\" font-family=\"Helvetica,sans-Serif\" font-size=\"14.00\" fill=\"#000000\">odor_f ≤ 0.5</text>\n",
       "<text text-anchor=\"start\" x=\"86.5\" y=\"-156.8\" font-family=\"Helvetica,sans-Serif\" font-size=\"14.00\" fill=\"#000000\">gini = 0.48</text>\n",
       "<text text-anchor=\"start\" x=\"65\" y=\"-141.8\" font-family=\"Helvetica,sans-Serif\" font-size=\"14.00\" fill=\"#000000\">samples = 16.0%</text>\n",
       "<text text-anchor=\"start\" x=\"59\" y=\"-126.8\" font-family=\"Helvetica,sans-Serif\" font-size=\"14.00\" fill=\"#000000\">value = [0.41, 0.59]</text>\n",
       "<text text-anchor=\"start\" x=\"75.5\" y=\"-111.8\" font-family=\"Helvetica,sans-Serif\" font-size=\"14.00\" fill=\"#000000\">class = Edible</text>\n",
       "</g>\n",
       "<!-- 1&#45;&gt;2 -->\n",
       "<g id=\"edge2\" class=\"edge\">\n",
       "<title>1&#45;&gt;2</title>\n",
       "<path fill=\"none\" stroke=\"#000000\" d=\"M217.1875,-222.8796C205.1182,-213.368 192.1961,-203.1843 179.8212,-193.432\"/>\n",
       "<polygon fill=\"#000000\" stroke=\"#000000\" points=\"181.8032,-190.5377 171.7827,-187.0969 177.4704,-196.0356 181.8032,-190.5377\"/>\n",
       "</g>\n",
       "<!-- 5 -->\n",
       "<g id=\"node6\" class=\"node\">\n",
       "<title>5</title>\n",
       "<path fill=\"#e58139\" stroke=\"#000000\" d=\"M323,-179.5C323,-179.5 217,-179.5 217,-179.5 211,-179.5 205,-173.5 205,-167.5 205,-167.5 205,-123.5 205,-123.5 205,-117.5 211,-111.5 217,-111.5 217,-111.5 323,-111.5 323,-111.5 329,-111.5 335,-117.5 335,-123.5 335,-123.5 335,-167.5 335,-167.5 335,-173.5 329,-179.5 323,-179.5\"/>\n",
       "<text text-anchor=\"start\" x=\"241\" y=\"-164.3\" font-family=\"Helvetica,sans-Serif\" font-size=\"14.00\" fill=\"#000000\">gini = 0.0</text>\n",
       "<text text-anchor=\"start\" x=\"216\" y=\"-149.3\" font-family=\"Helvetica,sans-Serif\" font-size=\"14.00\" fill=\"#000000\">samples = 40.2%</text>\n",
       "<text text-anchor=\"start\" x=\"218\" y=\"-134.3\" font-family=\"Helvetica,sans-Serif\" font-size=\"14.00\" fill=\"#000000\">value = [1.0, 0.0]</text>\n",
       "<text text-anchor=\"start\" x=\"213\" y=\"-119.3\" font-family=\"Helvetica,sans-Serif\" font-size=\"14.00\" fill=\"#000000\">class = Poisonous</text>\n",
       "</g>\n",
       "<!-- 1&#45;&gt;5 -->\n",
       "<g id=\"edge5\" class=\"edge\">\n",
       "<title>1&#45;&gt;5</title>\n",
       "<path fill=\"none\" stroke=\"#000000\" d=\"M270,-222.8796C270,-212.2134 270,-200.7021 270,-189.9015\"/>\n",
       "<polygon fill=\"#000000\" stroke=\"#000000\" points=\"273.5001,-189.8149 270,-179.8149 266.5001,-189.815 273.5001,-189.8149\"/>\n",
       "</g>\n",
       "<!-- 3 -->\n",
       "<g id=\"node4\" class=\"node\">\n",
       "<title>3</title>\n",
       "<path fill=\"#77bced\" stroke=\"#000000\" d=\"M124,-68C124,-68 12,-68 12,-68 6,-68 0,-62 0,-56 0,-56 0,-12 0,-12 0,-6 6,0 12,0 12,0 124,0 124,0 130,0 136,-6 136,-12 136,-12 136,-56 136,-56 136,-62 130,-68 124,-68\"/>\n",
       "<text text-anchor=\"start\" x=\"35.5\" y=\"-52.8\" font-family=\"Helvetica,sans-Serif\" font-size=\"14.00\" fill=\"#000000\">gini = 0.36</text>\n",
       "<text text-anchor=\"start\" x=\"14\" y=\"-37.8\" font-family=\"Helvetica,sans-Serif\" font-size=\"14.00\" fill=\"#000000\">samples = 12.4%</text>\n",
       "<text text-anchor=\"start\" x=\"8\" y=\"-22.8\" font-family=\"Helvetica,sans-Serif\" font-size=\"14.00\" fill=\"#000000\">value = [0.24, 0.76]</text>\n",
       "<text text-anchor=\"start\" x=\"24.5\" y=\"-7.8\" font-family=\"Helvetica,sans-Serif\" font-size=\"14.00\" fill=\"#000000\">class = Edible</text>\n",
       "</g>\n",
       "<!-- 2&#45;&gt;3 -->\n",
       "<g id=\"edge3\" class=\"edge\">\n",
       "<title>2&#45;&gt;3</title>\n",
       "<path fill=\"none\" stroke=\"#000000\" d=\"M100.0095,-103.9815C96.0579,-95.3423 91.8828,-86.2144 87.8995,-77.5059\"/>\n",
       "<polygon fill=\"#000000\" stroke=\"#000000\" points=\"91.0146,-75.9017 83.6722,-68.2637 84.6489,-78.8134 91.0146,-75.9017\"/>\n",
       "</g>\n",
       "<!-- 4 -->\n",
       "<g id=\"node5\" class=\"node\">\n",
       "<title>4</title>\n",
       "<path fill=\"#e58139\" stroke=\"#000000\" d=\"M272,-68C272,-68 166,-68 166,-68 160,-68 154,-62 154,-56 154,-56 154,-12 154,-12 154,-6 160,0 166,0 166,0 272,0 272,0 278,0 284,-6 284,-12 284,-12 284,-56 284,-56 284,-62 278,-68 272,-68\"/>\n",
       "<text text-anchor=\"start\" x=\"190\" y=\"-52.8\" font-family=\"Helvetica,sans-Serif\" font-size=\"14.00\" fill=\"#000000\">gini = 0.0</text>\n",
       "<text text-anchor=\"start\" x=\"169\" y=\"-37.8\" font-family=\"Helvetica,sans-Serif\" font-size=\"14.00\" fill=\"#000000\">samples = 3.6%</text>\n",
       "<text text-anchor=\"start\" x=\"167\" y=\"-22.8\" font-family=\"Helvetica,sans-Serif\" font-size=\"14.00\" fill=\"#000000\">value = [1.0, 0.0]</text>\n",
       "<text text-anchor=\"start\" x=\"162\" y=\"-7.8\" font-family=\"Helvetica,sans-Serif\" font-size=\"14.00\" fill=\"#000000\">class = Poisonous</text>\n",
       "</g>\n",
       "<!-- 2&#45;&gt;4 -->\n",
       "<g id=\"edge4\" class=\"edge\">\n",
       "<title>2&#45;&gt;4</title>\n",
       "<path fill=\"none\" stroke=\"#000000\" d=\"M156.2363,-103.9815C164.4791,-94.7908 173.2178,-85.0472 181.4721,-75.8436\"/>\n",
       "<polygon fill=\"#000000\" stroke=\"#000000\" points=\"184.1991,-78.0451 188.2702,-68.2637 178.9879,-73.3714 184.1991,-78.0451\"/>\n",
       "</g>\n",
       "<!-- 7 -->\n",
       "<g id=\"node8\" class=\"node\">\n",
       "<title>7</title>\n",
       "<path fill=\"#3c9ee5\" stroke=\"#000000\" d=\"M556.5,-187C556.5,-187 365.5,-187 365.5,-187 359.5,-187 353.5,-181 353.5,-175 353.5,-175 353.5,-116 353.5,-116 353.5,-110 359.5,-104 365.5,-104 365.5,-104 556.5,-104 556.5,-104 562.5,-104 568.5,-110 568.5,-116 568.5,-116 568.5,-175 568.5,-175 568.5,-181 562.5,-187 556.5,-187\"/>\n",
       "<text text-anchor=\"start\" x=\"361.5\" y=\"-171.8\" font-family=\"Helvetica,sans-Serif\" font-size=\"14.00\" fill=\"#000000\">stalk&#45;surface&#45;below&#45;ring_y ≤ 0.5</text>\n",
       "<text text-anchor=\"start\" x=\"428.5\" y=\"-156.8\" font-family=\"Helvetica,sans-Serif\" font-size=\"14.00\" fill=\"#000000\">gini = 0.03</text>\n",
       "<text text-anchor=\"start\" x=\"407\" y=\"-141.8\" font-family=\"Helvetica,sans-Serif\" font-size=\"14.00\" fill=\"#000000\">samples = 43.0%</text>\n",
       "<text text-anchor=\"start\" x=\"401\" y=\"-126.8\" font-family=\"Helvetica,sans-Serif\" font-size=\"14.00\" fill=\"#000000\">value = [0.01, 0.99]</text>\n",
       "<text text-anchor=\"start\" x=\"417.5\" y=\"-111.8\" font-family=\"Helvetica,sans-Serif\" font-size=\"14.00\" fill=\"#000000\">class = Edible</text>\n",
       "</g>\n",
       "<!-- 6&#45;&gt;7 -->\n",
       "<g id=\"edge7\" class=\"edge\">\n",
       "<title>6&#45;&gt;7</title>\n",
       "<path fill=\"none\" stroke=\"#000000\" d=\"M461,-222.8796C461,-214.6838 461,-205.9891 461,-197.5013\"/>\n",
       "<polygon fill=\"#000000\" stroke=\"#000000\" points=\"464.5001,-197.298 461,-187.2981 457.5001,-197.2981 464.5001,-197.298\"/>\n",
       "</g>\n",
       "<!-- 10 -->\n",
       "<g id=\"node11\" class=\"node\">\n",
       "<title>10</title>\n",
       "<path fill=\"#e58139\" stroke=\"#000000\" d=\"M705,-179.5C705,-179.5 599,-179.5 599,-179.5 593,-179.5 587,-173.5 587,-167.5 587,-167.5 587,-123.5 587,-123.5 587,-117.5 593,-111.5 599,-111.5 599,-111.5 705,-111.5 705,-111.5 711,-111.5 717,-117.5 717,-123.5 717,-123.5 717,-167.5 717,-167.5 717,-173.5 711,-179.5 705,-179.5\"/>\n",
       "<text text-anchor=\"start\" x=\"623\" y=\"-164.3\" font-family=\"Helvetica,sans-Serif\" font-size=\"14.00\" fill=\"#000000\">gini = 0.0</text>\n",
       "<text text-anchor=\"start\" x=\"602\" y=\"-149.3\" font-family=\"Helvetica,sans-Serif\" font-size=\"14.00\" fill=\"#000000\">samples = 0.9%</text>\n",
       "<text text-anchor=\"start\" x=\"600\" y=\"-134.3\" font-family=\"Helvetica,sans-Serif\" font-size=\"14.00\" fill=\"#000000\">value = [1.0, 0.0]</text>\n",
       "<text text-anchor=\"start\" x=\"595\" y=\"-119.3\" font-family=\"Helvetica,sans-Serif\" font-size=\"14.00\" fill=\"#000000\">class = Poisonous</text>\n",
       "</g>\n",
       "<!-- 6&#45;&gt;10 -->\n",
       "<g id=\"edge10\" class=\"edge\">\n",
       "<title>6&#45;&gt;10</title>\n",
       "<path fill=\"none\" stroke=\"#000000\" d=\"M527.8025,-222.8796C547.5751,-210.5606 569.1569,-197.1143 588.7009,-184.9376\"/>\n",
       "<polygon fill=\"#000000\" stroke=\"#000000\" points=\"590.5944,-187.8817 597.2311,-179.623 586.8928,-181.9405 590.5944,-187.8817\"/>\n",
       "</g>\n",
       "<!-- 8 -->\n",
       "<g id=\"node9\" class=\"node\">\n",
       "<title>8</title>\n",
       "<path fill=\"#399de5\" stroke=\"#000000\" d=\"M462,-68C462,-68 362,-68 362,-68 356,-68 350,-62 350,-56 350,-56 350,-12 350,-12 350,-6 356,0 362,0 362,0 462,0 462,0 468,0 474,-6 474,-12 474,-12 474,-56 474,-56 474,-62 468,-68 462,-68\"/>\n",
       "<text text-anchor=\"start\" x=\"383\" y=\"-52.8\" font-family=\"Helvetica,sans-Serif\" font-size=\"14.00\" fill=\"#000000\">gini = 0.0</text>\n",
       "<text text-anchor=\"start\" x=\"358\" y=\"-37.8\" font-family=\"Helvetica,sans-Serif\" font-size=\"14.00\" fill=\"#000000\">samples = 42.3%</text>\n",
       "<text text-anchor=\"start\" x=\"360\" y=\"-22.8\" font-family=\"Helvetica,sans-Serif\" font-size=\"14.00\" fill=\"#000000\">value = [0.0, 1.0]</text>\n",
       "<text text-anchor=\"start\" x=\"368.5\" y=\"-7.8\" font-family=\"Helvetica,sans-Serif\" font-size=\"14.00\" fill=\"#000000\">class = Edible</text>\n",
       "</g>\n",
       "<!-- 7&#45;&gt;8 -->\n",
       "<g id=\"edge8\" class=\"edge\">\n",
       "<title>7&#45;&gt;8</title>\n",
       "<path fill=\"none\" stroke=\"#000000\" d=\"M442.7542,-103.9815C438.9576,-95.3423 434.9462,-86.2144 431.1192,-77.5059\"/>\n",
       "<polygon fill=\"#000000\" stroke=\"#000000\" points=\"434.2851,-76.0105 427.0576,-68.2637 427.8767,-78.8268 434.2851,-76.0105\"/>\n",
       "</g>\n",
       "<!-- 9 -->\n",
       "<g id=\"node10\" class=\"node\">\n",
       "<title>9</title>\n",
       "<path fill=\"#f0b48a\" stroke=\"#000000\" d=\"M616,-68C616,-68 504,-68 504,-68 498,-68 492,-62 492,-56 492,-56 492,-12 492,-12 492,-6 498,0 504,0 504,0 616,0 616,0 622,0 628,-6 628,-12 628,-12 628,-56 628,-56 628,-62 622,-68 616,-68\"/>\n",
       "<text text-anchor=\"start\" x=\"527.5\" y=\"-52.8\" font-family=\"Helvetica,sans-Serif\" font-size=\"14.00\" fill=\"#000000\">gini = 0.41</text>\n",
       "<text text-anchor=\"start\" x=\"510\" y=\"-37.8\" font-family=\"Helvetica,sans-Serif\" font-size=\"14.00\" fill=\"#000000\">samples = 0.7%</text>\n",
       "<text text-anchor=\"start\" x=\"500\" y=\"-22.8\" font-family=\"Helvetica,sans-Serif\" font-size=\"14.00\" fill=\"#000000\">value = [0.71, 0.29]</text>\n",
       "<text text-anchor=\"start\" x=\"503\" y=\"-7.8\" font-family=\"Helvetica,sans-Serif\" font-size=\"14.00\" fill=\"#000000\">class = Poisonous</text>\n",
       "</g>\n",
       "<!-- 7&#45;&gt;9 -->\n",
       "<g id=\"edge9\" class=\"edge\">\n",
       "<title>7&#45;&gt;9</title>\n",
       "<path fill=\"none\" stroke=\"#000000\" d=\"M497.8639,-103.9815C506.0243,-94.7908 514.6756,-85.0472 522.8474,-75.8436\"/>\n",
       "<polygon fill=\"#000000\" stroke=\"#000000\" points=\"525.5553,-78.0653 529.5775,-68.2637 520.3208,-73.4177 525.5553,-78.0653\"/>\n",
       "</g>\n",
       "</g>\n",
       "</svg>\n"
      ],
      "text/plain": [
       "<graphviz.files.Source at 0x1a17ff08d0>"
      ]
     },
     "execution_count": 45,
     "metadata": {},
     "output_type": "execute_result"
    }
   ],
   "source": [
    "target_names = ['Poisonous', 'Edible']\n",
    "dot_data = export_graphviz(clf4, precision=2,\n",
    "feature_names=df1.columns.values,\n",
    "proportion=True,\n",
    "class_names=target_names,\n",
    "filled=True, rounded=True,\n",
    "special_characters=True)\n",
    "graph = graphviz.Source(dot_data)\n",
    "graph"
   ]
  },
  {
   "cell_type": "markdown",
   "metadata": {},
   "source": [
    "#### Accuracy: \n",
    "\n",
    "The accuracy for this model is the same as we got in the first Naive bayes model. "
   ]
  },
  {
   "cell_type": "code",
   "execution_count": 46,
   "metadata": {},
   "outputs": [
    {
     "name": "stdout",
     "output_type": "stream",
     "text": [
      "Baseline Accuracy: 0.481\n",
      "Accuracy of Model: 0.981\n"
     ]
    }
   ],
   "source": [
    "print(\"Baseline Accuracy: {:.3}\".format(1-y_train.mean()))\n",
    "y_predict = clf.predict(X_test)\n",
    "print(\"Accuracy of Model: {:.3}\".format((y_predict == y_test).mean()))"
   ]
  },
  {
   "cell_type": "markdown",
   "metadata": {},
   "source": [
    "#### Confusion Matrix:\n",
    "\n",
    "When looking at the confusion matrix it does look identical to the Naive bayes model we made using all features of the dataset. The difference in the two models when it comes to precision and recall seem to be indistinguishable."
   ]
  },
  {
   "cell_type": "code",
   "execution_count": 47,
   "metadata": {},
   "outputs": [
    {
     "name": "stdout",
     "output_type": "stream",
     "text": [
      "             predicted     \n",
      "actual   poisonous   edible\n",
      "poisonous     1180        1\n",
      " edible         46     1211\n"
     ]
    }
   ],
   "source": [
    "print_conf_mtx(y_test, y_predict)"
   ]
  },
  {
   "cell_type": "markdown",
   "metadata": {},
   "source": [
    "#### Precision/Recall: \n",
    "\n",
    "The precision and recall values are good values for this classification problem as we would want the least amount of people to die, using our classifier. In this case 1 person would eat a mushrom wrongly classified as edible when it is not. This still gives us a precision of 1 when rounded to three decimals."
   ]
  },
  {
   "cell_type": "code",
   "execution_count": 48,
   "metadata": {},
   "outputs": [
    {
     "name": "stdout",
     "output_type": "stream",
     "text": [
      "Precision: 1.00\n",
      "Recall: 0.96\n"
     ]
    }
   ],
   "source": [
    "print(\"Precision: {:.2f}\".format(getPrecision(y_test, y_predict)))\n",
    "print(\"Recall: {:.2f}\".format(getRecall(y_test, y_predict)))"
   ]
  },
  {
   "cell_type": "code",
   "execution_count": 49,
   "metadata": {},
   "outputs": [],
   "source": [
    "te_errs = []\n",
    "tr_errs = []\n",
    "tr_sizes = np.linspace(100, X_train.shape[0], 10).astype(int)\n",
    "for tr_size in tr_sizes:\n",
    "  X_train1 = X_train[:tr_size,:]\n",
    "  y_train1 = y_train[:tr_size]\n",
    "  \n",
    "  clf4.fit(X_train1, y_train1)\n",
    "\n",
    "  tr_predicted = clf4.predict(X_train1)\n",
    "  err = (tr_predicted != y_train1).mean()\n",
    "  tr_errs.append(err)\n",
    "  \n",
    "  te_predicted = clf4.predict(X_test)\n",
    "  err = (te_predicted != y_test).mean()\n",
    "  te_errs.append(err)"
   ]
  },
  {
   "cell_type": "markdown",
   "metadata": {},
   "source": [
    "#### Learning Curve: \n",
    "\n",
    "The learning curve is what is the most different from our first naive bayes model using all features. We can tell that the error on the training data is pretty much stable except for a slight increase at the end of the graph. But the error is still very very small. The error on the test data decreases rapidly just like in the first model we made but then it straightens out and doesnt have a spike around 2000 instances like our naive bayaes model did. "
   ]
  },
  {
   "cell_type": "code",
   "execution_count": 50,
   "metadata": {},
   "outputs": [
    {
     "data": {
      "image/png": "[encoded data removed]",
      "text/plain": [
       "<Figure size 720x360 with 1 Axes>"
      ]
     },
     "metadata": {
      "needs_background": "light"
     },
     "output_type": "display_data"
    }
   ],
   "source": [
    "plt.figure(figsize=(10,5))\n",
    "sns.lineplot(x=tr_sizes, y=te_errs);\n",
    "sns.lineplot(x=tr_sizes, y=tr_errs);\n",
    "plt.title(\"Learning curve Model 4\", size=15);\n",
    "plt.xlabel(\"Training set size\", size=15);\n",
    "plt.ylabel(\"Error\", size=15);\n",
    "plt.legend(['Test Data', 'Training Data']);"
   ]
  },
  {
   "cell_type": "markdown",
   "metadata": {},
   "source": [
    "#### Conclusion Model 5: \n",
    "\n",
    "It seems like the tree classifier does just as well as the bayes model when using all the features of the dataset. The main difference between the two models is the learning cure and how the classifiers develop when getting more data to practice and test on."
   ]
  },
  {
   "cell_type": "markdown",
   "metadata": {},
   "source": [
    "# Model 5 - Tree Classifier - The Most Usable prediction model"
   ]
  },
  {
   "cell_type": "markdown",
   "metadata": {},
   "source": [
    "Earlier we defined a few features that were easy for people to identify when mushroom hunting and that gave a good enough accuracy to where it would be useful. We are now going to take a look at how a tree classifier treats the same features.\n",
    "The features in question are: \n",
    "- cap-surface\n",
    "- odor\n",
    "- cap-shape"
   ]
  },
  {
   "cell_type": "code",
   "execution_count": 51,
   "metadata": {},
   "outputs": [],
   "source": [
    "X = df3.values\n",
    "\n",
    "X_train, X_test, y_train, y_test = train_test_split(X, y, test_size=0.3, random_state=42)"
   ]
  },
  {
   "cell_type": "code",
   "execution_count": 52,
   "metadata": {},
   "outputs": [],
   "source": [
    "def bestTreeFeatures(num):\n",
    "    remaining = list(range(X_train.shape[1]))\n",
    "    selected = []\n",
    "    n = num\n",
    "    while len(selected) < n:\n",
    "        min_acc = -1e7\n",
    "        for i in remaining:\n",
    "            X_i = X_train[:,selected+[i]]\n",
    "            scores = cross_val_score(DecisionTreeClassifier(max_depth=5, random_state=42), X_i, y_train,\n",
    "           scoring='accuracy', cv=3)\n",
    "            accuracy = scores.mean() \n",
    "            if accuracy > min_acc:\n",
    "                min_acc = accuracy\n",
    "                i_min = i\n",
    "\n",
    "        remaining.remove(i_min)\n",
    "        selected.append(i_min)\n",
    "        print('num features: {}; accuracy: {:.2f}'.format(len(selected), min_acc))\n",
    "    return selected"
   ]
  },
  {
   "cell_type": "markdown",
   "metadata": {},
   "source": [
    "#### Forward feature selection\n",
    "\n",
    "When doing forward feature slection using the same 3 features made into dummy variables we can tell that this model actually reaches an accuracy of 0.99 at three features, as opposed to our previous model that needed 5 features. "
   ]
  },
  {
   "cell_type": "code",
   "execution_count": 53,
   "metadata": {},
   "outputs": [
    {
     "name": "stdout",
     "output_type": "stream",
     "text": [
      "num features: 1; accuracy: 0.89\n",
      "num features: 2; accuracy: 0.94\n",
      "num features: 3; accuracy: 0.99\n",
      "num features: 4; accuracy: 0.99\n",
      "num features: 5; accuracy: 0.99\n"
     ]
    }
   ],
   "source": [
    "selected = df3.columns[bestTreeFeatures(5)]"
   ]
  },
  {
   "cell_type": "markdown",
   "metadata": {},
   "source": [
    "Looking at the three best columns we can tell that this classifier actually gets a 0.99 accuracy only using odor, which is only one feature from our original dataframe. Now made into three columns using dummy variables. This is really interestng. Maybe people can distingush edible mushrooms based only on their smell.\n",
    "- odor none\n",
    "- odor almond\n",
    "- odor anis"
   ]
  },
  {
   "cell_type": "code",
   "execution_count": 54,
   "metadata": {},
   "outputs": [
    {
     "name": "stdout",
     "output_type": "stream",
     "text": [
      "The best 3 features are: ['odor_n' 'odor_a' 'odor_l']\n"
     ]
    }
   ],
   "source": [
    "predictors = selected[0:3].values\n",
    "print(\"The best 3 features are:\", predictors)"
   ]
  },
  {
   "cell_type": "markdown",
   "metadata": {},
   "source": [
    "#### Tree graph\n",
    "\n",
    "The tree we produce from fitting our model to the trainig data. The max depth is set to 3, and our baseline accuracy is once again 48 percent when predicting that a mushroom is poisonous. At the leaf nodes there is still a good amount of samples left. "
   ]
  },
  {
   "cell_type": "code",
   "execution_count": 55,
   "metadata": {},
   "outputs": [
    {
     "data": {
      "image/svg+xml": [
       "<?xml version=\"1.0\" encoding=\"UTF-8\" standalone=\"no\"?>\n",
       "<!DOCTYPE svg PUBLIC \"-//W3C//DTD SVG 1.1//EN\"\n",
       " \"http://www.w3.org/Graphics/SVG/1.1/DTD/svg11.dtd\">\n",
       "<!-- Generated by graphviz version 2.40.1 (20161225.0304)\n",
       " -->\n",
       "<!-- Title: Tree Pages: 1 -->\n",
       "<svg width=\"439pt\" height=\"433pt\"\n",
       " viewBox=\"0.00 0.00 439.00 433.00\" xmlns=\"http://www.w3.org/2000/svg\" xmlns:xlink=\"http://www.w3.org/1999/xlink\">\n",
       "<g id=\"graph0\" class=\"graph\" transform=\"scale(1 1) rotate(0) translate(4 429)\">\n",
       "<title>Tree</title>\n",
       "<polygon fill=\"#ffffff\" stroke=\"transparent\" points=\"-4,4 -4,-429 435,-429 435,4 -4,4\"/>\n",
       "<!-- 0 -->\n",
       "<g id=\"node1\" class=\"node\">\n",
       "<title>0</title>\n",
       "<path fill=\"#f1f8fd\" stroke=\"#000000\" d=\"M342,-425C342,-425 230,-425 230,-425 224,-425 218,-419 218,-413 218,-413 218,-354 218,-354 218,-348 224,-342 230,-342 230,-342 342,-342 342,-342 348,-342 354,-348 354,-354 354,-354 354,-413 354,-413 354,-419 348,-425 342,-425\"/>\n",
       "<text text-anchor=\"start\" x=\"246.5\" y=\"-409.8\" font-family=\"Helvetica,sans-Serif\" font-size=\"14.00\" fill=\"#000000\">odor_n ≤ 0.5</text>\n",
       "<text text-anchor=\"start\" x=\"257\" y=\"-394.8\" font-family=\"Helvetica,sans-Serif\" font-size=\"14.00\" fill=\"#000000\">gini = 0.5</text>\n",
       "<text text-anchor=\"start\" x=\"228\" y=\"-379.8\" font-family=\"Helvetica,sans-Serif\" font-size=\"14.00\" fill=\"#000000\">samples = 100.0%</text>\n",
       "<text text-anchor=\"start\" x=\"226\" y=\"-364.8\" font-family=\"Helvetica,sans-Serif\" font-size=\"14.00\" fill=\"#000000\">value = [0.48, 0.52]</text>\n",
       "<text text-anchor=\"start\" x=\"242.5\" y=\"-349.8\" font-family=\"Helvetica,sans-Serif\" font-size=\"14.00\" fill=\"#000000\">class = Edible</text>\n",
       "</g>\n",
       "<!-- 1 -->\n",
       "<g id=\"node2\" class=\"node\">\n",
       "<title>1</title>\n",
       "<path fill=\"#ea9a61\" stroke=\"#000000\" d=\"M265,-306C265,-306 153,-306 153,-306 147,-306 141,-300 141,-294 141,-294 141,-235 141,-235 141,-229 147,-223 153,-223 153,-223 265,-223 265,-223 271,-223 277,-229 277,-235 277,-235 277,-294 277,-294 277,-300 271,-306 265,-306\"/>\n",
       "<text text-anchor=\"start\" x=\"169.5\" y=\"-290.8\" font-family=\"Helvetica,sans-Serif\" font-size=\"14.00\" fill=\"#000000\">odor_a ≤ 0.5</text>\n",
       "<text text-anchor=\"start\" x=\"176.5\" y=\"-275.8\" font-family=\"Helvetica,sans-Serif\" font-size=\"14.00\" fill=\"#000000\">gini = 0.28</text>\n",
       "<text text-anchor=\"start\" x=\"155\" y=\"-260.8\" font-family=\"Helvetica,sans-Serif\" font-size=\"14.00\" fill=\"#000000\">samples = 56.1%</text>\n",
       "<text text-anchor=\"start\" x=\"149\" y=\"-245.8\" font-family=\"Helvetica,sans-Serif\" font-size=\"14.00\" fill=\"#000000\">value = [0.83, 0.17]</text>\n",
       "<text text-anchor=\"start\" x=\"152\" y=\"-230.8\" font-family=\"Helvetica,sans-Serif\" font-size=\"14.00\" fill=\"#000000\">class = Poisonous</text>\n",
       "</g>\n",
       "<!-- 0&#45;&gt;1 -->\n",
       "<g id=\"edge1\" class=\"edge\">\n",
       "<title>0&#45;&gt;1</title>\n",
       "<path fill=\"none\" stroke=\"#000000\" d=\"M259.0691,-341.8796C253.4163,-333.1434 247.3967,-323.8404 241.5634,-314.8253\"/>\n",
       "<polygon fill=\"#000000\" stroke=\"#000000\" points=\"244.4169,-312.7924 236.0458,-306.2981 238.5399,-316.5952 244.4169,-312.7924\"/>\n",
       "<text text-anchor=\"middle\" x=\"230.8076\" y=\"-327.0431\" font-family=\"Helvetica,sans-Serif\" font-size=\"14.00\" fill=\"#000000\">True</text>\n",
       "</g>\n",
       "<!-- 6 -->\n",
       "<g id=\"node7\" class=\"node\">\n",
       "<title>6</title>\n",
       "<path fill=\"#40a0e6\" stroke=\"#000000\" d=\"M419,-298.5C419,-298.5 307,-298.5 307,-298.5 301,-298.5 295,-292.5 295,-286.5 295,-286.5 295,-242.5 295,-242.5 295,-236.5 301,-230.5 307,-230.5 307,-230.5 419,-230.5 419,-230.5 425,-230.5 431,-236.5 431,-242.5 431,-242.5 431,-286.5 431,-286.5 431,-292.5 425,-298.5 419,-298.5\"/>\n",
       "<text text-anchor=\"start\" x=\"330.5\" y=\"-283.3\" font-family=\"Helvetica,sans-Serif\" font-size=\"14.00\" fill=\"#000000\">gini = 0.06</text>\n",
       "<text text-anchor=\"start\" x=\"309\" y=\"-268.3\" font-family=\"Helvetica,sans-Serif\" font-size=\"14.00\" fill=\"#000000\">samples = 43.9%</text>\n",
       "<text text-anchor=\"start\" x=\"303\" y=\"-253.3\" font-family=\"Helvetica,sans-Serif\" font-size=\"14.00\" fill=\"#000000\">value = [0.03, 0.97]</text>\n",
       "<text text-anchor=\"start\" x=\"319.5\" y=\"-238.3\" font-family=\"Helvetica,sans-Serif\" font-size=\"14.00\" fill=\"#000000\">class = Edible</text>\n",
       "</g>\n",
       "<!-- 0&#45;&gt;6 -->\n",
       "<g id=\"edge6\" class=\"edge\">\n",
       "<title>0&#45;&gt;6</title>\n",
       "<path fill=\"none\" stroke=\"#000000\" d=\"M312.9309,-341.8796C320.1883,-330.6636 328.0503,-318.5131 335.3465,-307.2372\"/>\n",
       "<polygon fill=\"#000000\" stroke=\"#000000\" points=\"338.3022,-309.112 340.7962,-298.8149 332.4252,-305.3093 338.3022,-309.112\"/>\n",
       "<text text-anchor=\"middle\" x=\"346.0344\" y=\"-319.56\" font-family=\"Helvetica,sans-Serif\" font-size=\"14.00\" fill=\"#000000\">False</text>\n",
       "</g>\n",
       "<!-- 2 -->\n",
       "<g id=\"node3\" class=\"node\">\n",
       "<title>2</title>\n",
       "<path fill=\"#e88d4c\" stroke=\"#000000\" d=\"M192,-187C192,-187 80,-187 80,-187 74,-187 68,-181 68,-175 68,-175 68,-116 68,-116 68,-110 74,-104 80,-104 80,-104 192,-104 192,-104 198,-104 204,-110 204,-116 204,-116 204,-175 204,-175 204,-181 198,-187 192,-187\"/>\n",
       "<text text-anchor=\"start\" x=\"99\" y=\"-171.8\" font-family=\"Helvetica,sans-Serif\" font-size=\"14.00\" fill=\"#000000\">odor_l ≤ 0.5</text>\n",
       "<text text-anchor=\"start\" x=\"103.5\" y=\"-156.8\" font-family=\"Helvetica,sans-Serif\" font-size=\"14.00\" fill=\"#000000\">gini = 0.16</text>\n",
       "<text text-anchor=\"start\" x=\"82\" y=\"-141.8\" font-family=\"Helvetica,sans-Serif\" font-size=\"14.00\" fill=\"#000000\">samples = 51.3%</text>\n",
       "<text text-anchor=\"start\" x=\"76\" y=\"-126.8\" font-family=\"Helvetica,sans-Serif\" font-size=\"14.00\" fill=\"#000000\">value = [0.91, 0.09]</text>\n",
       "<text text-anchor=\"start\" x=\"79\" y=\"-111.8\" font-family=\"Helvetica,sans-Serif\" font-size=\"14.00\" fill=\"#000000\">class = Poisonous</text>\n",
       "</g>\n",
       "<!-- 1&#45;&gt;2 -->\n",
       "<g id=\"edge2\" class=\"edge\">\n",
       "<title>1&#45;&gt;2</title>\n",
       "<path fill=\"none\" stroke=\"#000000\" d=\"M183.4681,-222.8796C178.109,-214.1434 172.4021,-204.8404 166.8718,-195.8253\"/>\n",
       "<polygon fill=\"#000000\" stroke=\"#000000\" points=\"169.8533,-193.9919 161.6408,-187.2981 163.8865,-197.6522 169.8533,-193.9919\"/>\n",
       "</g>\n",
       "<!-- 5 -->\n",
       "<g id=\"node6\" class=\"node\">\n",
       "<title>5</title>\n",
       "<path fill=\"#399de5\" stroke=\"#000000\" d=\"M330,-179.5C330,-179.5 234,-179.5 234,-179.5 228,-179.5 222,-173.5 222,-167.5 222,-167.5 222,-123.5 222,-123.5 222,-117.5 228,-111.5 234,-111.5 234,-111.5 330,-111.5 330,-111.5 336,-111.5 342,-117.5 342,-123.5 342,-123.5 342,-167.5 342,-167.5 342,-173.5 336,-179.5 330,-179.5\"/>\n",
       "<text text-anchor=\"start\" x=\"253\" y=\"-164.3\" font-family=\"Helvetica,sans-Serif\" font-size=\"14.00\" fill=\"#000000\">gini = 0.0</text>\n",
       "<text text-anchor=\"start\" x=\"232\" y=\"-149.3\" font-family=\"Helvetica,sans-Serif\" font-size=\"14.00\" fill=\"#000000\">samples = 4.9%</text>\n",
       "<text text-anchor=\"start\" x=\"230\" y=\"-134.3\" font-family=\"Helvetica,sans-Serif\" font-size=\"14.00\" fill=\"#000000\">value = [0.0, 1.0]</text>\n",
       "<text text-anchor=\"start\" x=\"238.5\" y=\"-119.3\" font-family=\"Helvetica,sans-Serif\" font-size=\"14.00\" fill=\"#000000\">class = Edible</text>\n",
       "</g>\n",
       "<!-- 1&#45;&gt;5 -->\n",
       "<g id=\"edge5\" class=\"edge\">\n",
       "<title>1&#45;&gt;5</title>\n",
       "<path fill=\"none\" stroke=\"#000000\" d=\"M234.5319,-222.8796C241.3448,-211.7735 248.7198,-199.7513 255.5794,-188.5691\"/>\n",
       "<polygon fill=\"#000000\" stroke=\"#000000\" points=\"258.704,-190.1691 260.9497,-179.8149 252.7372,-186.5087 258.704,-190.1691\"/>\n",
       "</g>\n",
       "<!-- 3 -->\n",
       "<g id=\"node4\" class=\"node\">\n",
       "<title>3</title>\n",
       "<path fill=\"#e58139\" stroke=\"#000000\" d=\"M118,-68C118,-68 12,-68 12,-68 6,-68 0,-62 0,-56 0,-56 0,-12 0,-12 0,-6 6,0 12,0 12,0 118,0 118,0 124,0 130,-6 130,-12 130,-12 130,-56 130,-56 130,-62 124,-68 118,-68\"/>\n",
       "<text text-anchor=\"start\" x=\"36\" y=\"-52.8\" font-family=\"Helvetica,sans-Serif\" font-size=\"14.00\" fill=\"#000000\">gini = 0.0</text>\n",
       "<text text-anchor=\"start\" x=\"11\" y=\"-37.8\" font-family=\"Helvetica,sans-Serif\" font-size=\"14.00\" fill=\"#000000\">samples = 46.7%</text>\n",
       "<text text-anchor=\"start\" x=\"13\" y=\"-22.8\" font-family=\"Helvetica,sans-Serif\" font-size=\"14.00\" fill=\"#000000\">value = [1.0, 0.0]</text>\n",
       "<text text-anchor=\"start\" x=\"8\" y=\"-7.8\" font-family=\"Helvetica,sans-Serif\" font-size=\"14.00\" fill=\"#000000\">class = Poisonous</text>\n",
       "</g>\n",
       "<!-- 2&#45;&gt;3 -->\n",
       "<g id=\"edge3\" class=\"edge\">\n",
       "<title>2&#45;&gt;3</title>\n",
       "<path fill=\"none\" stroke=\"#000000\" d=\"M109.5622,-103.9815C103.944,-95.1585 98.0012,-85.8258 92.3497,-76.9506\"/>\n",
       "<polygon fill=\"#000000\" stroke=\"#000000\" points=\"95.1416,-74.8188 86.8181,-68.2637 89.2371,-78.5787 95.1416,-74.8188\"/>\n",
       "</g>\n",
       "<!-- 4 -->\n",
       "<g id=\"node5\" class=\"node\">\n",
       "<title>4</title>\n",
       "<path fill=\"#399de5\" stroke=\"#000000\" d=\"M256,-68C256,-68 160,-68 160,-68 154,-68 148,-62 148,-56 148,-56 148,-12 148,-12 148,-6 154,0 160,0 160,0 256,0 256,0 262,0 268,-6 268,-12 268,-12 268,-56 268,-56 268,-62 262,-68 256,-68\"/>\n",
       "<text text-anchor=\"start\" x=\"179\" y=\"-52.8\" font-family=\"Helvetica,sans-Serif\" font-size=\"14.00\" fill=\"#000000\">gini = 0.0</text>\n",
       "<text text-anchor=\"start\" x=\"158\" y=\"-37.8\" font-family=\"Helvetica,sans-Serif\" font-size=\"14.00\" fill=\"#000000\">samples = 4.6%</text>\n",
       "<text text-anchor=\"start\" x=\"156\" y=\"-22.8\" font-family=\"Helvetica,sans-Serif\" font-size=\"14.00\" fill=\"#000000\">value = [0.0, 1.0]</text>\n",
       "<text text-anchor=\"start\" x=\"164.5\" y=\"-7.8\" font-family=\"Helvetica,sans-Serif\" font-size=\"14.00\" fill=\"#000000\">class = Edible</text>\n",
       "</g>\n",
       "<!-- 2&#45;&gt;4 -->\n",
       "<g id=\"edge4\" class=\"edge\">\n",
       "<title>2&#45;&gt;4</title>\n",
       "<path fill=\"none\" stroke=\"#000000\" d=\"M162.8101,-103.9815C168.5669,-95.0666 174.6596,-85.6313 180.4441,-76.6734\"/>\n",
       "<polygon fill=\"#000000\" stroke=\"#000000\" points=\"183.3901,-78.5631 185.8746,-68.2637 177.5096,-74.7658 183.3901,-78.5631\"/>\n",
       "</g>\n",
       "</g>\n",
       "</svg>\n"
      ],
      "text/plain": [
       "<graphviz.files.Source at 0x1a17ff7208>"
      ]
     },
     "execution_count": 55,
     "metadata": {},
     "output_type": "execute_result"
    }
   ],
   "source": [
    "X = df1[predictors].values\n",
    "\n",
    "X_train, X_test, y_train, y_test = train_test_split(X,y, test_size=0.3, random_state=42)\n",
    "\n",
    "clf5 = DecisionTreeClassifier(max_depth=3, random_state=0);\n",
    "clf5.fit(X_train, y_train);\n",
    "\n",
    "target_names = ['Poisonous', 'Edible']\n",
    "dot_data = export_graphviz(clf5, precision=2,\n",
    "feature_names=df1[predictors].columns.values,\n",
    "proportion=True,\n",
    "class_names=target_names,\n",
    "filled=True, rounded=True,\n",
    "special_characters=True)\n",
    "graph = graphviz.Source(dot_data)\n",
    "graph"
   ]
  },
  {
   "cell_type": "markdown",
   "metadata": {},
   "source": [
    "#### Accuracy \n",
    "\n",
    "The accuracy of this model is 0.001 worse than the previous model we used for predicting on these columns. The accuracy is however still very high."
   ]
  },
  {
   "cell_type": "code",
   "execution_count": 56,
   "metadata": {},
   "outputs": [
    {
     "name": "stdout",
     "output_type": "stream",
     "text": [
      "Baseline Accuracy: 0.481\n",
      "Model 5 Accuracy: 0.984\n"
     ]
    }
   ],
   "source": [
    "print(\"Baseline Accuracy: {:.3f}\".format(1-y_train.mean()))\n",
    "y_predict5 = clf5.predict(X_test)\n",
    "print(\"Model 5 Accuracy: {:.3f}\".format((y_predict5 == y_test).mean()))"
   ]
  },
  {
   "cell_type": "markdown",
   "metadata": {},
   "source": [
    "#### Confusion Matrix\n",
    "\n",
    "In this confusion matrix we have two more instances that were predicted edible that are in fac poisonous. We can expect precision to be marginally lower in this model than in the Naive Bayes model. Recall is still at 1. "
   ]
  },
  {
   "cell_type": "code",
   "execution_count": 57,
   "metadata": {},
   "outputs": [
    {
     "name": "stdout",
     "output_type": "stream",
     "text": [
      "             predicted     \n",
      "actual   poisonous   edible\n",
      "poisonous     1142       39\n",
      " edible          0     1257\n"
     ]
    }
   ],
   "source": [
    "print_conf_mtx(y_test, y_predict5)"
   ]
  },
  {
   "cell_type": "raw",
   "metadata": {},
   "source": [
    "#### Precision/Recall\n",
    "We can tell that precision has decreased by 0.002 points in this model. This is not a favorable outcome as this would mean two more people could potentially get sick from eating a mushroom that is predicted edible and was not. "
   ]
  },
  {
   "cell_type": "code",
   "execution_count": 58,
   "metadata": {},
   "outputs": [
    {
     "name": "stdout",
     "output_type": "stream",
     "text": [
      "Precision: 0.970\n",
      "Recall: 1.000\n"
     ]
    }
   ],
   "source": [
    "print(\"Precision: {:.3f}\".format(getPrecision(y_test, y_predict5)))\n",
    "print(\"Recall: {:.3f}\".format(getRecall(y_test, y_predict5)))"
   ]
  },
  {
   "cell_type": "markdown",
   "metadata": {},
   "source": [
    "#### Precision / Recall Curve\n",
    "\n",
    "The following precision/recall curve is close to a perfect curve which supports the confusion matrix we got for this model. We can see that there is a drop in precision when recall goes from 0.9 to 1.0. "
   ]
  },
  {
   "cell_type": "code",
   "execution_count": 59,
   "metadata": {},
   "outputs": [
    {
     "data": {
      "image/png": "[encoded data removed]",
      "text/plain": [
       "<Figure size 432x288 with 1 Axes>"
      ]
     },
     "metadata": {
      "needs_background": "light"
     },
     "output_type": "display_data"
    }
   ],
   "source": [
    "y_probs = clf5.predict_proba(X_test)\n",
    "y_probs = y_probs[:,1]\n",
    "precisionRecallCurve(y_probs, y_test)"
   ]
  },
  {
   "cell_type": "markdown",
   "metadata": {},
   "source": [
    "#### ROC curve"
   ]
  },
  {
   "cell_type": "markdown",
   "metadata": {},
   "source": [
    "By looking at the ROC curve, we can see the same trend from the precision/recall curve that the model predicts some false positive while true positive is nearly perfect with an AUC rating of 0.99."
   ]
  },
  {
   "cell_type": "code",
   "execution_count": 60,
   "metadata": {},
   "outputs": [
    {
     "data": {
      "image/png": "[encoded data removed]",
      "text/plain": [
       "<Figure size 432x288 with 1 Axes>"
      ]
     },
     "metadata": {
      "needs_background": "light"
     },
     "output_type": "display_data"
    },
    {
     "name": "stdout",
     "output_type": "stream",
     "text": [
      "AUC: 0.99\n"
     ]
    }
   ],
   "source": [
    "auc = roc_auc_score(y_test, y_probs)\n",
    "fpr, tpr, thresholds = roc_curve(y_test, y_probs)\n",
    "plt.plot(fpr, tpr, color='red', label='ROC')\n",
    "plt.plot([0, 1], [0, 1], color='black', linestyle='--')\n",
    "plt.ylabel('True Positive Rate')\n",
    "plt.xlabel('False Positive Rate')\n",
    "plt.title('ROC curve for Edible Mushrooms')\n",
    "plt.legend()\n",
    "plt.show()\n",
    "print('AUC: %.2f' % auc)"
   ]
  },
  {
   "cell_type": "markdown",
   "metadata": {},
   "source": [
    "#### Learning Curve"
   ]
  },
  {
   "cell_type": "code",
   "execution_count": 61,
   "metadata": {},
   "outputs": [],
   "source": [
    "te_errs = []\n",
    "tr_errs = []\n",
    "tr_sizes = np.linspace(100, X_train.shape[0], 10).astype(int)\n",
    "for tr_size in tr_sizes:\n",
    "  X_train1 = X_train[:tr_size,:]\n",
    "  y_train1 = y_train[:tr_size]\n",
    "  \n",
    "  clf5.fit(X_train1, y_train1)\n",
    "\n",
    "  tr_predicted = clf5.predict(X_train1)\n",
    "  err = (tr_predicted != y_train1).mean()\n",
    "  tr_errs.append(err)\n",
    "  \n",
    "  te_predicted = clf5.predict(X_test)\n",
    "  err = (te_predicted != y_test).mean()\n",
    "  te_errs.append(err)"
   ]
  },
  {
   "cell_type": "code",
   "execution_count": 62,
   "metadata": {},
   "outputs": [
    {
     "data": {
      "image/png": "[encoded data removed]",
      "text/plain": [
       "<Figure size 720x360 with 1 Axes>"
      ]
     },
     "metadata": {
      "needs_background": "light"
     },
     "output_type": "display_data"
    }
   ],
   "source": [
    "plt.figure(figsize=(10,5))\n",
    "sns.lineplot(x=tr_sizes, y=te_errs);\n",
    "sns.lineplot(x=tr_sizes, y=tr_errs);\n",
    "plt.title(\"Learning curve Model 5\", size=15);\n",
    "plt.xlabel(\"Training set size\", size=15);\n",
    "plt.ylabel(\"Error\", size=15);\n",
    "plt.legend(['Test Data', 'Training Data']);"
   ]
  },
  {
   "cell_type": "markdown",
   "metadata": {},
   "source": [
    "#### Conclusion Model 5: \n",
    "\n",
    "We saw an equal accuracy in feature selection as in the previous one using only 3 features instead of 5. However the actual accuracy when making predictions seem to be marginally lower than the Naive bayes model. The precision value decreased a ittle, so 2 more mushrooms that are correctly classified in the previous model are wrondly classified as edible in this classifier."
   ]
  },
  {
   "cell_type": "markdown",
   "metadata": {},
   "source": [
    "# Logistic Regression"
   ]
  },
  {
   "cell_type": "markdown",
   "metadata": {},
   "source": [
    "# Model 6 - Logistic Regression - All Features"
   ]
  },
  {
   "cell_type": "markdown",
   "metadata": {},
   "source": [
    "For the sixth and seventh model we are going to look into Logistic regression nd how it compares to the other two types of models, Naive bayes and Tree Classifier."
   ]
  },
  {
   "cell_type": "markdown",
   "metadata": {},
   "source": [
    "#### Accuracy\n",
    "\n",
    "The baseline accuracy is at 0.48 which means that for half of the predictions there is a close to 50% chance to predict correct.\n",
    "\n",
    "After training the model with all the features, we get 100% accuracy. Like we have seen in the other models it seems we have features in the data that makes it easy to predict on all features. This is however a slightly better accuracy than what we have seen for all features in the previous models using all features."
   ]
  },
  {
   "cell_type": "code",
   "execution_count": 63,
   "metadata": {},
   "outputs": [
    {
     "name": "stdout",
     "output_type": "stream",
     "text": [
      "Baseline accuracy: 0.48\n",
      "Logistic regression accuracy: 1.0\n"
     ]
    }
   ],
   "source": [
    "X = df1.values\n",
    "y = df[\"class\"].values\n",
    "\n",
    "X_train, X_test, y_train, y_test = train_test_split(X, y, test_size=0.3, random_state=42)\n",
    "\n",
    "log = LogisticRegression()\n",
    "log.fit(X_train, y_train)\n",
    "print(\"Baseline accuracy: {:.2f}\".format(1-y_train.mean()))\n",
    "print(\"Logistic regression accuracy: {:.2}\".format(log.score(X_test, y_test)))"
   ]
  },
  {
   "cell_type": "markdown",
   "metadata": {},
   "source": [
    "#### Confusion Matrix\n",
    "\n",
    "Looking at these values this model has very good precision and recall. only one single person will potentially get sick from eating a poisonous mushroom that was classified as edible. This of course is very unfortunate for this person, but it seems like this is the best case scenario for out prediction models.  "
   ]
  },
  {
   "cell_type": "code",
   "execution_count": 64,
   "metadata": {},
   "outputs": [
    {
     "name": "stdout",
     "output_type": "stream",
     "text": [
      "             predicted     \n",
      "actual   poisonous   edible\n",
      "poisonous     1180        1\n",
      " edible          0     1257\n"
     ]
    }
   ],
   "source": [
    "y_pred = log.predict(X_test)\n",
    "print_conf_mtx(y_test, y_pred)"
   ]
  },
  {
   "cell_type": "markdown",
   "metadata": {},
   "source": [
    "#### Precision / Recall\n",
    "\n",
    "When looking at the precision and recall values for this model, we can see that when rounding to three numbers we get a value of 1 for both precision and recall which is very very good. "
   ]
  },
  {
   "cell_type": "code",
   "execution_count": 65,
   "metadata": {},
   "outputs": [
    {
     "name": "stdout",
     "output_type": "stream",
     "text": [
      "Precision: 0.9992\n",
      "Recall: 1.0000\n"
     ]
    }
   ],
   "source": [
    "print(\"Precision: {:.4f}\".format(getPrecision(y_test, y_pred)))\n",
    "print(\"Recall: {:.4f}\".format(getRecall(y_test, y_pred)))"
   ]
  },
  {
   "cell_type": "code",
   "execution_count": 66,
   "metadata": {},
   "outputs": [
    {
     "name": "stdout",
     "output_type": "stream",
     "text": [
      "F1 score: 0.9996\n"
     ]
    }
   ],
   "source": [
    "from sklearn.metrics import f1_score\n",
    "print(\"F1 score: {:.4f}\".format(f1_score(y_test, y_pred)))"
   ]
  },
  {
   "cell_type": "markdown",
   "metadata": {},
   "source": [
    "#### Precision / Recall Curve\n",
    "\n",
    "The precision recall curve of this model looks very good. And that goes well with the accuracy we saw when calculation it earlier and the precision recall values. It shows us that we can accheive a 1 for recall as well as for precision at the same time which is what we acheived with the model."
   ]
  },
  {
   "cell_type": "code",
   "execution_count": 67,
   "metadata": {},
   "outputs": [
    {
     "data": {
      "image/png": "[encoded data removed]",
      "text/plain": [
       "<Figure size 432x288 with 1 Axes>"
      ]
     },
     "metadata": {
      "needs_background": "light"
     },
     "output_type": "display_data"
    }
   ],
   "source": [
    "y_probs = log.predict_proba(X_test)\n",
    "y_probs = y_probs[:,1]\n",
    "precisionRecallCurve(y_probs, y_test)"
   ]
  },
  {
   "cell_type": "markdown",
   "metadata": {},
   "source": [
    "#### ROC curve\n",
    "\n"
   ]
  },
  {
   "cell_type": "code",
   "execution_count": 68,
   "metadata": {},
   "outputs": [
    {
     "data": {
      "image/png": "[encoded data removed]",
      "text/plain": [
       "<Figure size 432x288 with 1 Axes>"
      ]
     },
     "metadata": {
      "needs_background": "light"
     },
     "output_type": "display_data"
    },
    {
     "name": "stdout",
     "output_type": "stream",
     "text": [
      "AUC: 1.00\n"
     ]
    }
   ],
   "source": [
    "auc = roc_auc_score(y_test, y_probs)\n",
    "fpr, tpr, thresholds = roc_curve(y_test, y_probs)\n",
    "plt.plot(fpr, tpr, color='red', label='ROC')\n",
    "plt.plot([0, 1], [0, 1], color='black', linestyle='--')\n",
    "plt.ylabel('True Positive Rate')\n",
    "plt.xlabel('False Positive Rate')\n",
    "plt.title('ROC curve for Heart Decease prediction')\n",
    "plt.legend()\n",
    "plt.show()\n",
    "print('AUC: %.2f' % auc)"
   ]
  },
  {
   "cell_type": "code",
   "execution_count": 69,
   "metadata": {},
   "outputs": [],
   "source": [
    "te_errs = []\n",
    "tr_errs = []\n",
    "tr_sizes = np.linspace(100, X_train.shape[0], 10).astype(int)\n",
    "for tr_size in tr_sizes:\n",
    "  X_train1 = X_train[:tr_size,:]\n",
    "  y_train1 = y_train[:tr_size]\n",
    "  \n",
    "  clf.fit(X_train1, y_train1)\n",
    "\n",
    "  tr_predicted = log.predict(X_train1)\n",
    "  err = (tr_predicted != y_train1).mean()\n",
    "  tr_errs.append(err)\n",
    "  \n",
    "  te_predicted = log.predict(X_test)\n",
    "  err = (te_predicted != y_test).mean()\n",
    "  te_errs.append(err)"
   ]
  },
  {
   "cell_type": "markdown",
   "metadata": {},
   "source": [
    "#### Learning Curve\n",
    "\n"
   ]
  },
  {
   "cell_type": "code",
   "execution_count": 70,
   "metadata": {},
   "outputs": [
    {
     "data": {
      "image/png": "[encoded data removed]",
      "text/plain": [
       "<Figure size 720x360 with 1 Axes>"
      ]
     },
     "metadata": {
      "needs_background": "light"
     },
     "output_type": "display_data"
    }
   ],
   "source": [
    "plt.figure(figsize=(10,5))\n",
    "sns.lineplot(x=tr_sizes, y=te_errs);\n",
    "sns.lineplot(x=tr_sizes, y=tr_errs);\n",
    "plt.title(\"Learning curve Model 6\", size=15);\n",
    "plt.xlabel(\"Training set size\", size=15);\n",
    "plt.ylabel(\"Error\", size=15);\n",
    "plt.legend(['Test Data', 'Training Data']);"
   ]
  },
  {
   "cell_type": "code",
   "execution_count": null,
   "metadata": {},
   "outputs": [],
   "source": []
  }
 ],
 "metadata": {
  "kernelspec": {
   "display_name": "Python 3",
   "language": "python",
   "name": "python3"
  },
  "language_info": {
   "codemirror_mode": {
    "name": "ipython",
    "version": 3
   },
   "file_extension": ".py",
   "mimetype": "text/x-python",
   "name": "python",
   "nbconvert_exporter": "python",
   "pygments_lexer": "ipython3",
   "version": "3.7.3"
  }
 },
 "nbformat": 4,
 "nbformat_minor": 2
}
