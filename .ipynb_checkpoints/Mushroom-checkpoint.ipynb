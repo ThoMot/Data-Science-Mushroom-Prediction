{
 "cells": [
  {
   "cell_type": "markdown",
   "metadata": {},
   "source": [
    "# What is the danger of shrooming? "
   ]
  },
  {
   "cell_type": "markdown",
   "metadata": {},
   "source": [
    "### Project 2, Data Science\n",
    "- **Thora Mothes**\n",
    "- **Mathias Ahrn**"
   ]
  },
  {
   "cell_type": "markdown",
   "metadata": {},
   "source": [
    "## Introduction:\n",
    "\n",
    "Shrooming refers to the act of looking for mushrooms or mushroom hunting. In this report predictions will be made as to how likely it is for a mushroom with certain characteristics to be poisonous or edible.\n",
    "\n",
    "##### Dataset:\n",
    "The chosen dataset for this report is called **<a href=\"https://archive.ics.uci.edu/ml/datasets/Mushroom\">Mushrooms</a>**, and is a dataset consisting of descriptions of hypothetical samples corresponding to 23 species of mushroom in the Agaricus amd Lepiota Family. The data originally stems from the Audubon Society Field Guide to North American Mushrooms published in 1981, and was donated to <a href=\"https://archive.ics.uci.edu/ml/index.php\">The UCI repository</a> in 1987. \n",
    "\n",
    "The dataset used in this report was downloaded from <a href=\"https://www.kaggle.com/uciml/mushroom-classification\">Kaggle</a> as the UCI repository could not provide a CSV file. However the data from Kaggle has not been modified in any other way than formatting it into a CSV file. \n",
    "\n",
    "- Date downloaded: **12.09.2019**\n",
    "- Hosted: **Thora Mothes GitHub Repo**\n",
    " \n",
    "\n",
    "##### Goal:\n",
    "In this report the goal is to predict whether or not a mushroom is edible. The feature used for output values is called \"Class\" and consists of values **e** and **p**, e for edible, and p for poisonous.\n",
    "\n",
    "##### Features: \n",
    "\n",
    "\n",
    "\n",
    "- choice of dataset\n",
    "- what it is you are going to predict\n",
    "- what features you plan to use as predictors\n",
    "- some preprocessing\n",
    "- some exploration and visualization\n",
    "- preliminary work on machine learning\n"
   ]
  },
  {
   "cell_type": "code",
   "execution_count": 1,
   "metadata": {},
   "outputs": [],
   "source": [
    "import pandas as pd\n",
    "import numpy as np\n",
    "import matplotlib.pyplot as plt\n",
    "import seaborn as sns\n",
    "from scipy.stats import zscore\n",
    "from sklearn.linear_model import LogisticRegression\n",
    "from sklearn.metrics import roc_auc_score, roc_curve, confusion_matrix, precision_recall_curve\n",
    "from sklearn.model_selection import train_test_split, cross_val_score\n",
    "from sklearn.metrics import confusion_matrix\n",
    "from sklearn.naive_bayes import GaussianNB\n",
    "from inspect import signature\n",
    "# import warnings filter\n",
    "from warnings import simplefilter\n",
    "# ignore all future warnings\n",
    "simplefilter(action='ignore', category=FutureWarning)"
   ]
  },
  {
   "cell_type": "code",
   "execution_count": 2,
   "metadata": {},
   "outputs": [],
   "source": [
    "df = pd.read_csv(\"https://raw.githubusercontent.com/ThoMot/DataHost/master/DataScience2019/mushrooms.csv\")"
   ]
  },
  {
   "cell_type": "markdown",
   "metadata": {},
   "source": [
    "## Data Exploration:\n",
    "\n",
    "Taking an overall look at the data, it looks like there are no columns with any missing data. The data set consists of 8124 entries, each with attributes distibuted over 23 columns. All of the data are string values, which are categorical in nature. \n",
    "\n",
    "- 1. **Class** - What we are predicting, edible or poisonous\n",
    "- 2. **cap-shape**\n",
    "    - b: bell, c: conical, x: convex, f: flat, k: knobbed, s: sunken \n",
    "- 4. **Cap-surface** - How is the cap built? \n",
    "    -  f: fibrous, g: grooves, y: scaly, s: smooth\n",
    "- 3. **Cap-color**\n",
    "    - n: brown, b: buff, c: cinnamon, g: gray, r: green, p: pink, u: purple, e: red, w: white, y: yellow\n",
    "- 4. **bruises** - Does the shroom have bruses on it?\n",
    "    - true/false\n",
    "- 5. **odor**\n",
    "    - a: almond, l: anise, c: creosote, y: fishy, f: foul, m: musty, n: none, p: pungent, s: spicy\n",
    "- 6. **gill-attachment** - How is the gill attached\n",
    "    - a: attached, d: descending, f: free, n: notched\n",
    "- 7. **gill-spacing** - How are the gills spaced out\n",
    "    - c: close, w: crowded, d: distant\n",
    "- 8. **gill-size**\n",
    "    - b: broad, n: narrow\n",
    "- 9. **gill-color** \n",
    "    - k: black, n: brown, b: buff, h: chocolate, g: gray,  r: green, o: orange, p: pink, u: purple, e: red, w: white, y: yellow\n",
    "- 10. **stalk-shape** \n",
    "    - e: enlarging, t: tapering\n",
    "- 11. **stalk-root** - Shape of the stalk root\n",
    "    - b: bulbous, c: club, u: cup, e: equal, z: rhizomorphs, r: rooted, ?: missing\n",
    "- 12. **stalk-surface-above-ring**\n",
    "    - f: fibrous, y: scaly, k: silky, s: smooth\n",
    "- 13. **stalk-surface-below-ring** \n",
    "    - f: fibrous, y: scaly, k. silky, s: smooth\n",
    "- 14. **stalk-color-above-ring**\n",
    "    - n: brown, b:. buff, c: cinnamon, g: gray, o: orange, p:  pink, e: red, w: white, y: yellow\n",
    "- 15. **stalk-color-below-ring**\n",
    "    - n: brown, b: buff, c: cinnamon, g: gray, o: orange, p:  pink, e: red, w: white, y: yellow\n",
    "- 16. **veil-type** \n",
    "    - p: partial, u: universal\n",
    "- 17. **veil-color** \n",
    "    - n: brown, o: orange, w: white, y: yellow\n",
    "- 18. **ring-number** \n",
    "    - n: none, o: one, t: two\n",
    "- 19. **ring-type** \n",
    "    - c: cobwebby, e: evanescent, f: flaring, l: large, n: none, p: pendant, s: sheathing, z: zone\n",
    "- 20. **spore-print-color**\n",
    "    - k: black n: brown, b: buff, h: chocolate, r: green, o:  orange, u:. purple, w: white, y: yellow\n",
    "- 21. **population** \n",
    "    - a: abundant, c: clustered, n: numerous, s: scattered, v: several, y: solitary\n",
    "- 22. **habitat**: \n",
    "    - g: grasses, l: leaves, m: meadows, p: paths, u: urban, w: waste, d: woods"
   ]
  },
  {
   "cell_type": "code",
   "execution_count": 3,
   "metadata": {},
   "outputs": [
    {
     "name": "stdout",
     "output_type": "stream",
     "text": [
      "<class 'pandas.core.frame.DataFrame'>\n",
      "RangeIndex: 8124 entries, 0 to 8123\n",
      "Data columns (total 23 columns):\n",
      "class                       8124 non-null object\n",
      "cap-shape                   8124 non-null object\n",
      "cap-surface                 8124 non-null object\n",
      "cap-color                   8124 non-null object\n",
      "bruises                     8124 non-null object\n",
      "odor                        8124 non-null object\n",
      "gill-attachment             8124 non-null object\n",
      "gill-spacing                8124 non-null object\n",
      "gill-size                   8124 non-null object\n",
      "gill-color                  8124 non-null object\n",
      "stalk-shape                 8124 non-null object\n",
      "stalk-root                  8124 non-null object\n",
      "stalk-surface-above-ring    8124 non-null object\n",
      "stalk-surface-below-ring    8124 non-null object\n",
      "stalk-color-above-ring      8124 non-null object\n",
      "stalk-color-below-ring      8124 non-null object\n",
      "veil-type                   8124 non-null object\n",
      "veil-color                  8124 non-null object\n",
      "ring-number                 8124 non-null object\n",
      "ring-type                   8124 non-null object\n",
      "spore-print-color           8124 non-null object\n",
      "population                  8124 non-null object\n",
      "habitat                     8124 non-null object\n",
      "dtypes: object(23)\n",
      "memory usage: 1.4+ MB\n"
     ]
    }
   ],
   "source": [
    "df.info()"
   ]
  },
  {
   "cell_type": "markdown",
   "metadata": {},
   "source": [
    "When looking at df.info() it initially looks like there are no missing values. But when looking into the data of the stalk-root feature, we can tell that there are actually quite a few missing values in this column. When graphing this column based on the class of mushroom, edible/poinsonous we can see that a high percentage of this column is missing. This is denoted by a questionmasrk **?** in this dataset. "
   ]
  },
  {
   "cell_type": "code",
   "execution_count": 4,
   "metadata": {},
   "outputs": [
    {
     "data": {
      "text/plain": [
       "b    3776\n",
       "?    2480\n",
       "e    1120\n",
       "c     556\n",
       "r     192\n",
       "Name: stalk-root, dtype: int64"
      ]
     },
     "execution_count": 4,
     "metadata": {},
     "output_type": "execute_result"
    }
   ],
   "source": [
    "df[\"stalk-root\"].value_counts()"
   ]
  },
  {
   "cell_type": "code",
   "execution_count": 5,
   "metadata": {},
   "outputs": [
    {
     "data": {
      "image/png": "[encoded data removed]",
      "text/plain": [
       "<Figure size 1080x360 with 1 Axes>"
      ]
     },
     "metadata": {
      "needs_background": "light"
     },
     "output_type": "display_data"
    }
   ],
   "source": [
    "plt.figure(figsize=(15,5));\n",
    "sns.countplot(df[\"stalk-root\"], hue=df[\"class\"]);\n",
    "plt.title(\"number of different stalk-roots dependent of class\", size=\"20\");\n",
    "plt.xlabel(\"Stalk-root shape\", size=\"15\");\n",
    "plt.ylabel(\"Number of instances\", size=\"15\"); \n",
    "plt.legend([\"poisonous\", \"edible\"], prop={'size': 15});\n",
    "plt.xticks(size=\"12\");\n"
   ]
  },
  {
   "cell_type": "markdown",
   "metadata": {},
   "source": [
    "The plot below shows the distribution of the two different classes we are going to predict. There seem to be slightly more edible mushrooms than poisonous ones."
   ]
  },
  {
   "cell_type": "code",
   "execution_count": 6,
   "metadata": {},
   "outputs": [
    {
     "data": {
      "image/png": "[encoded data removed]",
      "text/plain": [
       "<Figure size 1080x360 with 1 Axes>"
      ]
     },
     "metadata": {
      "needs_background": "light"
     },
     "output_type": "display_data"
    }
   ],
   "source": [
    "plt.figure(figsize=(15,5));\n",
    "sns.countplot(df[\"class\"]);\n",
    "plt.title(\"Class distribution\", size=\"20\");\n",
    "plt.xlabel(\"Class, poisonous, edible\", size=\"15\");\n",
    "plt.ylabel(\"Number of instances\", size=\"15\"); \n",
    "plt.xticks(size=\"12\");"
   ]
  },
  {
   "cell_type": "markdown",
   "metadata": {},
   "source": [
    "When looking at the subplots below, we can tell that some columns are very skewed towards one value. \n",
    "- veil-type only contains values of type p\n",
    "- veil-color contains an overwhelming amount of white instances\n",
    "- gill-attachment contains a very skewed amount of values for free\n",
    "- ring-number is very skewed towards one ring"
   ]
  },
  {
   "cell_type": "code",
   "execution_count": 7,
   "metadata": {},
   "outputs": [
    {
     "data": {
      "text/plain": [
       "p    8124\n",
       "Name: veil-type, dtype: int64"
      ]
     },
     "execution_count": 7,
     "metadata": {},
     "output_type": "execute_result"
    }
   ],
   "source": [
    "df[\"veil-type\"].value_counts()"
   ]
  },
  {
   "cell_type": "code",
   "execution_count": 8,
   "metadata": {},
   "outputs": [
    {
     "data": {
      "text/plain": [
       "w    7924\n",
       "o      96\n",
       "n      96\n",
       "y       8\n",
       "Name: veil-color, dtype: int64"
      ]
     },
     "execution_count": 8,
     "metadata": {},
     "output_type": "execute_result"
    }
   ],
   "source": [
    "df[\"veil-color\"].value_counts()"
   ]
  },
  {
   "cell_type": "code",
   "execution_count": 9,
   "metadata": {},
   "outputs": [
    {
     "data": {
      "text/plain": [
       "f    7914\n",
       "a     210\n",
       "Name: gill-attachment, dtype: int64"
      ]
     },
     "execution_count": 9,
     "metadata": {},
     "output_type": "execute_result"
    }
   ],
   "source": [
    "df[\"gill-attachment\"].value_counts()"
   ]
  },
  {
   "cell_type": "code",
   "execution_count": 10,
   "metadata": {},
   "outputs": [
    {
     "data": {
      "text/plain": [
       "o    7488\n",
       "t     600\n",
       "n      36\n",
       "Name: ring-number, dtype: int64"
      ]
     },
     "execution_count": 10,
     "metadata": {},
     "output_type": "execute_result"
    }
   ],
   "source": [
    "df[\"ring-number\"].value_counts()"
   ]
  },
  {
   "cell_type": "code",
   "execution_count": 11,
   "metadata": {},
   "outputs": [
    {
     "data": {
      "image/png": "[encoded data removed]",
      "text/plain": [
       "<Figure size 1080x1800 with 22 Axes>"
      ]
     },
     "metadata": {
      "needs_background": "light"
     },
     "output_type": "display_data"
    }
   ],
   "source": [
    "fig, ax = plt.subplots(11,2, figsize=(15,25))\n",
    "fig.suptitle(\"Count plot of all features\", size=25, y=0.92)\n",
    "\n",
    "sns.countplot(df[\"class\"], ax=ax[0,0])\n",
    "ax[0,0].set_title(\"count of cap-shapes\", size=\"15\");\n",
    "ax[0,0].set_xlabel(\"cap-shape\", size=\"12\")\n",
    "\n",
    "\n",
    "sns.countplot(df[\"cap-shape\"], ax=ax[0,1])\n",
    "ax[0,1].set_title(\"count of cap-shapes\", size=\"15\");\n",
    "ax[0,1].set_xlabel(\"cap-shape\", size=\"12\")\n",
    "\n",
    "sns.countplot(df[\"cap-surface\"], ax=ax[1,0])\n",
    "ax[1,0].set_title(\"count of cap-surface\", size=\"15\");\n",
    "ax[1,0].set_xlabel(\"cap-surface\", size=\"12\")\n",
    "\n",
    "sns.countplot(df[\"cap-color\"], ax=ax[1,1])\n",
    "ax[1,1].set_title(\"count of cap-color\", size=\"15\");\n",
    "ax[1,1].set_xlabel(\"cap-color\", size=\"12\")\n",
    "\n",
    "sns.countplot(df[\"bruises\"], ax=ax[2,0])\n",
    "ax[2,0].set_title(\"count of bruising\", size=\"15\");\n",
    "ax[2,0].set_xlabel(\"bruises\", size=\"12\")\n",
    "\n",
    "sns.countplot(df[\"odor\"], ax=ax[2,1])\n",
    "ax[2,1].set_title(\"count of odor\", size=\"15\");\n",
    "ax[2,1].set_xlabel(\"odors\", size=\"12\")\n",
    "\n",
    "sns.countplot(df[\"gill-attachment\"], ax=ax[3,0])\n",
    "ax[3,0].set_title(\"count of gill-attachment\", size=\"15\");\n",
    "ax[3,0].set_xlabel(\"gill-attachment\", size=\"12\")\n",
    "\n",
    "sns.countplot(df[\"gill-spacing\"], ax=ax[3,1])\n",
    "ax[3,1].set_title(\"count of gill-spacing\", size=\"15\");\n",
    "ax[3,1].set_xlabel(\"gill-spacing\", size=\"12\")\n",
    "\n",
    "sns.countplot(df[\"gill-size\"], ax=ax[4,0])\n",
    "ax[4,0].set_title(\"count of gill-size\", size=\"15\");\n",
    "ax[4,0].set_xlabel(\"gill-size\", size=\"14\")\n",
    "\n",
    "sns.countplot(df[\"gill-color\"], ax=ax[4,1])\n",
    "ax[4,1].set_title(\"count of gill-color\", size=\"15\");\n",
    "ax[4,1].set_xlabel(\"gill-colors\", size=\"12\")\n",
    "\n",
    "sns.countplot(df[\"stalk-shape\"], ax=ax[5,0])\n",
    "ax[5,0].set_title(\"count of stalk-shape\", size=\"15\");\n",
    "ax[5,0].set_xlabel(\"stalk-shapes\", size=\"12\")\n",
    "\n",
    "sns.countplot(df[\"stalk-root\"], ax=ax[5,1])\n",
    "ax[5,1].set_title(\"count of stalk-root\", size=\"15\");\n",
    "ax[5,1].set_xlabel(\"stalk-root\", size=\"12\")\n",
    "\n",
    "sns.countplot(df[\"stalk-surface-above-ring\"], ax=ax[6,0])\n",
    "ax[6,0].set_title(\"count of stalk-surface-above-ring\", size=\"15\");\n",
    "ax[6,0].set_xlabel(\"stalk-surface-above-ring\", size=\"12\")\n",
    "\n",
    "sns.countplot(df[\"stalk-surface-below-ring\"], ax=ax[6,1])\n",
    "ax[6,1].set_title(\"count of stalk-surface-below-ring\", size=\"15\");\n",
    "ax[6,1].set_xlabel(\"stalk-surface-below-ring\", size=\"12\")\n",
    "\n",
    "sns.countplot(df[\"stalk-color-above-ring\"], ax=ax[7,0])\n",
    "ax[7,0].set_title(\"count of stalk-color-above-ring\", size=\"15\");\n",
    "ax[7,0].set_xlabel(\"stalk-color-above-ring\", size=\"12\")\n",
    "\n",
    "sns.countplot(df[\"stalk-color-below-ring\"], ax=ax[7,1])\n",
    "ax[7,1].set_title(\"count of stalk-color-below-ring\", size=\"15\");\n",
    "ax[7,1].set_xlabel(\"stalk-color-below-ring\", size=\"12\")\n",
    "\n",
    "sns.countplot(df[\"veil-type\"], ax=ax[8,0])\n",
    "ax[8,0].set_title(\"count of veil-type\", size=\"15\");\n",
    "ax[8,0].set_xlabel(\"veil-type\", size=\"12\")\n",
    "\n",
    "sns.countplot(df[\"veil-color\"], ax=ax[8,1])\n",
    "ax[8,1].set_title(\"count of veil-color\", size=\"15\");\n",
    "ax[8,1].set_xlabel(\"veil-color\", size=\"12\");\n",
    "\n",
    "sns.countplot(df[\"ring-number\"], ax=ax[9,0])\n",
    "ax[9,0].set_title(\"count of ring-number\", size=\"15\");\n",
    "ax[9,0].set_xlabel(\"ring-number\", size=\"12\");\n",
    "\n",
    "sns.countplot(df[\"ring-type\"], ax=ax[9,1])\n",
    "ax[9,1].set_title(\"count of ring-type\", size=\"15\");\n",
    "ax[9,1].set_xlabel(\"ring-type\", size=\"12\");\n",
    "\n",
    "sns.countplot(df[\"spore-print-color\"], ax=ax[10,0])\n",
    "ax[10,0].set_title(\"count of spore-print-color\", size=\"15\");\n",
    "ax[10,0].set_xlabel(\"spore-print-color\", size=\"12\");\n",
    "\n",
    "sns.countplot(df[\"population\"], ax=ax[10,1])\n",
    "ax[10,1].set_title(\"count of population\", size=\"15\");\n",
    "ax[10,1].set_xlabel(\"population\", size=\"12\");\n",
    "plt.subplots_adjust(hspace = 0.75)"
   ]
  },
  {
   "cell_type": "markdown",
   "metadata": {},
   "source": [
    "## Data Cleaning"
   ]
  },
  {
   "cell_type": "markdown",
   "metadata": {},
   "source": [
    "- Based on the plots we used to explore the data we can tell that stalk-root had a lot of missing values. it will not be very useful in making predictions. This feature will be dropped.\n",
    "- Veil-type only contains values of type p which means that this column is the same for every instance in the dataset. It is therefore not useful in making predictions and it will be removed. "
   ]
  },
  {
   "cell_type": "code",
   "execution_count": 12,
   "metadata": {},
   "outputs": [],
   "source": [
    "df.drop(columns=[\"veil-type\", \"stalk-root\"], inplace=True)"
   ]
  },
  {
   "cell_type": "markdown",
   "metadata": {},
   "source": [
    "The target variable is set to 0 = poisonous and 1 = edible."
   ]
  },
  {
   "cell_type": "code",
   "execution_count": 13,
   "metadata": {},
   "outputs": [],
   "source": [
    "df[\"class\"] = (df[\"class\"] == \"e\").astype(int)"
   ]
  },
  {
   "cell_type": "markdown",
   "metadata": {},
   "source": [
    "Since all of the data we are working with is categorical we need to get dummies of the dataframe so we can use it in scikit-learn."
   ]
  },
  {
   "cell_type": "code",
   "execution_count": 42,
   "metadata": {},
   "outputs": [
    {
     "data": {
      "text/plain": [
       "(8124, 111)"
      ]
     },
     "execution_count": 42,
     "metadata": {},
     "output_type": "execute_result"
    }
   ],
   "source": [
    "columns = df.columns[df.columns != \"class\"]\n",
    "df1 = df.drop(columns=[\"class\"])\n",
    "df1 = pd.get_dummies(df1, columns=columns)\n",
    "df1.shape"
   ]
  },
  {
   "cell_type": "markdown",
   "metadata": {},
   "source": [
    "Dataframe have now 111 columns/features with only numeric non-categorical data ready for scikit-learn machine learning."
   ]
  },
  {
   "cell_type": "markdown",
   "metadata": {},
   "source": [
    "# Model 1"
   ]
  },
  {
   "cell_type": "markdown",
   "metadata": {},
   "source": [
    "For the first model we are using logistic regression."
   ]
  },
  {
   "cell_type": "code",
   "execution_count": 57,
   "metadata": {},
   "outputs": [
    {
     "name": "stdout",
     "output_type": "stream",
     "text": [
      "Baseline accuracy: 0.48\n",
      "Logistic regression accuracy: 1.0\n"
     ]
    }
   ],
   "source": [
    "X = df1.values\n",
    "y = df[\"class\"].values\n",
    "\n",
    "X_train, X_test, y_train, y_test = train_test_split(X, y, test_size=0.3, random_state=42)\n",
    "\n",
    "log = LogisticRegression()\n",
    "log.fit(X_train, y_train)\n",
    "print(\"Baseline accuracy: {:.2f}\".format(1-y_train.mean()))\n",
    "print(\"Logistic regression accuracy: {:.2}\".format(log.score(X_test, y_test)))"
   ]
  },
  {
   "cell_type": "markdown",
   "metadata": {},
   "source": [
    "The baseline accuracy is at 0.48 which means that for half of the predictions there is a close to 50% chance to predict correct.\n",
    "\n",
    "After training the model with all the features, we get 100% accuracy. It seems to be strongly correlated features within this dataset."
   ]
  },
  {
   "cell_type": "code",
   "execution_count": 58,
   "metadata": {},
   "outputs": [
    {
     "name": "stdout",
     "output_type": "stream",
     "text": [
      "  cap-shape_b: -0.30\n",
      "  cap-shape_c: -0.63\n",
      "  cap-shape_f: 0.03\n",
      "  cap-shape_k: -0.02\n",
      "  cap-shape_s: 0.64\n",
      "  cap-shape_x: 0.11\n",
      "  cap-surface_f: 0.59\n",
      "  cap-surface_g: -0.59\n",
      "  cap-surface_s: -0.21\n",
      "  cap-surface_y: 0.03\n",
      "  cap-color_b: -0.94\n",
      "  cap-color_c: 0.71\n",
      "  cap-color_e: 0.00\n",
      "  cap-color_g: -0.18\n",
      "  cap-color_n: 0.39\n",
      "  cap-color_p: -0.97\n",
      "  cap-color_r: 0.48\n",
      "  cap-color_u: 0.54\n",
      "  cap-color_w: -0.50\n",
      "  cap-color_y: 0.29\n",
      "  bruises_f: 0.32\n",
      "  bruises_t: -0.51\n",
      "  odor_a: 3.19\n",
      "  odor_c: -3.30\n",
      "  odor_f: -3.35\n",
      "  odor_l: 3.15\n",
      "  odor_m: -0.38\n",
      "  odor_n: 3.87\n",
      "  odor_p: -1.93\n",
      "  odor_s: -0.71\n",
      "  odor_y: -0.71\n",
      "  gill-attachment_a: 0.19\n",
      "  gill-attachment_f: -0.37\n",
      "  gill-spacing_c: -1.09\n",
      "  gill-spacing_w: 0.91\n",
      "  gill-size_b: 2.02\n",
      "  gill-size_n: -2.20\n",
      "  gill-color_b: -1.48\n",
      "  gill-color_e: 0.58\n",
      "  gill-color_g: -0.13\n",
      "  gill-color_h: -0.17\n",
      "  gill-color_k: 0.51\n",
      "  gill-color_n: 0.60\n",
      "  gill-color_o: 0.13\n",
      "  gill-color_p: 0.34\n",
      "  gill-color_r: -0.72\n",
      "  gill-color_u: 0.12\n",
      "  gill-color_w: 0.20\n",
      "  gill-color_y: -0.18\n",
      "  stalk-shape_e: -0.45\n",
      "  stalk-shape_t: 0.27\n",
      "  stalk-surface-above-ring_f: 0.39\n",
      "  stalk-surface-above-ring_k: -1.32\n",
      "  stalk-surface-above-ring_s: 0.96\n",
      "  stalk-surface-above-ring_y: -0.21\n",
      "  stalk-surface-below-ring_f: 1.02\n",
      "  stalk-surface-below-ring_k: -0.39\n",
      "  stalk-surface-below-ring_s: 0.20\n",
      "  stalk-surface-below-ring_y: -1.01\n",
      "  stalk-color-above-ring_b: -0.32\n",
      "  stalk-color-above-ring_c: -0.38\n",
      "  stalk-color-above-ring_e: 0.56\n",
      "  stalk-color-above-ring_g: 0.33\n",
      "  stalk-color-above-ring_n: -0.14\n",
      "  stalk-color-above-ring_o: 0.43\n",
      "  stalk-color-above-ring_p: -0.32\n",
      "  stalk-color-above-ring_w: 0.12\n",
      "  stalk-color-above-ring_y: -0.46\n",
      "  stalk-color-below-ring_b: -0.30\n",
      "  stalk-color-below-ring_c: -0.38\n",
      "  stalk-color-below-ring_e: 0.53\n",
      "  stalk-color-below-ring_g: 0.33\n",
      "  stalk-color-below-ring_n: 0.31\n",
      "  stalk-color-below-ring_o: 0.43\n",
      "  stalk-color-below-ring_p: -0.31\n",
      "  stalk-color-below-ring_w: 0.02\n",
      "  stalk-color-below-ring_y: -0.82\n",
      "  veil-color_n: 0.22\n",
      "  veil-color_o: 0.20\n",
      "  veil-color_w: -0.15\n",
      "  veil-color_y: -0.46\n",
      "  ring-number_n: -0.38\n",
      "  ring-number_o: 0.19\n",
      "  ring-number_t: 0.00\n",
      "  ring-type_e: -0.31\n",
      "  ring-type_f: 2.01\n",
      "  ring-type_l: -1.08\n",
      "  ring-type_n: -0.38\n",
      "  ring-type_p: -0.43\n",
      "  spore-print-color_b: 0.13\n",
      "  spore-print-color_h: -1.29\n",
      "  spore-print-color_k: 1.55\n",
      "  spore-print-color_n: 1.71\n",
      "  spore-print-color_o: 0.15\n",
      "  spore-print-color_r: -4.09\n",
      "  spore-print-color_u: 1.47\n",
      "  spore-print-color_w: 0.07\n",
      "  spore-print-color_y: 0.12\n",
      "  population_a: 0.02\n",
      "  population_c: -1.12\n",
      "  population_n: 1.09\n",
      "  population_s: -0.17\n",
      "  population_v: -0.79\n",
      "  population_y: 0.78\n",
      "  habitat_d: -0.03\n",
      "  habitat_g: -0.37\n",
      "  habitat_l: -0.60\n",
      "  habitat_m: -0.45\n",
      "  habitat_p: 0.03\n",
      "  habitat_u: -0.14\n",
      "  habitat_w: 1.38\n"
     ]
    }
   ],
   "source": [
    "#print(\"Intercept: {:.2f}\".format(log.intercept_[0]))\n",
    "#print(\"Coefficients:\")\n",
    "name = 0\n",
    "coefs = []\n",
    "for i in log.coef_[0]:\n",
    "    print(\" \",df1.columns[name]+\":\", \"{:.2f}\".format(i))\n",
    "    if(np.abs(i) > 2):\n",
    "        coefs.append(name)\n",
    "    name += 1\n",
    "\n",
    "        \n",
    "coefs = np.array(coefs)\n"
   ]
  },
  {
   "cell_type": "code",
   "execution_count": 60,
   "metadata": {},
   "outputs": [
    {
     "data": {
      "text/plain": [
       "(9,)"
      ]
     },
     "execution_count": 60,
     "metadata": {},
     "output_type": "execute_result"
    }
   ],
   "source": [
    "coefs.shape"
   ]
  },
  {
   "cell_type": "markdown",
   "metadata": {},
   "source": [
    "Looking at the coefficients for the specific model there are some coefficients that have big impact on the model. Let's look at the coefficients with an absolute value above 2. Then we have the following columns."
   ]
  },
  {
   "cell_type": "code",
   "execution_count": 62,
   "metadata": {},
   "outputs": [
    {
     "name": "stdout",
     "output_type": "stream",
     "text": [
      "odor_a\n",
      "odor_c\n",
      "odor_f\n",
      "odor_l\n",
      "odor_n\n",
      "gill-size_b\n",
      "gill-size_n\n",
      "ring-type_f\n",
      "spore-print-color_r\n"
     ]
    }
   ],
   "source": [
    "for i in df1.columns[coefs]:\n",
    "    print(i)"
   ]
  },
  {
   "cell_type": "markdown",
   "metadata": {},
   "source": [
    "With these columns we can see that odor have a really strong impact on predictions overall for predicting poisonous and edible mushrooms."
   ]
  },
  {
   "cell_type": "code",
   "execution_count": 64,
   "metadata": {},
   "outputs": [
    {
     "data": {
      "text/plain": [
       "0.9934372436423298"
      ]
     },
     "execution_count": 64,
     "metadata": {},
     "output_type": "execute_result"
    }
   ],
   "source": [
    "df2 = df1[df1.columns[coefs]]\n",
    "X = df2.values\n",
    "\n",
    "X_train, X_test, y_train, y_test = train_test_split(df2, y, test_size=0.3, random_state=42)\n",
    "\n",
    "log2 = LogisticRegression()\n",
    "log2.fit(X_train, y_train)\n",
    "#y_pred = log3.predict(X_test)\n",
    "log2.score(X_test, y_test)"
   ]
  },
  {
   "cell_type": "markdown",
   "metadata": {},
   "source": [
    "When the model is trained with those features, we can see an accuracy of 99.34%. This is a reduction from previous model, but still relly high."
   ]
  },
  {
   "cell_type": "markdown",
   "metadata": {},
   "source": [
    "# Model 2"
   ]
  },
  {
   "cell_type": "markdown",
   "metadata": {},
   "source": [
    "For the second model we will be using Naive Bayes."
   ]
  },
  {
   "cell_type": "code",
   "execution_count": 55,
   "metadata": {},
   "outputs": [],
   "source": [
    "X = df1.values\n",
    "y = df[\"class\"].values"
   ]
  },
  {
   "cell_type": "code",
   "execution_count": 56,
   "metadata": {},
   "outputs": [
    {
     "name": "stdout",
     "output_type": "stream",
     "text": [
      "Baseline accuracy: 0.48\n"
     ]
    },
    {
     "data": {
      "text/plain": [
       "0.9840032813781788"
      ]
     },
     "execution_count": 56,
     "metadata": {},
     "output_type": "execute_result"
    }
   ],
   "source": [
    "X_train, X_test, y_train, y_test = train_test_split(X, y, test_size=0.3, random_state=42)\n",
    "print(\"Baseline accuracy: {:.2f}\".format(1-y_train.mean()))\n",
    "clf = GaussianNB()\n",
    "clf.fit(X_train, y_train)\n",
    "y_pred = clf.predict(X_test)\n",
    "clf.score(X_test, y_test)"
   ]
  },
  {
   "cell_type": "code",
   "execution_count": null,
   "metadata": {},
   "outputs": [],
   "source": []
  },
  {
   "cell_type": "code",
   "execution_count": null,
   "metadata": {},
   "outputs": [],
   "source": []
  }
 ],
 "metadata": {
  "kernelspec": {
   "display_name": "Python 3",
   "language": "python",
   "name": "python3"
  },
  "language_info": {
   "codemirror_mode": {
    "name": "ipython",
    "version": 3
   },
   "file_extension": ".py",
   "mimetype": "text/x-python",
   "name": "python",
   "nbconvert_exporter": "python",
   "pygments_lexer": "ipython3",
   "version": "3.7.3"
  }
 },
 "nbformat": 4,
 "nbformat_minor": 2
}
