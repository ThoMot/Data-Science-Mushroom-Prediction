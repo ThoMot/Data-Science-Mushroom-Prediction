{
 "cells": [
  {
   "cell_type": "markdown",
   "metadata": {},
   "source": [
    "# What is the danger of shrooming? "
   ]
  },
  {
   "cell_type": "markdown",
   "metadata": {},
   "source": [
    "- **Thora Mothes**\n",
    "- **Mathias Ahrn**"
   ]
  },
  {
   "cell_type": "code",
   "execution_count": 1,
   "metadata": {},
   "outputs": [
    {
     "data": {
      "text/html": [
       "<script>\n",
       "code_show=true; \n",
       "function code_toggle() {\n",
       " if (code_show){\n",
       " $('div.input').hide();\n",
       " } else {\n",
       " $('div.input').show();\n",
       " }\n",
       " code_show = !code_show\n",
       "} \n",
       "$( document ).ready(code_toggle);\n",
       "</script>\n",
       "<form action=\"javascript:code_toggle()\"><input type=\"submit\" value=\"Click here to display/hide the code.\"></form>"
      ],
      "text/plain": [
       "<IPython.core.display.HTML object>"
      ]
     },
     "execution_count": 1,
     "metadata": {},
     "output_type": "execute_result"
    }
   ],
   "source": [
    "# code in this cell from: \n",
    "# https://stackoverflow.com/questions/27934885/how-to-hide-code-from-cells-in-ipython-notebook-visualized-with-nbviewer\n",
    "from IPython.display import HTML\n",
    "HTML('''<script>\n",
    "code_show=true; \n",
    "function code_toggle() {\n",
    " if (code_show){\n",
    " $('div.input').hide();\n",
    " } else {\n",
    " $('div.input').show();\n",
    " }\n",
    " code_show = !code_show\n",
    "} \n",
    "$( document ).ready(code_toggle);\n",
    "</script>\n",
    "<form action=\"javascript:code_toggle()\"><input type=\"submit\" value=\"Click here to display/hide the code.\"></form>''')"
   ]
  },
  {
   "cell_type": "markdown",
   "metadata": {},
   "source": [
    "## Introduction:\n",
    "\n",
    "Shrooming refers to the act of looking for mushrooms or mushroom hunting. In this report predictions will be made as to how likely it is for a mushroom with certain characteristics to be poisonous or edible.\n",
    "\n",
    "##### Dataset:\n",
    "The chosen dataset for this report is called **<a href=\"https://archive.ics.uci.edu/ml/datasets/Mushroom\">Mushrooms</a>**, and is a dataset consisting of descriptions of hypothetical samples corresponding to 23 species of mushroom in the Agaricus amd Lepiota Family. The data originally stems from the Audubon Society Field Guide to North American Mushrooms published in 1981, and was donated to <a href=\"https://archive.ics.uci.edu/ml/index.php\">The UCI repository</a> in 1987. \n",
    "\n",
    "The dataset used in this report was downloaded from <a href=\"https://www.kaggle.com/uciml/mushroom-classification\">Kaggle</a> as the UCI repository could not provide a CSV file. However the data from Kaggle has not been modified in any other way than formatting it into a CSV file. \n",
    "\n",
    "- Date downloaded: **12.09.2019**\n",
    "- Hosted: **Thora Mothes GitHub Repo**\n",
    " \n",
    "\n",
    "##### Goal:\n",
    "In this report the goal is to predict whether or not a mushroom is edible. The feature used for output values is called \"Class\" and consists of values **e** and **p**, e for edible, and p for poisonous.\n",
    "\n",
    "##### Features: \n",
    "\n",
    "When it comes to the features we will use for our models we will have two main criteria, we will try to find features that are easy for people to identify when they are looking for mushrooms and still give good enough accuracy for people not to be poisoned. \n",
    "\n",
    "Some of the most interesting features in this dataset are: \n",
    "- odor - This is a very easy one to identify for most people\n",
    "- cap-shape - This is usually easy to look at\n",
    "- cap-surface - This is something you can both feel and see"
   ]
  },
  {
   "cell_type": "code",
   "execution_count": 2,
   "metadata": {},
   "outputs": [],
   "source": [
    "import pandas as pd\n",
    "import numpy as np\n",
    "import matplotlib.pyplot as plt\n",
    "import seaborn as sns\n",
    "from scipy.stats import zscore\n",
    "from sklearn.linear_model import LogisticRegression\n",
    "from sklearn.metrics import roc_auc_score, roc_curve, confusion_matrix, precision_recall_curve\n",
    "from sklearn.model_selection import train_test_split, cross_val_score\n",
    "from sklearn.metrics import confusion_matrix\n",
    "from sklearn.naive_bayes import GaussianNB\n",
    "from inspect import signature\n",
    "from warnings import simplefilter\n",
    "simplefilter(action='ignore', category=FutureWarning)\n",
    "from sklearn.tree import DecisionTreeClassifier\n",
    "from sklearn.tree import export_graphviz\n",
    "import graphviz\n",
    "from sklearn.metrics import precision_score\n",
    "from sklearn.metrics import recall_score\n",
    "sns.set()\n",
    "from sklearn.metrics import f1_score\n",
    "\n",
    "import warnings\n",
    "warnings.filterwarnings('ignore')"
   ]
  },
  {
   "cell_type": "code",
   "execution_count": 3,
   "metadata": {},
   "outputs": [],
   "source": [
    "df = pd.read_csv(\"https://raw.githubusercontent.com/ThoMot/DataHost/master/DataScience2019/mushrooms.csv\")"
   ]
  },
  {
   "cell_type": "markdown",
   "metadata": {},
   "source": [
    "## Data Exploration:\n",
    "\n",
    "Taking an overall look at the data, it looks like there are no columns with any missing data. The data set consists of 8124 entries, each with attributes distibuted over 23 columns. All of the data are string values, which are categorical in nature. \n",
    "\n",
    "- 1. **Class** - What we are predicting, edible or poisonous\n",
    "- 2. **cap-shape**\n",
    "    - b: bell, c: conical, x: convex, f: flat, k: knobbed, s: sunken \n",
    "- 4. **Cap-surface** - How is the cap built? \n",
    "    -  f: fibrous, g: grooves, y: scaly, s: smooth\n",
    "- 3. **Cap-color**\n",
    "    - n: brown, b: buff, c: cinnamon, g: gray, r: green, p: pink, u: purple, e: red, w: white, y: yellow\n",
    "- 4. **bruises** - Does the shroom have bruses on it?\n",
    "    - true/false\n",
    "- 5. **odor**\n",
    "    - a: almond, l: anise, c: creosote, y: fishy, f: foul, m: musty, n: none, p: pungent, s: spicy\n",
    "- 6. **gill-attachment** - How is the gill attached\n",
    "    - a: attached, d: descending, f: free, n: notched\n",
    "- 7. **gill-spacing** - How are the gills spaced out\n",
    "    - c: close, w: crowded, d: distant\n",
    "- 8. **gill-size**\n",
    "    - b: broad, n: narrow\n",
    "- 9. **gill-color** \n",
    "    - k: black, n: brown, b: buff, h: chocolate, g: gray,  r: green, o: orange, p: pink, u: purple, e: red, w: white, y: yellow\n",
    "- 10. **stalk-shape** \n",
    "    - e: enlarging, t: tapering\n",
    "- 11. **stalk-root** - Shape of the stalk root\n",
    "    - b: bulbous, c: club, u: cup, e: equal, z: rhizomorphs, r: rooted, ?: missing\n",
    "- 12. **stalk-surface-above-ring**\n",
    "    - f: fibrous, y: scaly, k: silky, s: smooth\n",
    "- 13. **stalk-surface-below-ring** \n",
    "    - f: fibrous, y: scaly, k. silky, s: smooth\n",
    "- 14. **stalk-color-above-ring**\n",
    "    - n: brown, b:. buff, c: cinnamon, g: gray, o: orange, p:  pink, e: red, w: white, y: yellow\n",
    "- 15. **stalk-color-below-ring**\n",
    "    - n: brown, b: buff, c: cinnamon, g: gray, o: orange, p:  pink, e: red, w: white, y: yellow\n",
    "- 16. **veil-type** \n",
    "    - p: partial, u: universal\n",
    "- 17. **veil-color** \n",
    "    - n: brown, o: orange, w: white, y: yellow\n",
    "- 18. **ring-number** \n",
    "    - n: none, o: one, t: two\n",
    "- 19. **ring-type** \n",
    "    - c: cobwebby, e: evanescent, f: flaring, l: large, n: none, p: pendant, s: sheathing, z: zone\n",
    "- 20. **spore-print-color**\n",
    "    - k: black n: brown, b: buff, h: chocolate, r: green, o:  orange, u:. purple, w: white, y: yellow\n",
    "- 21. **population** \n",
    "    - a: abundant, c: clustered, n: numerous, s: scattered, v: several, y: solitary\n",
    "- 22. **habitat**: \n",
    "    - g: grasses, l: leaves, m: meadows, p: paths, u: urban, w: waste, d: woods"
   ]
  },
  {
   "cell_type": "code",
   "execution_count": 4,
   "metadata": {},
   "outputs": [
    {
     "name": "stdout",
     "output_type": "stream",
     "text": [
      "<class 'pandas.core.frame.DataFrame'>\n",
      "RangeIndex: 8124 entries, 0 to 8123\n",
      "Data columns (total 23 columns):\n",
      "class                       8124 non-null object\n",
      "cap-shape                   8124 non-null object\n",
      "cap-surface                 8124 non-null object\n",
      "cap-color                   8124 non-null object\n",
      "bruises                     8124 non-null object\n",
      "odor                        8124 non-null object\n",
      "gill-attachment             8124 non-null object\n",
      "gill-spacing                8124 non-null object\n",
      "gill-size                   8124 non-null object\n",
      "gill-color                  8124 non-null object\n",
      "stalk-shape                 8124 non-null object\n",
      "stalk-root                  8124 non-null object\n",
      "stalk-surface-above-ring    8124 non-null object\n",
      "stalk-surface-below-ring    8124 non-null object\n",
      "stalk-color-above-ring      8124 non-null object\n",
      "stalk-color-below-ring      8124 non-null object\n",
      "veil-type                   8124 non-null object\n",
      "veil-color                  8124 non-null object\n",
      "ring-number                 8124 non-null object\n",
      "ring-type                   8124 non-null object\n",
      "spore-print-color           8124 non-null object\n",
      "population                  8124 non-null object\n",
      "habitat                     8124 non-null object\n",
      "dtypes: object(23)\n",
      "memory usage: 1.4+ MB\n"
     ]
    }
   ],
   "source": [
    "df.info()"
   ]
  },
  {
   "cell_type": "markdown",
   "metadata": {},
   "source": [
    "When looking at df.info() it initially looks like there are no missing values. But when looking into the data of the stalk-root feature, we can tell that there are actually quite a few missing values in this column. When graphing this column based on the class of mushroom, edible/poinsonous we can see that a high percentage of this column is missing. This is denoted by a questionmasrk **?** in this dataset. "
   ]
  },
  {
   "cell_type": "code",
   "execution_count": 5,
   "metadata": {},
   "outputs": [
    {
     "data": {
      "text/plain": [
       "b    3776\n",
       "?    2480\n",
       "e    1120\n",
       "c     556\n",
       "r     192\n",
       "Name: stalk-root, dtype: int64"
      ]
     },
     "execution_count": 5,
     "metadata": {},
     "output_type": "execute_result"
    }
   ],
   "source": [
    "df[\"stalk-root\"].value_counts()"
   ]
  },
  {
   "cell_type": "code",
   "execution_count": 6,
   "metadata": {},
   "outputs": [
    {
     "data": {
      "image/png": "[encoded data removed]",
      "text/plain": [
       "<Figure size 1080x360 with 1 Axes>"
      ]
     },
     "metadata": {
      "needs_background": "light"
     },
     "output_type": "display_data"
    }
   ],
   "source": [
    "plt.figure(figsize=(15,5));\n",
    "sns.countplot(df[\"stalk-root\"], hue=df[\"class\"]);\n",
    "plt.title(\"number of different stalk-roots dependent of class\", size=\"20\");\n",
    "plt.xlabel(\"Stalk-root shape\", size=\"15\");\n",
    "plt.ylabel(\"Number of instances\", size=\"15\"); \n",
    "plt.legend([\"poisonous\", \"edible\"], prop={'size': 15});\n",
    "plt.xticks(size=\"12\");\n"
   ]
  },
  {
   "cell_type": "markdown",
   "metadata": {},
   "source": [
    "It is important to look into whether or not the dataset is imbalanced. If the data is imbalanced, one class has a lot more instances than the other. The best classifcation situation would be one where there are about equally as many instances of both classes.\n",
    "\n",
    "The plot below shows the distribution of the two different classes we are going to predict. There seem to be slightly more edible mushrooms than poisonous ones. It seems like we have a fairly balanced dataset."
   ]
  },
  {
   "cell_type": "code",
   "execution_count": 7,
   "metadata": {},
   "outputs": [
    {
     "data": {
      "image/png": "[encoded data removed]",
      "text/plain": [
       "<Figure size 1080x360 with 1 Axes>"
      ]
     },
     "metadata": {
      "needs_background": "light"
     },
     "output_type": "display_data"
    }
   ],
   "source": [
    "plt.figure(figsize=(15,5));\n",
    "sns.countplot(df[\"class\"]);\n",
    "plt.title(\"Class distribution\", size=\"20\");\n",
    "plt.xlabel(\"Class, poisonous, edible\", size=\"15\");\n",
    "plt.ylabel(\"Number of instances\", size=\"15\"); \n",
    "plt.xticks(size=\"12\");"
   ]
  },
  {
   "cell_type": "code",
   "execution_count": 8,
   "metadata": {},
   "outputs": [
    {
     "data": {
      "image/png": "[encoded data removed]",
      "text/plain": [
       "<Figure size 1080x360 with 1 Axes>"
      ]
     },
     "metadata": {
      "needs_background": "light"
     },
     "output_type": "display_data"
    }
   ],
   "source": [
    "plt.figure(figsize=(15,5));\n",
    "sns.countplot(df[\"odor\"], hue=df[\"class\"]);\n",
    "plt.title(\"Class distribution\", size=\"20\");\n",
    "plt.xlabel(\"Class, poisonous, edible\", size=\"15\");\n",
    "plt.ylabel(\"Number of instances\", size=\"15\"); \n",
    "plt.xticks(size=\"12\");"
   ]
  },
  {
   "cell_type": "markdown",
   "metadata": {},
   "source": [
    "When looking at the subplots below, we can tell that some columns are very skewed towards one value. \n",
    "- veil-type only contains values of type p\n",
    "- veil-color contains an overwhelming amount of white instances\n",
    "- gill-attachment contains a very skewed amount of values for free\n",
    "- ring-number is very skewed towards one ring"
   ]
  },
  {
   "cell_type": "code",
   "execution_count": 9,
   "metadata": {},
   "outputs": [
    {
     "data": {
      "text/plain": [
       "p    8124\n",
       "Name: veil-type, dtype: int64"
      ]
     },
     "execution_count": 9,
     "metadata": {},
     "output_type": "execute_result"
    }
   ],
   "source": [
    "df[\"veil-type\"].value_counts()"
   ]
  },
  {
   "cell_type": "code",
   "execution_count": 10,
   "metadata": {},
   "outputs": [
    {
     "data": {
      "text/plain": [
       "w    7924\n",
       "o      96\n",
       "n      96\n",
       "y       8\n",
       "Name: veil-color, dtype: int64"
      ]
     },
     "execution_count": 10,
     "metadata": {},
     "output_type": "execute_result"
    }
   ],
   "source": [
    "df[\"veil-color\"].value_counts()"
   ]
  },
  {
   "cell_type": "code",
   "execution_count": 11,
   "metadata": {},
   "outputs": [
    {
     "data": {
      "text/plain": [
       "f    7914\n",
       "a     210\n",
       "Name: gill-attachment, dtype: int64"
      ]
     },
     "execution_count": 11,
     "metadata": {},
     "output_type": "execute_result"
    }
   ],
   "source": [
    "df[\"gill-attachment\"].value_counts()"
   ]
  },
  {
   "cell_type": "code",
   "execution_count": 12,
   "metadata": {},
   "outputs": [
    {
     "data": {
      "text/plain": [
       "o    7488\n",
       "t     600\n",
       "n      36\n",
       "Name: ring-number, dtype: int64"
      ]
     },
     "execution_count": 12,
     "metadata": {},
     "output_type": "execute_result"
    }
   ],
   "source": [
    "df[\"ring-number\"].value_counts()"
   ]
  },
  {
   "cell_type": "markdown",
   "metadata": {},
   "source": [
    "The plot below is a summary plot of all the features to see the distribution within each feature. When looking at them closely we can again see that some features are heavily imbalanced or close to uniform. We will consider dropping some of these values."
   ]
  },
  {
   "cell_type": "code",
   "execution_count": 13,
   "metadata": {},
   "outputs": [
    {
     "data": {
      "image/png": "[encoded data removed]",
      "text/plain": [
       "<Figure size 1080x1800 with 22 Axes>"
      ]
     },
     "metadata": {
      "needs_background": "light"
     },
     "output_type": "display_data"
    }
   ],
   "source": [
    "fig, ax = plt.subplots(11,2, figsize=(15,25))\n",
    "fig.suptitle(\"Count plot of all features\", size=25, y=0.92)\n",
    "\n",
    "sns.countplot(df[\"class\"], ax=ax[0,0])\n",
    "ax[0,0].set_title(\"count of edible/poisonous\", size=\"15\");\n",
    "ax[0,0].set_xlabel(\"class\", size=\"12\")\n",
    "\n",
    "sns.countplot(df[\"cap-shape\"], ax=ax[0,1])\n",
    "ax[0,1].set_title(\"count of cap-shapes\", size=\"15\");\n",
    "ax[0,1].set_xlabel(\"cap-shape\", size=\"12\")\n",
    "\n",
    "sns.countplot(df[\"cap-surface\"], ax=ax[1,0])\n",
    "ax[1,0].set_title(\"count of cap-surface\", size=\"15\");\n",
    "ax[1,0].set_xlabel(\"cap-surface\", size=\"12\")\n",
    "\n",
    "sns.countplot(df[\"cap-color\"], ax=ax[1,1])\n",
    "ax[1,1].set_title(\"count of cap-color\", size=\"15\");\n",
    "ax[1,1].set_xlabel(\"cap-color\", size=\"12\")\n",
    "\n",
    "sns.countplot(df[\"bruises\"], ax=ax[2,0])\n",
    "ax[2,0].set_title(\"count of bruising\", size=\"15\");\n",
    "ax[2,0].set_xlabel(\"bruises\", size=\"12\")\n",
    "\n",
    "sns.countplot(df[\"odor\"], ax=ax[2,1])\n",
    "ax[2,1].set_title(\"count of odor\", size=\"15\");\n",
    "ax[2,1].set_xlabel(\"odors\", size=\"12\")\n",
    "\n",
    "sns.countplot(df[\"gill-attachment\"], ax=ax[3,0])\n",
    "ax[3,0].set_title(\"count of gill-attachment\", size=\"15\");\n",
    "ax[3,0].set_xlabel(\"gill-attachment\", size=\"12\")\n",
    "\n",
    "sns.countplot(df[\"gill-spacing\"], ax=ax[3,1])\n",
    "ax[3,1].set_title(\"count of gill-spacing\", size=\"15\");\n",
    "ax[3,1].set_xlabel(\"gill-spacing\", size=\"12\")\n",
    "\n",
    "sns.countplot(df[\"gill-size\"], ax=ax[4,0])\n",
    "ax[4,0].set_title(\"count of gill-size\", size=\"15\");\n",
    "ax[4,0].set_xlabel(\"gill-size\", size=\"14\")\n",
    "\n",
    "sns.countplot(df[\"gill-color\"], ax=ax[4,1])\n",
    "ax[4,1].set_title(\"count of gill-color\", size=\"15\");\n",
    "ax[4,1].set_xlabel(\"gill-colors\", size=\"12\")\n",
    "\n",
    "sns.countplot(df[\"stalk-shape\"], ax=ax[5,0])\n",
    "ax[5,0].set_title(\"count of stalk-shape\", size=\"15\");\n",
    "ax[5,0].set_xlabel(\"stalk-shapes\", size=\"12\")\n",
    "\n",
    "sns.countplot(df[\"stalk-root\"], ax=ax[5,1])\n",
    "ax[5,1].set_title(\"count of stalk-root\", size=\"15\");\n",
    "ax[5,1].set_xlabel(\"stalk-root\", size=\"12\")\n",
    "\n",
    "sns.countplot(df[\"stalk-surface-above-ring\"], ax=ax[6,0])\n",
    "ax[6,0].set_title(\"count of stalk-surface-above-ring\", size=\"15\");\n",
    "ax[6,0].set_xlabel(\"stalk-surface-above-ring\", size=\"12\")\n",
    "\n",
    "sns.countplot(df[\"stalk-surface-below-ring\"], ax=ax[6,1])\n",
    "ax[6,1].set_title(\"count of stalk-surface-below-ring\", size=\"15\");\n",
    "ax[6,1].set_xlabel(\"stalk-surface-below-ring\", size=\"12\")\n",
    "\n",
    "sns.countplot(df[\"stalk-color-above-ring\"], ax=ax[7,0])\n",
    "ax[7,0].set_title(\"count of stalk-color-above-ring\", size=\"15\");\n",
    "ax[7,0].set_xlabel(\"stalk-color-above-ring\", size=\"12\")\n",
    "\n",
    "sns.countplot(df[\"stalk-color-below-ring\"], ax=ax[7,1])\n",
    "ax[7,1].set_title(\"count of stalk-color-below-ring\", size=\"15\");\n",
    "ax[7,1].set_xlabel(\"stalk-color-below-ring\", size=\"12\")\n",
    "\n",
    "sns.countplot(df[\"veil-type\"], ax=ax[8,0])\n",
    "ax[8,0].set_title(\"count of veil-type\", size=\"15\");\n",
    "ax[8,0].set_xlabel(\"veil-type\", size=\"12\")\n",
    "\n",
    "sns.countplot(df[\"veil-color\"], ax=ax[8,1])\n",
    "ax[8,1].set_title(\"count of veil-color\", size=\"15\");\n",
    "ax[8,1].set_xlabel(\"veil-color\", size=\"12\");\n",
    "\n",
    "sns.countplot(df[\"ring-number\"], ax=ax[9,0])\n",
    "ax[9,0].set_title(\"count of ring-number\", size=\"15\");\n",
    "ax[9,0].set_xlabel(\"ring-number\", size=\"12\");\n",
    "\n",
    "sns.countplot(df[\"ring-type\"], ax=ax[9,1])\n",
    "ax[9,1].set_title(\"count of ring-type\", size=\"15\");\n",
    "ax[9,1].set_xlabel(\"ring-type\", size=\"12\");\n",
    "\n",
    "sns.countplot(df[\"spore-print-color\"], ax=ax[10,0])\n",
    "ax[10,0].set_title(\"count of spore-print-color\", size=\"15\");\n",
    "ax[10,0].set_xlabel(\"spore-print-color\", size=\"12\");\n",
    "\n",
    "sns.countplot(df[\"population\"], ax=ax[10,1])\n",
    "ax[10,1].set_title(\"count of population\", size=\"15\");\n",
    "ax[10,1].set_xlabel(\"population\", size=\"12\");\n",
    "plt.subplots_adjust(hspace = 0.75)"
   ]
  },
  {
   "cell_type": "markdown",
   "metadata": {},
   "source": [
    "## Data Cleaning"
   ]
  },
  {
   "cell_type": "markdown",
   "metadata": {},
   "source": [
    "- Based on the plots we used to explore the data we can tell that stalk-root had a lot of missing values. it will not be very useful in making predictions. This feature will be dropped.\n",
    "- Veil-type only contains values of type p which means that this column is the same for every instance in the dataset. It is therefore not useful in making predictions and it will be removed. \n",
    "- veil-color had very few values of any other type than white\n",
    "- ring-number had very few values of any other type than one ring\n",
    "- gill-attachment had very few values of any other type than free"
   ]
  },
  {
   "cell_type": "code",
   "execution_count": 14,
   "metadata": {},
   "outputs": [],
   "source": [
    "df.drop(columns=[\"veil-type\", \"stalk-root\", \"veil-color\", \"ring-number\", \"gill-attachment\"], inplace=True)"
   ]
  },
  {
   "cell_type": "markdown",
   "metadata": {},
   "source": [
    "The target variable is set to 0 = poisonous and 1 = edible."
   ]
  },
  {
   "cell_type": "code",
   "execution_count": 15,
   "metadata": {},
   "outputs": [],
   "source": [
    "df[\"class\"] = (df[\"class\"] == \"e\").astype(int)"
   ]
  },
  {
   "cell_type": "markdown",
   "metadata": {},
   "source": [
    "Since all of the data we are working with is categorical we need to get dummies of the dataframe so we can use it in scikit-learn."
   ]
  },
  {
   "cell_type": "code",
   "execution_count": 16,
   "metadata": {},
   "outputs": [],
   "source": [
    "columns = df.columns[df.columns != \"class\"]\n",
    "df1 = df.drop(columns=[\"class\"])\n",
    "df1 = pd.get_dummies(df1, columns=columns)"
   ]
  },
  {
   "cell_type": "markdown",
   "metadata": {},
   "source": [
    "The dataframe now has 111 columns/features, that all contain numeric non-categorical data, ready for scikit-learn machine learning."
   ]
  },
  {
   "cell_type": "markdown",
   "metadata": {},
   "source": [
    "# Naive Bayes"
   ]
  },
  {
   "cell_type": "markdown",
   "metadata": {},
   "source": [
    "# Model 1 - Naive Bayes"
   ]
  },
  {
   "cell_type": "markdown",
   "metadata": {},
   "source": [
    "For the first model we will be using Naive Bayes, since this is a very fast and easy classification model to implement. However we should be careful of strongly correlated values."
   ]
  },
  {
   "cell_type": "code",
   "execution_count": 17,
   "metadata": {},
   "outputs": [],
   "source": [
    "X = df1.values\n",
    "y = df[\"class\"].values\n",
    "X_train, X_test, y_train, y_test = train_test_split(X, y, test_size=0.3, random_state=42)"
   ]
  },
  {
   "cell_type": "markdown",
   "metadata": {},
   "source": [
    "#### Accuracy\n",
    "When looking at the baseline accuracy this seems reasonable from the plot we made in exploration of the class variable, where we saw a distribution of almost 50/50. The accuracy of the model however comes out to 0.981 which is very very high. It seems that the data we are working with gives extremely good predictions when using all the features of the set."
   ]
  },
  {
   "cell_type": "code",
   "execution_count": 18,
   "metadata": {},
   "outputs": [
    {
     "name": "stdout",
     "output_type": "stream",
     "text": [
      "The baseline accuracy is: 0.481\n",
      "The accuracy of the model is: 0.981\n"
     ]
    }
   ],
   "source": [
    "clf = GaussianNB()\n",
    "clf.fit(X_train, y_train)\n",
    "y_pred = clf.predict(X_test)\n",
    "\n",
    "print(\"The baseline accuracy is: {:.3}\".format(1 - y_train.mean()))\n",
    "print(\"The accuracy of the model is: {:.3}\".format(clf.score(X_test, y_test)))"
   ]
  },
  {
   "cell_type": "code",
   "execution_count": 19,
   "metadata": {},
   "outputs": [],
   "source": [
    "def print_conf_mtx(y_true, y_pred, classes=None):\n",
    "    \"\"\" Print a confusion matrix (two classes only). \"\"\"\n",
    "    \n",
    "    if not classes:\n",
    "        classes = ['poisonous', ' edible']\n",
    "   \t \n",
    "    # formatting\n",
    "    max_class_len = max([len(s) for s in classes])\n",
    "    m = max(max_class_len, len('predicted')//2 + 1)\n",
    "    n = max(len('actual')+1, max_class_len)\n",
    "    left   \t= '{:<10s}'.replace('10',str(n))\n",
    "    right  \t= '{:>10s}'.replace('10',str(m))\n",
    "    big_center = '{:^20s}'.replace('20',str(m*2))\n",
    "    \n",
    "    cm = confusion_matrix(y_test, y_pred)\n",
    "    print((left+big_center).format('', 'predicted'))\n",
    "    print((left+right+right).format('actual', classes[0], classes[1]))\n",
    "    print((left+right+right).format(classes[0], str(cm[0,0]), str(cm[0,1])))\n",
    "    print((left+right+right).format(classes[1], str(cm[1,0]), str(cm[1,1])))\n",
    "\n",
    "def getPrecision(y_true, y_pred):\n",
    "    cm = confusion_matrix(y_test, y_pred)\n",
    "    pospos = cm[[1],1]\n",
    "    poscol = cm[[0],1]\n",
    "    return (pospos / (pospos + poscol))[0]\n",
    "\n",
    "def getRecall(y_true, y_pred):\n",
    "    cm = confusion_matrix(y_test, y_pred)\n",
    "    #print(cm.shape)\n",
    "    pospos = cm[[1],1]\n",
    "    posrow = cm[[1],0]\n",
    "    return (pospos / (pospos + posrow))[0]\n",
    "\n",
    "def precisionRecallCurve(y_probs, y_test):\n",
    "    thresholds = np.linspace(0,1,100)\n",
    "    precision_vals = []\n",
    "    recall_vals = []\n",
    "    for t in thresholds:\n",
    "        y_pred = (y_probs > t).astype(int)\n",
    "        precision_vals.append(precision_score(y_pred, y_test))\n",
    "        recall_vals.append(recall_score(y_pred, y_test))\n",
    "    ticks = np.linspace(0,1,10)\n",
    "    labels = ticks.round(1)\n",
    "    precision_vals = np.array(precision_vals)\n",
    "    recall_vals = np.array(recall_vals)\n",
    "    precision_vals = np.insert(precision_vals, 0, 1.0)\n",
    "    recall_vals = np.insert(recall_vals, 0, 0)\n",
    "    recall_vals[-1] = 1.0\n",
    "    plt.title(\"Precision/Recall\")\n",
    "    plt.xlabel(\"Recall\")\n",
    "    plt.ylabel(\"Precision\")\n",
    "    plt.fill_between(recall_vals, precision_vals, alpha=0.2, color='b')\n",
    "    plt.plot(recall_vals, precision_vals)\n"
   ]
  },
  {
   "cell_type": "markdown",
   "metadata": {},
   "source": [
    "#### Confusion Matrix\n",
    "\n",
    "When looking at the confusion matrix it looks like both the precision and recall values are very good. The precision is better than the recall, which is very important for this kind of classification problem it is very important to get the ones predicted to be edible to actually be edible because the consequences of false positives in this case could be death."
   ]
  },
  {
   "cell_type": "code",
   "execution_count": 20,
   "metadata": {},
   "outputs": [
    {
     "name": "stdout",
     "output_type": "stream",
     "text": [
      "             predicted     \n",
      "actual   poisonous   edible\n",
      "poisonous     1180        1\n",
      " edible         46     1211\n"
     ]
    }
   ],
   "source": [
    "print_conf_mtx(y_test, y_pred)"
   ]
  },
  {
   "cell_type": "markdown",
   "metadata": {},
   "source": [
    "#### Precision/Recall\n",
    "\n",
    "- Precision: of the positive predictions, what fraction are correct\n",
    "- Recall: of the positive cases, which fraction are predicted positive\n",
    "\n",
    "We definitely want a higher precision than recall here even though there in this canse only is a very small difference."
   ]
  },
  {
   "cell_type": "code",
   "execution_count": 21,
   "metadata": {},
   "outputs": [
    {
     "name": "stdout",
     "output_type": "stream",
     "text": [
      "Precision: 1.00\n",
      "Recall: 0.96\n"
     ]
    }
   ],
   "source": [
    "print(\"Precision: {:.2f}\".format(getPrecision(y_test, y_pred)))\n",
    "print(\"Recall: {:.2f}\".format(getRecall(y_test, y_pred)))"
   ]
  },
  {
   "cell_type": "code",
   "execution_count": 22,
   "metadata": {},
   "outputs": [],
   "source": [
    "te_errs = []\n",
    "tr_errs = []\n",
    "tr_sizes = np.linspace(100, X_train.shape[0], 10).astype(int)\n",
    "for tr_size in tr_sizes:\n",
    "  X_train1 = X_train[:tr_size,:]\n",
    "  y_train1 = y_train[:tr_size]\n",
    "  \n",
    "  clf.fit(X_train1, y_train1)\n",
    "\n",
    "  tr_predicted = clf.predict(X_train1)\n",
    "  err = (tr_predicted != y_train1).mean()\n",
    "  tr_errs.append(err)\n",
    "  \n",
    "  te_predicted = clf.predict(X_test)\n",
    "  err = (te_predicted != y_test).mean()\n",
    "  te_errs.append(err)"
   ]
  },
  {
   "cell_type": "markdown",
   "metadata": {},
   "source": [
    "#### Learning Curve\n",
    "\n",
    "Looking at the learning cure we can tell that the error is very small, even at the beginning of the graph. And the graphs are following each other very very closely."
   ]
  },
  {
   "cell_type": "code",
   "execution_count": 23,
   "metadata": {},
   "outputs": [
    {
     "data": {
      "image/png": "[encoded data removed]",
      "text/plain": [
       "<Figure size 720x360 with 1 Axes>"
      ]
     },
     "metadata": {
      "needs_background": "light"
     },
     "output_type": "display_data"
    }
   ],
   "source": [
    "plt.figure(figsize=(10,5))\n",
    "sns.lineplot(x=tr_sizes, y=te_errs);\n",
    "sns.lineplot(x=tr_sizes, y=tr_errs);\n",
    "plt.title(\"Learning curve Model 1\", size=15);\n",
    "plt.xlabel(\"Training set size\", size=15);\n",
    "plt.ylabel(\"Error\", size=15);\n",
    "plt.legend(['Test Data', 'Training Data']);"
   ]
  },
  {
   "cell_type": "markdown",
   "metadata": {},
   "source": [
    "#### Conclusion Model 1\n",
    "\n",
    "This model has a higher precision than recall which is very useful in this type of classification. We would much rather a person not eat an edible mushroom than them eating something poisonous. The accuracy is also very good."
   ]
  },
  {
   "cell_type": "markdown",
   "metadata": {},
   "source": [
    "# Model 2 - Naive Bayes with Feature Selection"
   ]
  },
  {
   "cell_type": "markdown",
   "metadata": {},
   "source": [
    "#### Feature Selection:"
   ]
  },
  {
   "cell_type": "markdown",
   "metadata": {},
   "source": [
    "For the second model we will do feature selection to try to see if we can get the same accuracy as in the previous model with fewer features. When letting the algorithm pick the best 10 columns, we can see that we get an accuracy of 1 at feature number 6."
   ]
  },
  {
   "cell_type": "code",
   "execution_count": 24,
   "metadata": {},
   "outputs": [],
   "source": [
    "X = df1.values\n",
    "y = df[\"class\"].values\n",
    "\n",
    "X_train, X_test, y_train, y_test = train_test_split(X, y, test_size=0.3, random_state=42)\n",
    "clf2 = GaussianNB()\n",
    "clf2.fit(X_train, y_train);\n",
    "\n",
    "\n",
    "def bestFeatures(num):\n",
    "    remaining = list(range(X_train.shape[1]))\n",
    "    selected = []\n",
    "    n = num\n",
    "    while len(selected) < n:\n",
    "        min_acc = -1e7\n",
    "        for i in remaining:\n",
    "            X_i = X_train[:,selected+[i]]\n",
    "            scores = cross_val_score(GaussianNB(), X_i, y_train,\n",
    "           scoring='accuracy', cv=3)\n",
    "            accuracy = scores.mean() \n",
    "            if accuracy > min_acc:\n",
    "                min_acc = accuracy\n",
    "                i_min = i\n",
    "\n",
    "        remaining.remove(i_min)\n",
    "        selected.append(i_min)\n",
    "        print('num features: {}; accuracy: {:.2f}'.format(len(selected), min_acc))\n",
    "    return selected"
   ]
  },
  {
   "cell_type": "code",
   "execution_count": 25,
   "metadata": {},
   "outputs": [
    {
     "name": "stdout",
     "output_type": "stream",
     "text": [
      "num features: 1; accuracy: 0.89\n",
      "num features: 2; accuracy: 0.94\n",
      "num features: 3; accuracy: 0.96\n",
      "num features: 4; accuracy: 0.96\n",
      "num features: 5; accuracy: 0.99\n",
      "num features: 6; accuracy: 1.00\n",
      "num features: 7; accuracy: 1.00\n",
      "num features: 8; accuracy: 1.00\n",
      "num features: 9; accuracy: 1.00\n",
      "num features: 10; accuracy: 1.00\n"
     ]
    }
   ],
   "source": [
    "selected = df1.columns[bestFeatures(10)]"
   ]
  },
  {
   "cell_type": "markdown",
   "metadata": {},
   "source": [
    "Here we see that the best features picked by the algorithm are to do with odor, habitat and spore print color. These are features that might be easy for people to identify, however spore prints might not always be present and stalk color below the ring can also be hard to distinguish. We will explore if we can find such features that are easier to observe and give good accuracy in the next model."
   ]
  },
  {
   "cell_type": "code",
   "execution_count": 26,
   "metadata": {},
   "outputs": [
    {
     "name": "stdout",
     "output_type": "stream",
     "text": [
      "The best 6 features are: ['odor_n' 'odor_a' 'habitat_m' 'spore-print-color_r' 'odor_l'\n",
      " 'stalk-color-below-ring_y']\n"
     ]
    }
   ],
   "source": [
    "predictors = selected[0:6].values\n",
    "print(\"The best 6 features are:\", predictors)"
   ]
  },
  {
   "cell_type": "markdown",
   "metadata": {},
   "source": [
    "#### Correlation Plot of chosen features\n",
    "\n",
    "This heatmap shows the correlation between the features chosen in feature selection. Naive Bayes models don't do well with strongly correlated features, in this plot we can tell that habitat seems to be somewhat correlated with odors almond and anise but the model does not seem to suffer from this."
   ]
  },
  {
   "cell_type": "code",
   "execution_count": 27,
   "metadata": {},
   "outputs": [
    {
     "data": {
      "image/png": "[encoded data removed]",
      "text/plain": [
       "<Figure size 720x360 with 2 Axes>"
      ]
     },
     "metadata": {
      "needs_background": "light"
     },
     "output_type": "display_data"
    }
   ],
   "source": [
    "plt.figure(figsize=(10,5))\n",
    "corr = df1[predictors].corr();\n",
    "sns.heatmap(corr);\n",
    "plt.title(\"Heatmap of features used in model 2\");"
   ]
  },
  {
   "cell_type": "markdown",
   "metadata": {},
   "source": [
    "Training our new model using the predictors found by feature selection"
   ]
  },
  {
   "cell_type": "code",
   "execution_count": 28,
   "metadata": {},
   "outputs": [],
   "source": [
    "X = df1[predictors].values\n",
    "y = df[\"class\"].values\n",
    "\n",
    "X_train, X_test, y_train, y_test = train_test_split(X,y, test_size=0.3, random_state=42)\n",
    "\n",
    "clf2 = GaussianNB();\n",
    "clf2.fit(X_train, y_train);"
   ]
  },
  {
   "cell_type": "markdown",
   "metadata": {},
   "source": [
    "#### Accuracy\n",
    "Looking at the accuracy for this model it has gone up by 0.01 percent using these six predictors. This is a very good model for predicting edible mushrooms."
   ]
  },
  {
   "cell_type": "code",
   "execution_count": 29,
   "metadata": {},
   "outputs": [
    {
     "name": "stdout",
     "output_type": "stream",
     "text": [
      "The baseline accuracy is: 0.481\n",
      "The accuracy of the model is: 0.996\n"
     ]
    }
   ],
   "source": [
    "y_pred = clf2.predict(X_test)\n",
    "print(\"The baseline accuracy is: {:.3}\".format(1 - y_train.mean()))\n",
    "print(\"The accuracy of the model is: {:.3}\".format(clf2.score(X_test, y_test)))"
   ]
  },
  {
   "cell_type": "markdown",
   "metadata": {},
   "source": [
    "#### Confusion Matrix:\n",
    "\n",
    "Looking at the confusion Matrix for the model we can tell that the results have changed ever so slightly. There is now a better Recall value while Precision has gone a bit down. One could argue that this development is not favourable since it is very bad to predict a mushroom to be edible and it ending up actually being poisonous."
   ]
  },
  {
   "cell_type": "code",
   "execution_count": 30,
   "metadata": {},
   "outputs": [
    {
     "name": "stdout",
     "output_type": "stream",
     "text": [
      "             predicted     \n",
      "actual   poisonous   edible\n",
      "poisonous     1172        9\n",
      " edible          0     1257\n"
     ]
    }
   ],
   "source": [
    "print_conf_mtx(y_test, y_pred)"
   ]
  },
  {
   "cell_type": "markdown",
   "metadata": {},
   "source": [
    "#### Precision/Recall:\n",
    "\n",
    "The precision recall values are confirming what we saw in the confusion matrix, that Recall is now perfect while Precision has gone down, even if only by a little."
   ]
  },
  {
   "cell_type": "code",
   "execution_count": 31,
   "metadata": {},
   "outputs": [
    {
     "name": "stdout",
     "output_type": "stream",
     "text": [
      "Precision: 0.993\n",
      "Recall: 1.000\n"
     ]
    }
   ],
   "source": [
    "print(\"Precision: {:.3f}\".format(getPrecision(y_test, y_pred)))\n",
    "print(\"Recall: {:.3f}\".format(getRecall(y_test, y_pred)))"
   ]
  },
  {
   "cell_type": "markdown",
   "metadata": {},
   "source": [
    "#### Learning Curve:\n",
    "\n",
    "The learning curve looks very interesting. We can tell that the error is very very small. We do not seem to have a high variance case since the training error is so low and the gap between the curves is pretty small. It does not look like a high bias problem either since the training error is so low. It looks like the model is fitted very well to the training data and that it works very well for the test data."
   ]
  },
  {
   "cell_type": "code",
   "execution_count": 32,
   "metadata": {},
   "outputs": [],
   "source": [
    "te_errs = []\n",
    "tr_errs = []\n",
    "tr_sizes = np.linspace(100, X_train.shape[0], 10).astype(int)\n",
    "for tr_size in tr_sizes:\n",
    "  X_train1 = X_train[:tr_size,:]\n",
    "  y_train1 = y_train[:tr_size]\n",
    "  \n",
    "  clf2.fit(X_train1, y_train1)\n",
    "\n",
    "  tr_predicted = clf2.predict(X_train1)\n",
    "  err = (tr_predicted != y_train1).mean()\n",
    "  tr_errs.append(err)\n",
    "  \n",
    "  te_predicted = clf2.predict(X_test)\n",
    "  err = (te_predicted != y_test).mean()\n",
    "  te_errs.append(err)"
   ]
  },
  {
   "cell_type": "code",
   "execution_count": 33,
   "metadata": {},
   "outputs": [
    {
     "data": {
      "image/png": "[encoded data removed]",
      "text/plain": [
       "<Figure size 720x360 with 1 Axes>"
      ]
     },
     "metadata": {
      "needs_background": "light"
     },
     "output_type": "display_data"
    }
   ],
   "source": [
    "plt.figure(figsize=(10,5))\n",
    "sns.lineplot(x=tr_sizes, y=te_errs);\n",
    "sns.lineplot(x=tr_sizes, y=tr_errs);\n",
    "plt.title(\"Learning curve Model 2\", size=15);\n",
    "plt.xlabel(\"Training set size\", size=15);\n",
    "plt.ylabel(\"Error\", size=15);\n",
    "plt.legend(['Test Data', 'Training Data']);"
   ]
  },
  {
   "cell_type": "markdown",
   "metadata": {},
   "source": [
    "#### Conclusion Model 2\n",
    "Overall accuracy is very good for this model, it seems doing forward feature selection from all the columns in the data set is very good. We get a very high precision and recall as well. However some of the features selected by forward feature selection can be hard to identify while out looking for mushrooms."
   ]
  },
  {
   "cell_type": "markdown",
   "metadata": {},
   "source": [
    "# Model 3 - Naive Bayes - Making the most usable prediction model"
   ]
  },
  {
   "cell_type": "markdown",
   "metadata": {},
   "source": [
    "In this model we will try to make to most usable prediction model possible by selecting features that are easy for people going shrooming to distiguish between. The features we selected are: \n",
    "- cap-surface\n",
    "- odor \n",
    "- cap-shape\n",
    "These are all features that should be easily distinguishable when going out looking for mushrooms and it should be easy for people to take note of these characteristics. We are getting dummy variables for these featues as they are categorical in nature."
   ]
  },
  {
   "cell_type": "code",
   "execution_count": 34,
   "metadata": {},
   "outputs": [],
   "source": [
    "cols = [\"cap-surface\", \"odor\", \"cap-shape\"]\n",
    "df3 = df[cols]\n",
    "df3 = pd.get_dummies(df3)"
   ]
  },
  {
   "cell_type": "code",
   "execution_count": 35,
   "metadata": {},
   "outputs": [],
   "source": [
    "X = df3.values\n",
    "\n",
    "X_train, X_test, y_train, y_test = train_test_split(X, y, test_size=0.3, random_state=42)\n",
    "clf3 = GaussianNB()\n",
    "clf3.fit(X_train, y_train);"
   ]
  },
  {
   "cell_type": "markdown",
   "metadata": {},
   "source": [
    "#### Forward feature selection: \n",
    "\n",
    "When doing forward feature selection based on the features we chose for this model, we get an accuracy of 99 when we get to 5 features."
   ]
  },
  {
   "cell_type": "code",
   "execution_count": 36,
   "metadata": {},
   "outputs": [
    {
     "name": "stdout",
     "output_type": "stream",
     "text": [
      "num features: 1; accuracy: 0.89\n",
      "num features: 2; accuracy: 0.94\n",
      "num features: 3; accuracy: 0.96\n",
      "num features: 4; accuracy: 0.96\n",
      "num features: 5; accuracy: 0.99\n"
     ]
    }
   ],
   "source": [
    "selected = df3.columns[bestFeatures(5)]"
   ]
  },
  {
   "cell_type": "markdown",
   "metadata": {},
   "source": [
    "The best five features to use for these predictions according to forward feature selection are: \n",
    "- odor none\n",
    "- odor almond\n",
    "- cap shape bell\n",
    "- cap shape conical\n",
    "- odor anise"
   ]
  },
  {
   "cell_type": "code",
   "execution_count": 37,
   "metadata": {},
   "outputs": [
    {
     "name": "stdout",
     "output_type": "stream",
     "text": [
      "The best 5 features are: ['odor_n' 'odor_a' 'cap-shape_b' 'cap-shape_c' 'odor_l']\n"
     ]
    }
   ],
   "source": [
    "predictors3 = selected[0:10].values\n",
    "print(\"The best 5 features are:\", predictors3)"
   ]
  },
  {
   "cell_type": "markdown",
   "metadata": {},
   "source": [
    "#### Correlation Plot\n",
    "\n",
    "It does not seem like any of the features used in this model are strongly correlated. This is very good for Naive bayes predictions."
   ]
  },
  {
   "cell_type": "code",
   "execution_count": 38,
   "metadata": {},
   "outputs": [
    {
     "data": {
      "image/png": "[encoded data removed]",
      "text/plain": [
       "<Figure size 720x360 with 2 Axes>"
      ]
     },
     "metadata": {
      "needs_background": "light"
     },
     "output_type": "display_data"
    }
   ],
   "source": [
    "plt.figure(figsize=(10,5))\n",
    "corr3 = df3[predictors3].corr();\n",
    "sns.heatmap(corr3);\n",
    "plt.title(\"Heatmap of features used in model2\");"
   ]
  },
  {
   "cell_type": "markdown",
   "metadata": {},
   "source": [
    "#### Accuracy\n",
    "\n",
    "The accuracy of the model is high at 0.985. This isn't a perfect model like we almost acheived with forward feature selection in the previous model, but it is still high enough to be reasonably good at predicting edible mushrooms."
   ]
  },
  {
   "cell_type": "code",
   "execution_count": 39,
   "metadata": {},
   "outputs": [
    {
     "name": "stdout",
     "output_type": "stream",
     "text": [
      "The baseline accuracy is: 0.481\n",
      "The accuracy of the model is: 0.985\n"
     ]
    }
   ],
   "source": [
    "y_pred = clf3.predict(X_test)\n",
    "print(\"The baseline accuracy is: {:.3}\".format(1 - y_train.mean()))\n",
    "print(\"The accuracy of the model is: {:.3}\".format(clf3.score(X_test, y_test)))"
   ]
  },
  {
   "cell_type": "markdown",
   "metadata": {},
   "source": [
    "#### Confusion Matrix\n",
    "\n",
    "When looking at the confusion matrix produced for this model we can tell that the recall is perfect while the precision is a little bit off. It is not much but there are still 36 mushrooms that will be classified aas edible that are actually poisonous. This is not a good outcome. However it is a very very small fraction. One could argue that is would be very important to get precision to 1 here, because you would not want people believing in your model and then ending up being severely poisoned. "
   ]
  },
  {
   "cell_type": "code",
   "execution_count": 40,
   "metadata": {},
   "outputs": [
    {
     "name": "stdout",
     "output_type": "stream",
     "text": [
      "             predicted     \n",
      "actual   poisonous   edible\n",
      "poisonous     1145       36\n",
      " edible          0     1257\n"
     ]
    }
   ],
   "source": [
    "print_conf_mtx(y_test, y_pred)"
   ]
  },
  {
   "cell_type": "markdown",
   "metadata": {},
   "source": [
    "#### Precision/ Recall\n",
    "\n",
    "Like stated in the previous paragraph we can tell that Recall is perfect and we have a little bit to go on when it comes to precision. Hwever, precision for this classification is still really good at 0.97."
   ]
  },
  {
   "cell_type": "code",
   "execution_count": 41,
   "metadata": {},
   "outputs": [
    {
     "name": "stdout",
     "output_type": "stream",
     "text": [
      "Precision: 0.972\n",
      "Recall: 1.000\n"
     ]
    }
   ],
   "source": [
    "print(\"Precision: {:.3f}\".format(getPrecision(y_test, y_pred)))\n",
    "print(\"Recall: {:.3f}\".format(getRecall(y_test, y_pred)))"
   ]
  },
  {
   "cell_type": "code",
   "execution_count": 42,
   "metadata": {},
   "outputs": [],
   "source": [
    "te_errs = []\n",
    "tr_errs = []\n",
    "tr_sizes = np.linspace(100, X_train.shape[0], 10).astype(int)\n",
    "for tr_size in tr_sizes:\n",
    "  X_train1 = X_train[:tr_size,:]\n",
    "  y_train1 = y_train[:tr_size]\n",
    "  \n",
    "  clf3.fit(X_train1, y_train1)\n",
    "\n",
    "  tr_predicted = clf3.predict(X_train1)\n",
    "  err = (tr_predicted != y_train1).mean()\n",
    "  tr_errs.append(err)\n",
    "  \n",
    "  te_predicted = clf3.predict(X_test)\n",
    "  err = (te_predicted != y_test).mean()\n",
    "  te_errs.append(err)"
   ]
  },
  {
   "cell_type": "markdown",
   "metadata": {},
   "source": [
    "#### Learning Curve\n",
    "\n",
    "This learning curve also shows us a very small error. However, it does look like we get a very low error for the training data that actaully goes back up a bit when getting to around 1500 in training size. We also have a point where the two curves intersect at right before 1000 instances. The two lines do however smooth out and stay fairly close to each other as more data is provided. It looks like it is stabilizing at around an error of 0.0150."
   ]
  },
  {
   "cell_type": "code",
   "execution_count": 43,
   "metadata": {},
   "outputs": [
    {
     "data": {
      "image/png": "[encoded data removed]",
      "text/plain": [
       "<Figure size 720x360 with 1 Axes>"
      ]
     },
     "metadata": {
      "needs_background": "light"
     },
     "output_type": "display_data"
    }
   ],
   "source": [
    "plt.figure(figsize=(10,5))\n",
    "sns.lineplot(x=tr_sizes, y=te_errs);\n",
    "sns.lineplot(x=tr_sizes, y=tr_errs);\n",
    "plt.title(\"Learning curve Model 1\", size=15);\n",
    "plt.xlabel(\"Training set size\", size=15);\n",
    "plt.ylabel(\"Error\", size=15);\n",
    "plt.legend(['Test Data', 'Training Data']);"
   ]
  },
  {
   "cell_type": "markdown",
   "metadata": {},
   "source": [
    "#### Conclusion Model 3: \n",
    "\n",
    "It looks like overall we ended up with a marginally lower accuracy and a little bit of a lower precision for this model than for the last model using feature selection on all features in the dataset. However this might be a more usable model for poeple actually in the woods looking for mushrooms. The features we worked with in this case are easier to distinguish than the ones found in the previous even more accurate model."
   ]
  },
  {
   "cell_type": "markdown",
   "metadata": {},
   "source": [
    "# Tree Classifiers"
   ]
  },
  {
   "cell_type": "markdown",
   "metadata": {},
   "source": [
    "# Model 4 - Tree Classification - All Features"
   ]
  },
  {
   "cell_type": "markdown",
   "metadata": {},
   "source": [
    "For the fourth model we are using a tree classifier to compare to our earlier naive bayes models. First we are making a model using all the features in the dataset to see if we get as good of an accuracy here as we did with Naive Bayes."
   ]
  },
  {
   "cell_type": "code",
   "execution_count": 44,
   "metadata": {},
   "outputs": [],
   "source": [
    "np.random.seed(42)"
   ]
  },
  {
   "cell_type": "code",
   "execution_count": 45,
   "metadata": {},
   "outputs": [],
   "source": [
    "X = df1.values\n",
    "\n",
    "X_train, X_test, y_train, y_test = train_test_split(X,y, test_size=0.3, random_state=42)\n",
    "\n",
    "clf4 = DecisionTreeClassifier(max_depth=3, random_state=0);\n",
    "clf4.fit(X_train, y_train);"
   ]
  },
  {
   "cell_type": "markdown",
   "metadata": {},
   "source": [
    "#### Tree Graph\n",
    "\n",
    "A graph displaying our model fit to the training data is produced. From the graph we can tell that our baseline accuracy should be 0.48 since looking at all data points, 48% of the mushrooms are poisonous. So if we haven't looked at the dataset at all before guessing that a mushroom is poisonous, we have a 48% chance of being right."
   ]
  },
  {
   "cell_type": "code",
   "execution_count": 46,
   "metadata": {},
   "outputs": [
    {
     "data": {
      "image/svg+xml": [
       "<?xml version=\"1.0\" encoding=\"UTF-8\" standalone=\"no\"?>\n",
       "<!DOCTYPE svg PUBLIC \"-//W3C//DTD SVG 1.1//EN\"\n",
       " \"http://www.w3.org/Graphics/SVG/1.1/DTD/svg11.dtd\">\n",
       "<!-- Generated by graphviz version 2.40.1 (20161225.0304)\n",
       " -->\n",
       "<!-- Title: Tree Pages: 1 -->\n",
       "<svg width=\"706pt\" height=\"433pt\"\n",
       " viewBox=\"0.00 0.00 706.00 433.00\" xmlns=\"http://www.w3.org/2000/svg\" xmlns:xlink=\"http://www.w3.org/1999/xlink\">\n",
       "<g id=\"graph0\" class=\"graph\" transform=\"scale(1 1) rotate(0) translate(4 429)\">\n",
       "<title>Tree</title>\n",
       "<polygon fill=\"#ffffff\" stroke=\"transparent\" points=\"-4,4 -4,-429 702,-429 702,4 -4,4\"/>\n",
       "<!-- 0 -->\n",
       "<g id=\"node1\" class=\"node\">\n",
       "<title>0</title>\n",
       "<path fill=\"#f1f8fd\" stroke=\"#000000\" d=\"M410,-425C410,-425 302,-425 302,-425 296,-425 290,-419 290,-413 290,-413 290,-354 290,-354 290,-348 296,-342 302,-342 302,-342 410,-342 410,-342 416,-342 422,-348 422,-354 422,-354 422,-413 422,-413 422,-419 416,-425 410,-425\"/>\n",
       "<text text-anchor=\"start\" x=\"317.5\" y=\"-409.8\" font-family=\"Helvetica,sans-Serif\" font-size=\"14.00\" fill=\"#000000\">odor_n ≤ 0.5</text>\n",
       "<text text-anchor=\"start\" x=\"328\" y=\"-394.8\" font-family=\"Helvetica,sans-Serif\" font-size=\"14.00\" fill=\"#000000\">gini = 0.5</text>\n",
       "<text text-anchor=\"start\" x=\"299\" y=\"-379.8\" font-family=\"Helvetica,sans-Serif\" font-size=\"14.00\" fill=\"#000000\">samples = 100.0%</text>\n",
       "<text text-anchor=\"start\" x=\"298\" y=\"-364.8\" font-family=\"Helvetica,sans-Serif\" font-size=\"14.00\" fill=\"#000000\">value = [0.48, 0.52]</text>\n",
       "<text text-anchor=\"start\" x=\"313.5\" y=\"-349.8\" font-family=\"Helvetica,sans-Serif\" font-size=\"14.00\" fill=\"#000000\">class = Edible</text>\n",
       "</g>\n",
       "<!-- 1 -->\n",
       "<g id=\"node2\" class=\"node\">\n",
       "<title>1</title>\n",
       "<path fill=\"#ea9a61\" stroke=\"#000000\" d=\"M317,-306C317,-306 209,-306 209,-306 203,-306 197,-300 197,-294 197,-294 197,-235 197,-235 197,-229 203,-223 209,-223 209,-223 317,-223 317,-223 323,-223 329,-229 329,-235 329,-235 329,-294 329,-294 329,-300 323,-306 317,-306\"/>\n",
       "<text text-anchor=\"start\" x=\"218\" y=\"-290.8\" font-family=\"Helvetica,sans-Serif\" font-size=\"14.00\" fill=\"#000000\">bruises_f ≤ 0.5</text>\n",
       "<text text-anchor=\"start\" x=\"231\" y=\"-275.8\" font-family=\"Helvetica,sans-Serif\" font-size=\"14.00\" fill=\"#000000\">gini = 0.28</text>\n",
       "<text text-anchor=\"start\" x=\"210\" y=\"-260.8\" font-family=\"Helvetica,sans-Serif\" font-size=\"14.00\" fill=\"#000000\">samples = 56.1%</text>\n",
       "<text text-anchor=\"start\" x=\"205\" y=\"-245.8\" font-family=\"Helvetica,sans-Serif\" font-size=\"14.00\" fill=\"#000000\">value = [0.83, 0.17]</text>\n",
       "<text text-anchor=\"start\" x=\"208\" y=\"-230.8\" font-family=\"Helvetica,sans-Serif\" font-size=\"14.00\" fill=\"#000000\">class = Poisonous</text>\n",
       "</g>\n",
       "<!-- 0&#45;&gt;1 -->\n",
       "<g id=\"edge1\" class=\"edge\">\n",
       "<title>0&#45;&gt;1</title>\n",
       "<path fill=\"none\" stroke=\"#000000\" d=\"M323.4731,-341.8796C316.5049,-332.9633 309.0753,-323.4565 301.8944,-314.268\"/>\n",
       "<polygon fill=\"#000000\" stroke=\"#000000\" points=\"304.5812,-312.0221 295.6657,-306.2981 299.0657,-316.3326 304.5812,-312.0221\"/>\n",
       "<text text-anchor=\"middle\" x=\"293.2311\" y=\"-322.4493\" font-family=\"Helvetica,sans-Serif\" font-size=\"14.00\" fill=\"#000000\">True</text>\n",
       "</g>\n",
       "<!-- 6 -->\n",
       "<g id=\"node7\" class=\"node\">\n",
       "<title>6</title>\n",
       "<path fill=\"#40a0e6\" stroke=\"#000000\" d=\"M517.5,-306C517.5,-306 380.5,-306 380.5,-306 374.5,-306 368.5,-300 368.5,-294 368.5,-294 368.5,-235 368.5,-235 368.5,-229 374.5,-223 380.5,-223 380.5,-223 517.5,-223 517.5,-223 523.5,-223 529.5,-229 529.5,-235 529.5,-235 529.5,-294 529.5,-294 529.5,-300 523.5,-306 517.5,-306\"/>\n",
       "<text text-anchor=\"start\" x=\"376.5\" y=\"-290.8\" font-family=\"Helvetica,sans-Serif\" font-size=\"14.00\" fill=\"#000000\">spore&#45;print&#45;color_r ≤ 0.5</text>\n",
       "<text text-anchor=\"start\" x=\"417\" y=\"-275.8\" font-family=\"Helvetica,sans-Serif\" font-size=\"14.00\" fill=\"#000000\">gini = 0.06</text>\n",
       "<text text-anchor=\"start\" x=\"396\" y=\"-260.8\" font-family=\"Helvetica,sans-Serif\" font-size=\"14.00\" fill=\"#000000\">samples = 43.9%</text>\n",
       "<text text-anchor=\"start\" x=\"391\" y=\"-245.8\" font-family=\"Helvetica,sans-Serif\" font-size=\"14.00\" fill=\"#000000\">value = [0.03, 0.97]</text>\n",
       "<text text-anchor=\"start\" x=\"406.5\" y=\"-230.8\" font-family=\"Helvetica,sans-Serif\" font-size=\"14.00\" fill=\"#000000\">class = Edible</text>\n",
       "</g>\n",
       "<!-- 0&#45;&gt;6 -->\n",
       "<g id=\"edge6\" class=\"edge\">\n",
       "<title>0&#45;&gt;6</title>\n",
       "<path fill=\"none\" stroke=\"#000000\" d=\"M388.5269,-341.8796C395.4951,-332.9633 402.9247,-323.4565 410.1056,-314.268\"/>\n",
       "<polygon fill=\"#000000\" stroke=\"#000000\" points=\"412.9343,-316.3326 416.3343,-306.2981 407.4188,-312.0221 412.9343,-316.3326\"/>\n",
       "<text text-anchor=\"middle\" x=\"418.7689\" y=\"-322.4493\" font-family=\"Helvetica,sans-Serif\" font-size=\"14.00\" fill=\"#000000\">False</text>\n",
       "</g>\n",
       "<!-- 2 -->\n",
       "<g id=\"node3\" class=\"node\">\n",
       "<title>2</title>\n",
       "<path fill=\"#c1e1f7\" stroke=\"#000000\" d=\"M170,-187C170,-187 62,-187 62,-187 56,-187 50,-181 50,-175 50,-175 50,-116 50,-116 50,-110 56,-104 62,-104 62,-104 170,-104 170,-104 176,-104 182,-110 182,-116 182,-116 182,-175 182,-175 182,-181 176,-187 170,-187\"/>\n",
       "<text text-anchor=\"start\" x=\"79.5\" y=\"-171.8\" font-family=\"Helvetica,sans-Serif\" font-size=\"14.00\" fill=\"#000000\">odor_f ≤ 0.5</text>\n",
       "<text text-anchor=\"start\" x=\"84\" y=\"-156.8\" font-family=\"Helvetica,sans-Serif\" font-size=\"14.00\" fill=\"#000000\">gini = 0.48</text>\n",
       "<text text-anchor=\"start\" x=\"63\" y=\"-141.8\" font-family=\"Helvetica,sans-Serif\" font-size=\"14.00\" fill=\"#000000\">samples = 16.0%</text>\n",
       "<text text-anchor=\"start\" x=\"58\" y=\"-126.8\" font-family=\"Helvetica,sans-Serif\" font-size=\"14.00\" fill=\"#000000\">value = [0.41, 0.59]</text>\n",
       "<text text-anchor=\"start\" x=\"73.5\" y=\"-111.8\" font-family=\"Helvetica,sans-Serif\" font-size=\"14.00\" fill=\"#000000\">class = Edible</text>\n",
       "</g>\n",
       "<!-- 1&#45;&gt;2 -->\n",
       "<g id=\"edge2\" class=\"edge\">\n",
       "<title>1&#45;&gt;2</title>\n",
       "<path fill=\"none\" stroke=\"#000000\" d=\"M211.5865,-222.8796C199.9048,-213.4229 187.4025,-203.302 175.419,-193.6011\"/>\n",
       "<polygon fill=\"#000000\" stroke=\"#000000\" points=\"177.6076,-190.8697 167.6329,-187.2981 173.2032,-196.3105 177.6076,-190.8697\"/>\n",
       "</g>\n",
       "<!-- 5 -->\n",
       "<g id=\"node6\" class=\"node\">\n",
       "<title>5</title>\n",
       "<path fill=\"#e58139\" stroke=\"#000000\" d=\"M314,-179.5C314,-179.5 212,-179.5 212,-179.5 206,-179.5 200,-173.5 200,-167.5 200,-167.5 200,-123.5 200,-123.5 200,-117.5 206,-111.5 212,-111.5 212,-111.5 314,-111.5 314,-111.5 320,-111.5 326,-117.5 326,-123.5 326,-123.5 326,-167.5 326,-167.5 326,-173.5 320,-179.5 314,-179.5\"/>\n",
       "<text text-anchor=\"start\" x=\"235\" y=\"-164.3\" font-family=\"Helvetica,sans-Serif\" font-size=\"14.00\" fill=\"#000000\">gini = 0.0</text>\n",
       "<text text-anchor=\"start\" x=\"210\" y=\"-149.3\" font-family=\"Helvetica,sans-Serif\" font-size=\"14.00\" fill=\"#000000\">samples = 40.2%</text>\n",
       "<text text-anchor=\"start\" x=\"212.5\" y=\"-134.3\" font-family=\"Helvetica,sans-Serif\" font-size=\"14.00\" fill=\"#000000\">value = [1.0, 0.0]</text>\n",
       "<text text-anchor=\"start\" x=\"208\" y=\"-119.3\" font-family=\"Helvetica,sans-Serif\" font-size=\"14.00\" fill=\"#000000\">class = Poisonous</text>\n",
       "</g>\n",
       "<!-- 1&#45;&gt;5 -->\n",
       "<g id=\"edge5\" class=\"edge\">\n",
       "<title>1&#45;&gt;5</title>\n",
       "<path fill=\"none\" stroke=\"#000000\" d=\"M263,-222.8796C263,-212.2134 263,-200.7021 263,-189.9015\"/>\n",
       "<polygon fill=\"#000000\" stroke=\"#000000\" points=\"266.5001,-189.8149 263,-179.8149 259.5001,-189.815 266.5001,-189.8149\"/>\n",
       "</g>\n",
       "<!-- 3 -->\n",
       "<g id=\"node4\" class=\"node\">\n",
       "<title>3</title>\n",
       "<path fill=\"#77bced\" stroke=\"#000000\" d=\"M120,-68C120,-68 12,-68 12,-68 6,-68 0,-62 0,-56 0,-56 0,-12 0,-12 0,-6 6,0 12,0 12,0 120,0 120,0 126,0 132,-6 132,-12 132,-12 132,-56 132,-56 132,-62 126,-68 120,-68\"/>\n",
       "<text text-anchor=\"start\" x=\"34\" y=\"-52.8\" font-family=\"Helvetica,sans-Serif\" font-size=\"14.00\" fill=\"#000000\">gini = 0.36</text>\n",
       "<text text-anchor=\"start\" x=\"13\" y=\"-37.8\" font-family=\"Helvetica,sans-Serif\" font-size=\"14.00\" fill=\"#000000\">samples = 12.4%</text>\n",
       "<text text-anchor=\"start\" x=\"8\" y=\"-22.8\" font-family=\"Helvetica,sans-Serif\" font-size=\"14.00\" fill=\"#000000\">value = [0.24, 0.76]</text>\n",
       "<text text-anchor=\"start\" x=\"23.5\" y=\"-7.8\" font-family=\"Helvetica,sans-Serif\" font-size=\"14.00\" fill=\"#000000\">class = Edible</text>\n",
       "</g>\n",
       "<!-- 2&#45;&gt;3 -->\n",
       "<g id=\"edge3\" class=\"edge\">\n",
       "<title>2&#45;&gt;3</title>\n",
       "<path fill=\"none\" stroke=\"#000000\" d=\"M97.3818,-103.9815C93.5078,-95.3423 89.4145,-86.2144 85.5094,-77.5059\"/>\n",
       "<polygon fill=\"#000000\" stroke=\"#000000\" points=\"88.6503,-75.9561 81.3649,-68.2637 82.2631,-78.8204 88.6503,-75.9561\"/>\n",
       "</g>\n",
       "<!-- 4 -->\n",
       "<g id=\"node5\" class=\"node\">\n",
       "<title>4</title>\n",
       "<path fill=\"#e58139\" stroke=\"#000000\" d=\"M264,-68C264,-68 162,-68 162,-68 156,-68 150,-62 150,-56 150,-56 150,-12 150,-12 150,-6 156,0 162,0 162,0 264,0 264,0 270,0 276,-6 276,-12 276,-12 276,-56 276,-56 276,-62 270,-68 264,-68\"/>\n",
       "<text text-anchor=\"start\" x=\"185\" y=\"-52.8\" font-family=\"Helvetica,sans-Serif\" font-size=\"14.00\" fill=\"#000000\">gini = 0.0</text>\n",
       "<text text-anchor=\"start\" x=\"163.5\" y=\"-37.8\" font-family=\"Helvetica,sans-Serif\" font-size=\"14.00\" fill=\"#000000\">samples = 3.6%</text>\n",
       "<text text-anchor=\"start\" x=\"162.5\" y=\"-22.8\" font-family=\"Helvetica,sans-Serif\" font-size=\"14.00\" fill=\"#000000\">value = [1.0, 0.0]</text>\n",
       "<text text-anchor=\"start\" x=\"158\" y=\"-7.8\" font-family=\"Helvetica,sans-Serif\" font-size=\"14.00\" fill=\"#000000\">class = Poisonous</text>\n",
       "</g>\n",
       "<!-- 2&#45;&gt;4 -->\n",
       "<g id=\"edge4\" class=\"edge\">\n",
       "<title>2&#45;&gt;4</title>\n",
       "<path fill=\"none\" stroke=\"#000000\" d=\"M152.1192,-103.9815C160.1147,-94.7908 168.5913,-85.0472 176.5979,-75.8436\"/>\n",
       "<polygon fill=\"#000000\" stroke=\"#000000\" points=\"179.2693,-78.1055 183.1921,-68.2637 173.988,-73.5111 179.2693,-78.1055\"/>\n",
       "</g>\n",
       "<!-- 7 -->\n",
       "<g id=\"node8\" class=\"node\">\n",
       "<title>7</title>\n",
       "<path fill=\"#3c9ee5\" stroke=\"#000000\" d=\"M541.5,-187C541.5,-187 356.5,-187 356.5,-187 350.5,-187 344.5,-181 344.5,-175 344.5,-175 344.5,-116 344.5,-116 344.5,-110 350.5,-104 356.5,-104 356.5,-104 541.5,-104 541.5,-104 547.5,-104 553.5,-110 553.5,-116 553.5,-116 553.5,-175 553.5,-175 553.5,-181 547.5,-187 541.5,-187\"/>\n",
       "<text text-anchor=\"start\" x=\"352.5\" y=\"-171.8\" font-family=\"Helvetica,sans-Serif\" font-size=\"14.00\" fill=\"#000000\">stalk&#45;surface&#45;below&#45;ring_y ≤ 0.5</text>\n",
       "<text text-anchor=\"start\" x=\"417\" y=\"-156.8\" font-family=\"Helvetica,sans-Serif\" font-size=\"14.00\" fill=\"#000000\">gini = 0.03</text>\n",
       "<text text-anchor=\"start\" x=\"396\" y=\"-141.8\" font-family=\"Helvetica,sans-Serif\" font-size=\"14.00\" fill=\"#000000\">samples = 43.0%</text>\n",
       "<text text-anchor=\"start\" x=\"391\" y=\"-126.8\" font-family=\"Helvetica,sans-Serif\" font-size=\"14.00\" fill=\"#000000\">value = [0.01, 0.99]</text>\n",
       "<text text-anchor=\"start\" x=\"406.5\" y=\"-111.8\" font-family=\"Helvetica,sans-Serif\" font-size=\"14.00\" fill=\"#000000\">class = Edible</text>\n",
       "</g>\n",
       "<!-- 6&#45;&gt;7 -->\n",
       "<g id=\"edge7\" class=\"edge\">\n",
       "<title>6&#45;&gt;7</title>\n",
       "<path fill=\"none\" stroke=\"#000000\" d=\"M449,-222.8796C449,-214.6838 449,-205.9891 449,-197.5013\"/>\n",
       "<polygon fill=\"#000000\" stroke=\"#000000\" points=\"452.5001,-197.298 449,-187.2981 445.5001,-197.2981 452.5001,-197.298\"/>\n",
       "</g>\n",
       "<!-- 10 -->\n",
       "<g id=\"node11\" class=\"node\">\n",
       "<title>10</title>\n",
       "<path fill=\"#e58139\" stroke=\"#000000\" d=\"M686,-179.5C686,-179.5 584,-179.5 584,-179.5 578,-179.5 572,-173.5 572,-167.5 572,-167.5 572,-123.5 572,-123.5 572,-117.5 578,-111.5 584,-111.5 584,-111.5 686,-111.5 686,-111.5 692,-111.5 698,-117.5 698,-123.5 698,-123.5 698,-167.5 698,-167.5 698,-173.5 692,-179.5 686,-179.5\"/>\n",
       "<text text-anchor=\"start\" x=\"607\" y=\"-164.3\" font-family=\"Helvetica,sans-Serif\" font-size=\"14.00\" fill=\"#000000\">gini = 0.0</text>\n",
       "<text text-anchor=\"start\" x=\"585.5\" y=\"-149.3\" font-family=\"Helvetica,sans-Serif\" font-size=\"14.00\" fill=\"#000000\">samples = 0.9%</text>\n",
       "<text text-anchor=\"start\" x=\"584.5\" y=\"-134.3\" font-family=\"Helvetica,sans-Serif\" font-size=\"14.00\" fill=\"#000000\">value = [1.0, 0.0]</text>\n",
       "<text text-anchor=\"start\" x=\"580\" y=\"-119.3\" font-family=\"Helvetica,sans-Serif\" font-size=\"14.00\" fill=\"#000000\">class = Poisonous</text>\n",
       "</g>\n",
       "<!-- 6&#45;&gt;10 -->\n",
       "<g id=\"edge10\" class=\"edge\">\n",
       "<title>6&#45;&gt;10</title>\n",
       "<path fill=\"none\" stroke=\"#000000\" d=\"M514.0538,-222.8796C533.2224,-210.6158 554.1371,-197.2348 573.1018,-185.1015\"/>\n",
       "<polygon fill=\"#000000\" stroke=\"#000000\" points=\"575.1275,-187.9606 581.6648,-179.623 571.355,-182.0641 575.1275,-187.9606\"/>\n",
       "</g>\n",
       "<!-- 8 -->\n",
       "<g id=\"node9\" class=\"node\">\n",
       "<title>8</title>\n",
       "<path fill=\"#399de5\" stroke=\"#000000\" d=\"M451,-68C451,-68 353,-68 353,-68 347,-68 341,-62 341,-56 341,-56 341,-12 341,-12 341,-6 347,0 353,0 353,0 451,0 451,0 457,0 463,-6 463,-12 463,-12 463,-56 463,-56 463,-62 457,-68 451,-68\"/>\n",
       "<text text-anchor=\"start\" x=\"374\" y=\"-52.8\" font-family=\"Helvetica,sans-Serif\" font-size=\"14.00\" fill=\"#000000\">gini = 0.0</text>\n",
       "<text text-anchor=\"start\" x=\"349\" y=\"-37.8\" font-family=\"Helvetica,sans-Serif\" font-size=\"14.00\" fill=\"#000000\">samples = 42.3%</text>\n",
       "<text text-anchor=\"start\" x=\"351.5\" y=\"-22.8\" font-family=\"Helvetica,sans-Serif\" font-size=\"14.00\" fill=\"#000000\">value = [0.0, 1.0]</text>\n",
       "<text text-anchor=\"start\" x=\"359.5\" y=\"-7.8\" font-family=\"Helvetica,sans-Serif\" font-size=\"14.00\" fill=\"#000000\">class = Edible</text>\n",
       "</g>\n",
       "<!-- 7&#45;&gt;8 -->\n",
       "<g id=\"edge8\" class=\"edge\">\n",
       "<title>7&#45;&gt;8</title>\n",
       "<path fill=\"none\" stroke=\"#000000\" d=\"M431.4989,-103.9815C427.8573,-95.3423 424.0097,-86.2144 420.3388,-77.5059\"/>\n",
       "<polygon fill=\"#000000\" stroke=\"#000000\" points=\"423.5525,-76.119 416.443,-68.2637 417.1021,-78.838 423.5525,-76.119\"/>\n",
       "</g>\n",
       "<!-- 9 -->\n",
       "<g id=\"node10\" class=\"node\">\n",
       "<title>9</title>\n",
       "<path fill=\"#f0b48a\" stroke=\"#000000\" d=\"M601,-68C601,-68 493,-68 493,-68 487,-68 481,-62 481,-56 481,-56 481,-12 481,-12 481,-6 487,0 493,0 493,0 601,0 601,0 607,0 613,-6 613,-12 613,-12 613,-56 613,-56 613,-62 607,-68 601,-68\"/>\n",
       "<text text-anchor=\"start\" x=\"515\" y=\"-52.8\" font-family=\"Helvetica,sans-Serif\" font-size=\"14.00\" fill=\"#000000\">gini = 0.41</text>\n",
       "<text text-anchor=\"start\" x=\"497.5\" y=\"-37.8\" font-family=\"Helvetica,sans-Serif\" font-size=\"14.00\" fill=\"#000000\">samples = 0.7%</text>\n",
       "<text text-anchor=\"start\" x=\"489\" y=\"-22.8\" font-family=\"Helvetica,sans-Serif\" font-size=\"14.00\" fill=\"#000000\">value = [0.71, 0.29]</text>\n",
       "<text text-anchor=\"start\" x=\"492\" y=\"-7.8\" font-family=\"Helvetica,sans-Serif\" font-size=\"14.00\" fill=\"#000000\">class = Poisonous</text>\n",
       "</g>\n",
       "<!-- 7&#45;&gt;9 -->\n",
       "<g id=\"edge9\" class=\"edge\">\n",
       "<title>7&#45;&gt;9</title>\n",
       "<path fill=\"none\" stroke=\"#000000\" d=\"M485.4916,-103.9815C493.5695,-94.7908 502.1334,-85.0472 510.2226,-75.8436\"/>\n",
       "<polygon fill=\"#000000\" stroke=\"#000000\" points=\"512.912,-78.0855 516.8848,-68.2637 507.6542,-73.4642 512.912,-78.0855\"/>\n",
       "</g>\n",
       "</g>\n",
       "</svg>\n"
      ],
      "text/plain": [
       "<graphviz.files.Source at 0x7f693b6c1908>"
      ]
     },
     "execution_count": 46,
     "metadata": {},
     "output_type": "execute_result"
    }
   ],
   "source": [
    "target_names = ['Poisonous', 'Edible']\n",
    "dot_data = export_graphviz(clf4, precision=2,\n",
    "feature_names=df1.columns.values,\n",
    "proportion=True,\n",
    "class_names=target_names,\n",
    "filled=True, rounded=True,\n",
    "special_characters=True)\n",
    "graph = graphviz.Source(dot_data)\n",
    "graph"
   ]
  },
  {
   "cell_type": "markdown",
   "metadata": {},
   "source": [
    "#### Accuracy: \n",
    "\n",
    "The accuracy for this model is the same as we got in the first Naive bayes model. "
   ]
  },
  {
   "cell_type": "code",
   "execution_count": 47,
   "metadata": {},
   "outputs": [
    {
     "name": "stdout",
     "output_type": "stream",
     "text": [
      "Baseline Accuracy: 0.481\n",
      "Accuracy of Model: 0.981\n"
     ]
    }
   ],
   "source": [
    "print(\"Baseline Accuracy: {:.3}\".format(1-y_train.mean()))\n",
    "y_predict = clf.predict(X_test)\n",
    "print(\"Accuracy of Model: {:.3}\".format((y_predict == y_test).mean()))"
   ]
  },
  {
   "cell_type": "markdown",
   "metadata": {},
   "source": [
    "#### Confusion Matrix:\n",
    "\n",
    "When looking at the confusion matrix it does look identical to the Naive bayes model we made using all features of the dataset. The difference in the two models when it comes to precision and recall seem to be indistinguishable."
   ]
  },
  {
   "cell_type": "code",
   "execution_count": 48,
   "metadata": {},
   "outputs": [
    {
     "name": "stdout",
     "output_type": "stream",
     "text": [
      "             predicted     \n",
      "actual   poisonous   edible\n",
      "poisonous     1180        1\n",
      " edible         46     1211\n"
     ]
    }
   ],
   "source": [
    "print_conf_mtx(y_test, y_predict)"
   ]
  },
  {
   "cell_type": "markdown",
   "metadata": {},
   "source": [
    "#### Precision/Recall: \n",
    "\n",
    "The precision and recall values are good values for this classification problem as we would want the least amount of people to die, using our classifier. In this case 1 person would eat a mushrom wrongly classified as edible when it is not. This still gives us a precision of 1 when rounded to three decimals."
   ]
  },
  {
   "cell_type": "code",
   "execution_count": 49,
   "metadata": {},
   "outputs": [
    {
     "name": "stdout",
     "output_type": "stream",
     "text": [
      "Precision: 1.00\n",
      "Recall: 0.96\n"
     ]
    }
   ],
   "source": [
    "print(\"Precision: {:.2f}\".format(getPrecision(y_test, y_predict)))\n",
    "print(\"Recall: {:.2f}\".format(getRecall(y_test, y_predict)))"
   ]
  },
  {
   "cell_type": "code",
   "execution_count": 50,
   "metadata": {},
   "outputs": [],
   "source": [
    "te_errs = []\n",
    "tr_errs = []\n",
    "tr_sizes = np.linspace(100, X_train.shape[0], 10).astype(int)\n",
    "for tr_size in tr_sizes:\n",
    "  X_train1 = X_train[:tr_size,:]\n",
    "  y_train1 = y_train[:tr_size]\n",
    "  \n",
    "  clf4.fit(X_train1, y_train1)\n",
    "\n",
    "  tr_predicted = clf4.predict(X_train1)\n",
    "  err = (tr_predicted != y_train1).mean()\n",
    "  tr_errs.append(err)\n",
    "  \n",
    "  te_predicted = clf4.predict(X_test)\n",
    "  err = (te_predicted != y_test).mean()\n",
    "  te_errs.append(err)"
   ]
  },
  {
   "cell_type": "markdown",
   "metadata": {},
   "source": [
    "#### Learning Curve: \n",
    "\n",
    "The learning curve is what is the most different from our first naive bayes model using all features. \n",
    "It looks like the error starts out low and then increases as mode data is provided. This is very surprising. However, when you look at the actual error score, it is still very very small."
   ]
  },
  {
   "cell_type": "code",
   "execution_count": 51,
   "metadata": {},
   "outputs": [
    {
     "data": {
      "image/png": "[encoded data removed]",
      "text/plain": [
       "<Figure size 720x360 with 1 Axes>"
      ]
     },
     "metadata": {
      "needs_background": "light"
     },
     "output_type": "display_data"
    }
   ],
   "source": [
    "plt.figure(figsize=(10,5))\n",
    "sns.lineplot(x=tr_sizes, y=te_errs);\n",
    "sns.lineplot(x=tr_sizes, y=tr_errs);\n",
    "plt.title(\"Learning curve Model 4\", size=15);\n",
    "plt.xlabel(\"Training set size\", size=15);\n",
    "plt.ylabel(\"Error\", size=15);\n",
    "plt.legend(['Test Data', 'Training Data']);"
   ]
  },
  {
   "cell_type": "markdown",
   "metadata": {},
   "source": [
    "#### Conclusion Model 5: \n",
    "\n",
    "It seems like the tree classifier does just as well as the bayes model when using all the features of the dataset. The main difference between the two models is the learning cure and how the classifiers develop when getting more data to practice and test on. In addition this model has perfect precision which is somehting very useful in this classification problem."
   ]
  },
  {
   "cell_type": "markdown",
   "metadata": {},
   "source": [
    "# Model 5 - Tree Classifier - The Most Usable prediction model"
   ]
  },
  {
   "cell_type": "markdown",
   "metadata": {},
   "source": [
    "Earlier we defined a few features that were easy for people to identify when mushroom hunting and that gave a good enough accuracy to where it would be useful. We are now going to take a look at how a tree classifier treats the same features.\n",
    "The features in question are: \n",
    "- cap-surface\n",
    "- odor\n",
    "- cap-shape"
   ]
  },
  {
   "cell_type": "code",
   "execution_count": 52,
   "metadata": {},
   "outputs": [],
   "source": [
    "X = df3.values\n",
    "\n",
    "X_train, X_test, y_train, y_test = train_test_split(X, y, test_size=0.3, random_state=42)"
   ]
  },
  {
   "cell_type": "code",
   "execution_count": 53,
   "metadata": {},
   "outputs": [],
   "source": [
    "def bestTreeFeatures(num):\n",
    "    remaining = list(range(X_train.shape[1]))\n",
    "    selected = []\n",
    "    n = num\n",
    "    while len(selected) < n:\n",
    "        min_acc = -1e7\n",
    "        for i in remaining:\n",
    "            X_i = X_train[:,selected+[i]]\n",
    "            scores = cross_val_score(DecisionTreeClassifier(max_depth=5, random_state=42), X_i, y_train,\n",
    "           scoring='accuracy', cv=3)\n",
    "            accuracy = scores.mean() \n",
    "            if accuracy > min_acc:\n",
    "                min_acc = accuracy\n",
    "                i_min = i\n",
    "\n",
    "        remaining.remove(i_min)\n",
    "        selected.append(i_min)\n",
    "        print('num features: {}; accuracy: {:.2f}'.format(len(selected), min_acc))\n",
    "    return selected"
   ]
  },
  {
   "cell_type": "markdown",
   "metadata": {},
   "source": [
    "#### Forward feature selection\n",
    "\n",
    "When doing forward feature slection using the same 3 features made into dummy variables we can tell that this model actually reaches an accuracy of 0.99 at three features, as opposed to our previous model that needed 5 features. "
   ]
  },
  {
   "cell_type": "code",
   "execution_count": 54,
   "metadata": {},
   "outputs": [
    {
     "name": "stdout",
     "output_type": "stream",
     "text": [
      "num features: 1; accuracy: 0.89\n",
      "num features: 2; accuracy: 0.94\n",
      "num features: 3; accuracy: 0.99\n",
      "num features: 4; accuracy: 0.99\n",
      "num features: 5; accuracy: 0.99\n"
     ]
    }
   ],
   "source": [
    "selected = df3.columns[bestTreeFeatures(5)]"
   ]
  },
  {
   "cell_type": "markdown",
   "metadata": {},
   "source": [
    "Looking at the three best columns we can tell that this classifier actually gets a 0.99 accuracy only using odor, which is only one feature from our original dataframe. Now made into three columns using dummy variables. This is really interestng. Maybe people can distingush edible mushrooms based only on their smell.\n",
    "- odor none\n",
    "- odor almond\n",
    "- odor anis"
   ]
  },
  {
   "cell_type": "code",
   "execution_count": 55,
   "metadata": {},
   "outputs": [
    {
     "name": "stdout",
     "output_type": "stream",
     "text": [
      "The best 3 features are: ['odor_n' 'odor_a' 'odor_l']\n"
     ]
    }
   ],
   "source": [
    "predictors = selected[0:3].values\n",
    "print(\"The best 3 features are:\", predictors)"
   ]
  },
  {
   "cell_type": "markdown",
   "metadata": {},
   "source": [
    "#### Tree graph\n",
    "\n",
    "The tree we produce from fitting our model to the trainig data. The max depth is set to 3, and our baseline accuracy is once again 48 percent when predicting that a mushroom is poisonous. At the leaf nodes there is still a good amount of samples left. "
   ]
  },
  {
   "cell_type": "code",
   "execution_count": 56,
   "metadata": {},
   "outputs": [
    {
     "data": {
      "image/svg+xml": [
       "<?xml version=\"1.0\" encoding=\"UTF-8\" standalone=\"no\"?>\n",
       "<!DOCTYPE svg PUBLIC \"-//W3C//DTD SVG 1.1//EN\"\n",
       " \"http://www.w3.org/Graphics/SVG/1.1/DTD/svg11.dtd\">\n",
       "<!-- Generated by graphviz version 2.40.1 (20161225.0304)\n",
       " -->\n",
       "<!-- Title: Tree Pages: 1 -->\n",
       "<svg width=\"428pt\" height=\"433pt\"\n",
       " viewBox=\"0.00 0.00 428.00 433.00\" xmlns=\"http://www.w3.org/2000/svg\" xmlns:xlink=\"http://www.w3.org/1999/xlink\">\n",
       "<g id=\"graph0\" class=\"graph\" transform=\"scale(1 1) rotate(0) translate(4 429)\">\n",
       "<title>Tree</title>\n",
       "<polygon fill=\"#ffffff\" stroke=\"transparent\" points=\"-4,4 -4,-429 424,-429 424,4 -4,4\"/>\n",
       "<!-- 0 -->\n",
       "<g id=\"node1\" class=\"node\">\n",
       "<title>0</title>\n",
       "<path fill=\"#f1f8fd\" stroke=\"#000000\" d=\"M333,-425C333,-425 225,-425 225,-425 219,-425 213,-419 213,-413 213,-413 213,-354 213,-354 213,-348 219,-342 225,-342 225,-342 333,-342 333,-342 339,-342 345,-348 345,-354 345,-354 345,-413 345,-413 345,-419 339,-425 333,-425\"/>\n",
       "<text text-anchor=\"start\" x=\"240.5\" y=\"-409.8\" font-family=\"Helvetica,sans-Serif\" font-size=\"14.00\" fill=\"#000000\">odor_n ≤ 0.5</text>\n",
       "<text text-anchor=\"start\" x=\"251\" y=\"-394.8\" font-family=\"Helvetica,sans-Serif\" font-size=\"14.00\" fill=\"#000000\">gini = 0.5</text>\n",
       "<text text-anchor=\"start\" x=\"222\" y=\"-379.8\" font-family=\"Helvetica,sans-Serif\" font-size=\"14.00\" fill=\"#000000\">samples = 100.0%</text>\n",
       "<text text-anchor=\"start\" x=\"221\" y=\"-364.8\" font-family=\"Helvetica,sans-Serif\" font-size=\"14.00\" fill=\"#000000\">value = [0.48, 0.52]</text>\n",
       "<text text-anchor=\"start\" x=\"236.5\" y=\"-349.8\" font-family=\"Helvetica,sans-Serif\" font-size=\"14.00\" fill=\"#000000\">class = Edible</text>\n",
       "</g>\n",
       "<!-- 1 -->\n",
       "<g id=\"node2\" class=\"node\">\n",
       "<title>1</title>\n",
       "<path fill=\"#ea9a61\" stroke=\"#000000\" d=\"M258,-306C258,-306 150,-306 150,-306 144,-306 138,-300 138,-294 138,-294 138,-235 138,-235 138,-229 144,-223 150,-223 150,-223 258,-223 258,-223 264,-223 270,-229 270,-235 270,-235 270,-294 270,-294 270,-300 264,-306 258,-306\"/>\n",
       "<text text-anchor=\"start\" x=\"165.5\" y=\"-290.8\" font-family=\"Helvetica,sans-Serif\" font-size=\"14.00\" fill=\"#000000\">odor_a ≤ 0.5</text>\n",
       "<text text-anchor=\"start\" x=\"172\" y=\"-275.8\" font-family=\"Helvetica,sans-Serif\" font-size=\"14.00\" fill=\"#000000\">gini = 0.28</text>\n",
       "<text text-anchor=\"start\" x=\"151\" y=\"-260.8\" font-family=\"Helvetica,sans-Serif\" font-size=\"14.00\" fill=\"#000000\">samples = 56.1%</text>\n",
       "<text text-anchor=\"start\" x=\"146\" y=\"-245.8\" font-family=\"Helvetica,sans-Serif\" font-size=\"14.00\" fill=\"#000000\">value = [0.83, 0.17]</text>\n",
       "<text text-anchor=\"start\" x=\"149\" y=\"-230.8\" font-family=\"Helvetica,sans-Serif\" font-size=\"14.00\" fill=\"#000000\">class = Poisonous</text>\n",
       "</g>\n",
       "<!-- 0&#45;&gt;1 -->\n",
       "<g id=\"edge1\" class=\"edge\">\n",
       "<title>0&#45;&gt;1</title>\n",
       "<path fill=\"none\" stroke=\"#000000\" d=\"M252.7686,-341.8796C247.2627,-333.1434 241.3994,-323.8404 235.7176,-314.8253\"/>\n",
       "<polygon fill=\"#000000\" stroke=\"#000000\" points=\"238.6363,-312.8919 230.3433,-306.2981 232.7143,-316.6242 238.6363,-312.8919\"/>\n",
       "<text text-anchor=\"middle\" x=\"225.9196\" y=\"-322.1027\" font-family=\"Helvetica,sans-Serif\" font-size=\"14.00\" fill=\"#000000\">True</text>\n",
       "</g>\n",
       "<!-- 6 -->\n",
       "<g id=\"node7\" class=\"node\">\n",
       "<title>6</title>\n",
       "<path fill=\"#40a0e6\" stroke=\"#000000\" d=\"M408,-298.5C408,-298.5 300,-298.5 300,-298.5 294,-298.5 288,-292.5 288,-286.5 288,-286.5 288,-242.5 288,-242.5 288,-236.5 294,-230.5 300,-230.5 300,-230.5 408,-230.5 408,-230.5 414,-230.5 420,-236.5 420,-242.5 420,-242.5 420,-286.5 420,-286.5 420,-292.5 414,-298.5 408,-298.5\"/>\n",
       "<text text-anchor=\"start\" x=\"322\" y=\"-283.3\" font-family=\"Helvetica,sans-Serif\" font-size=\"14.00\" fill=\"#000000\">gini = 0.06</text>\n",
       "<text text-anchor=\"start\" x=\"301\" y=\"-268.3\" font-family=\"Helvetica,sans-Serif\" font-size=\"14.00\" fill=\"#000000\">samples = 43.9%</text>\n",
       "<text text-anchor=\"start\" x=\"296\" y=\"-253.3\" font-family=\"Helvetica,sans-Serif\" font-size=\"14.00\" fill=\"#000000\">value = [0.03, 0.97]</text>\n",
       "<text text-anchor=\"start\" x=\"311.5\" y=\"-238.3\" font-family=\"Helvetica,sans-Serif\" font-size=\"14.00\" fill=\"#000000\">class = Edible</text>\n",
       "</g>\n",
       "<!-- 0&#45;&gt;6 -->\n",
       "<g id=\"edge6\" class=\"edge\">\n",
       "<title>0&#45;&gt;6</title>\n",
       "<path fill=\"none\" stroke=\"#000000\" d=\"M305.2314,-341.8796C312.231,-330.7735 319.808,-318.7513 326.8556,-307.5691\"/>\n",
       "<polygon fill=\"#000000\" stroke=\"#000000\" points=\"330.002,-309.1411 332.3729,-298.8149 324.08,-305.4087 330.002,-309.1411\"/>\n",
       "<text text-anchor=\"middle\" x=\"336.7967\" y=\"-314.6196\" font-family=\"Helvetica,sans-Serif\" font-size=\"14.00\" fill=\"#000000\">False</text>\n",
       "</g>\n",
       "<!-- 2 -->\n",
       "<g id=\"node3\" class=\"node\">\n",
       "<title>2</title>\n",
       "<path fill=\"#e88d4c\" stroke=\"#000000\" d=\"M187,-187C187,-187 79,-187 79,-187 73,-187 67,-181 67,-175 67,-175 67,-116 67,-116 67,-110 73,-104 79,-104 79,-104 187,-104 187,-104 193,-104 199,-110 199,-116 199,-116 199,-175 199,-175 199,-181 193,-187 187,-187\"/>\n",
       "<text text-anchor=\"start\" x=\"96.5\" y=\"-171.8\" font-family=\"Helvetica,sans-Serif\" font-size=\"14.00\" fill=\"#000000\">odor_l ≤ 0.5</text>\n",
       "<text text-anchor=\"start\" x=\"101\" y=\"-156.8\" font-family=\"Helvetica,sans-Serif\" font-size=\"14.00\" fill=\"#000000\">gini = 0.16</text>\n",
       "<text text-anchor=\"start\" x=\"80\" y=\"-141.8\" font-family=\"Helvetica,sans-Serif\" font-size=\"14.00\" fill=\"#000000\">samples = 51.3%</text>\n",
       "<text text-anchor=\"start\" x=\"75\" y=\"-126.8\" font-family=\"Helvetica,sans-Serif\" font-size=\"14.00\" fill=\"#000000\">value = [0.91, 0.09]</text>\n",
       "<text text-anchor=\"start\" x=\"78\" y=\"-111.8\" font-family=\"Helvetica,sans-Serif\" font-size=\"14.00\" fill=\"#000000\">class = Poisonous</text>\n",
       "</g>\n",
       "<!-- 1&#45;&gt;2 -->\n",
       "<g id=\"edge2\" class=\"edge\">\n",
       "<title>1&#45;&gt;2</title>\n",
       "<path fill=\"none\" stroke=\"#000000\" d=\"M179.1676,-222.8796C174.0091,-214.2335 168.5192,-205.0322 163.1924,-196.1042\"/>\n",
       "<polygon fill=\"#000000\" stroke=\"#000000\" points=\"166.0678,-194.0924 157.9383,-187.2981 160.0564,-197.679 166.0678,-194.0924\"/>\n",
       "</g>\n",
       "<!-- 5 -->\n",
       "<g id=\"node6\" class=\"node\">\n",
       "<title>5</title>\n",
       "<path fill=\"#399de5\" stroke=\"#000000\" d=\"M322.5,-179.5C322.5,-179.5 229.5,-179.5 229.5,-179.5 223.5,-179.5 217.5,-173.5 217.5,-167.5 217.5,-167.5 217.5,-123.5 217.5,-123.5 217.5,-117.5 223.5,-111.5 229.5,-111.5 229.5,-111.5 322.5,-111.5 322.5,-111.5 328.5,-111.5 334.5,-117.5 334.5,-123.5 334.5,-123.5 334.5,-167.5 334.5,-167.5 334.5,-173.5 328.5,-179.5 322.5,-179.5\"/>\n",
       "<text text-anchor=\"start\" x=\"248\" y=\"-164.3\" font-family=\"Helvetica,sans-Serif\" font-size=\"14.00\" fill=\"#000000\">gini = 0.0</text>\n",
       "<text text-anchor=\"start\" x=\"226.5\" y=\"-149.3\" font-family=\"Helvetica,sans-Serif\" font-size=\"14.00\" fill=\"#000000\">samples = 4.9%</text>\n",
       "<text text-anchor=\"start\" x=\"225.5\" y=\"-134.3\" font-family=\"Helvetica,sans-Serif\" font-size=\"14.00\" fill=\"#000000\">value = [0.0, 1.0]</text>\n",
       "<text text-anchor=\"start\" x=\"233.5\" y=\"-119.3\" font-family=\"Helvetica,sans-Serif\" font-size=\"14.00\" fill=\"#000000\">class = Edible</text>\n",
       "</g>\n",
       "<!-- 1&#45;&gt;5 -->\n",
       "<g id=\"edge5\" class=\"edge\">\n",
       "<title>1&#45;&gt;5</title>\n",
       "<path fill=\"none\" stroke=\"#000000\" d=\"M229.1821,-222.8796C235.9017,-211.7735 243.1757,-199.7513 249.9414,-188.5691\"/>\n",
       "<polygon fill=\"#000000\" stroke=\"#000000\" points=\"253.0559,-190.1826 255.238,-179.8149 247.0668,-186.5589 253.0559,-190.1826\"/>\n",
       "</g>\n",
       "<!-- 3 -->\n",
       "<g id=\"node4\" class=\"node\">\n",
       "<title>3</title>\n",
       "<path fill=\"#e58139\" stroke=\"#000000\" d=\"M114,-68C114,-68 12,-68 12,-68 6,-68 0,-62 0,-56 0,-56 0,-12 0,-12 0,-6 6,0 12,0 12,0 114,0 114,0 120,0 126,-6 126,-12 126,-12 126,-56 126,-56 126,-62 120,-68 114,-68\"/>\n",
       "<text text-anchor=\"start\" x=\"35\" y=\"-52.8\" font-family=\"Helvetica,sans-Serif\" font-size=\"14.00\" fill=\"#000000\">gini = 0.0</text>\n",
       "<text text-anchor=\"start\" x=\"10\" y=\"-37.8\" font-family=\"Helvetica,sans-Serif\" font-size=\"14.00\" fill=\"#000000\">samples = 46.7%</text>\n",
       "<text text-anchor=\"start\" x=\"12.5\" y=\"-22.8\" font-family=\"Helvetica,sans-Serif\" font-size=\"14.00\" fill=\"#000000\">value = [1.0, 0.0]</text>\n",
       "<text text-anchor=\"start\" x=\"8\" y=\"-7.8\" font-family=\"Helvetica,sans-Serif\" font-size=\"14.00\" fill=\"#000000\">class = Poisonous</text>\n",
       "</g>\n",
       "<!-- 2&#45;&gt;3 -->\n",
       "<g id=\"edge3\" class=\"edge\">\n",
       "<title>2&#45;&gt;3</title>\n",
       "<path fill=\"none\" stroke=\"#000000\" d=\"M106.9346,-103.9815C101.3955,-95.1585 95.5364,-85.8258 89.9645,-76.9506\"/>\n",
       "<polygon fill=\"#000000\" stroke=\"#000000\" points=\"92.7922,-74.872 84.5108,-68.2637 86.8637,-78.594 92.7922,-74.872\"/>\n",
       "</g>\n",
       "<!-- 4 -->\n",
       "<g id=\"node5\" class=\"node\">\n",
       "<title>4</title>\n",
       "<path fill=\"#399de5\" stroke=\"#000000\" d=\"M249.5,-68C249.5,-68 156.5,-68 156.5,-68 150.5,-68 144.5,-62 144.5,-56 144.5,-56 144.5,-12 144.5,-12 144.5,-6 150.5,0 156.5,0 156.5,0 249.5,0 249.5,0 255.5,0 261.5,-6 261.5,-12 261.5,-12 261.5,-56 261.5,-56 261.5,-62 255.5,-68 249.5,-68\"/>\n",
       "<text text-anchor=\"start\" x=\"175\" y=\"-52.8\" font-family=\"Helvetica,sans-Serif\" font-size=\"14.00\" fill=\"#000000\">gini = 0.0</text>\n",
       "<text text-anchor=\"start\" x=\"153.5\" y=\"-37.8\" font-family=\"Helvetica,sans-Serif\" font-size=\"14.00\" fill=\"#000000\">samples = 4.6%</text>\n",
       "<text text-anchor=\"start\" x=\"152.5\" y=\"-22.8\" font-family=\"Helvetica,sans-Serif\" font-size=\"14.00\" fill=\"#000000\">value = [0.0, 1.0]</text>\n",
       "<text text-anchor=\"start\" x=\"160.5\" y=\"-7.8\" font-family=\"Helvetica,sans-Serif\" font-size=\"14.00\" fill=\"#000000\">class = Edible</text>\n",
       "</g>\n",
       "<!-- 2&#45;&gt;4 -->\n",
       "<g id=\"edge4\" class=\"edge\">\n",
       "<title>2&#45;&gt;4</title>\n",
       "<path fill=\"none\" stroke=\"#000000\" d=\"M159.0654,-103.9815C164.6045,-95.1585 170.4636,-85.8258 176.0355,-76.9506\"/>\n",
       "<polygon fill=\"#000000\" stroke=\"#000000\" points=\"179.1363,-78.594 181.4892,-68.2637 173.2078,-74.872 179.1363,-78.594\"/>\n",
       "</g>\n",
       "</g>\n",
       "</svg>\n"
      ],
      "text/plain": [
       "<graphviz.files.Source at 0x7f693afa6fd0>"
      ]
     },
     "execution_count": 56,
     "metadata": {},
     "output_type": "execute_result"
    }
   ],
   "source": [
    "X = df1[predictors].values\n",
    "\n",
    "X_train, X_test, y_train, y_test = train_test_split(X,y, test_size=0.3, random_state=42)\n",
    "\n",
    "clf5 = DecisionTreeClassifier(max_depth=3, random_state=0);\n",
    "clf5.fit(X_train, y_train);\n",
    "\n",
    "target_names = ['Poisonous', 'Edible']\n",
    "dot_data = export_graphviz(clf5, precision=2,\n",
    "feature_names=df1[predictors].columns.values,\n",
    "proportion=True,\n",
    "class_names=target_names,\n",
    "filled=True, rounded=True,\n",
    "special_characters=True)\n",
    "graph = graphviz.Source(dot_data)\n",
    "graph"
   ]
  },
  {
   "cell_type": "markdown",
   "metadata": {},
   "source": [
    "#### Accuracy \n",
    "\n",
    "The accuracy of this model is 0.001 worse than the previous model we used for predicting on these columns. The accuracy is however still very high."
   ]
  },
  {
   "cell_type": "code",
   "execution_count": 57,
   "metadata": {},
   "outputs": [
    {
     "name": "stdout",
     "output_type": "stream",
     "text": [
      "Baseline Accuracy: 0.481\n",
      "Model 5 Accuracy: 0.984\n"
     ]
    }
   ],
   "source": [
    "print(\"Baseline Accuracy: {:.3f}\".format(1-y_train.mean()))\n",
    "y_predict5 = clf5.predict(X_test)\n",
    "print(\"Model 5 Accuracy: {:.3f}\".format((y_predict5 == y_test).mean()))"
   ]
  },
  {
   "cell_type": "markdown",
   "metadata": {},
   "source": [
    "#### Confusion Matrix\n",
    "\n",
    "In this confusion matrix we have two more instances that were predicted edible that are in fac poisonous. We can expect precision to be marginally lower in this model than in the Naive Bayes model. Recall is still at 1. "
   ]
  },
  {
   "cell_type": "code",
   "execution_count": 58,
   "metadata": {},
   "outputs": [
    {
     "name": "stdout",
     "output_type": "stream",
     "text": [
      "             predicted     \n",
      "actual   poisonous   edible\n",
      "poisonous     1142       39\n",
      " edible          0     1257\n"
     ]
    }
   ],
   "source": [
    "print_conf_mtx(y_test, y_predict5)"
   ]
  },
  {
   "cell_type": "markdown",
   "metadata": {},
   "source": [
    "#### Precision/Recall\n",
    "We can tell that precision has decreased by 0.002 points in this model. This is not a favorable outcome as this would mean two more people could potentially get sick from eating a mushroom that is predicted edible and was not. "
   ]
  },
  {
   "cell_type": "code",
   "execution_count": 59,
   "metadata": {},
   "outputs": [
    {
     "name": "stdout",
     "output_type": "stream",
     "text": [
      "Precision: 0.970\n",
      "Recall: 1.000\n"
     ]
    }
   ],
   "source": [
    "print(\"Precision: {:.3f}\".format(getPrecision(y_test, y_predict5)))\n",
    "print(\"Recall: {:.3f}\".format(getRecall(y_test, y_predict5)))"
   ]
  },
  {
   "cell_type": "markdown",
   "metadata": {},
   "source": [
    "#### Precision Recall Curve\n",
    "\n",
    "The following precision/recall curve is close to a perfect curve which supports the confusion matrix we got for this model. We can see that there is a drop in precision when recall goes from 0.9 to 1.0."
   ]
  },
  {
   "cell_type": "code",
   "execution_count": 60,
   "metadata": {},
   "outputs": [
    {
     "data": {
      "image/png": "[encoded data removed]",
      "text/plain": [
       "<Figure size 432x288 with 1 Axes>"
      ]
     },
     "metadata": {
      "needs_background": "light"
     },
     "output_type": "display_data"
    }
   ],
   "source": [
    "y_probs = clf5.predict_proba(X_test)\n",
    "y_probs = y_probs[:,1]\n",
    "precisionRecallCurve(y_probs, y_test)"
   ]
  },
  {
   "cell_type": "markdown",
   "metadata": {},
   "source": [
    "#### ROC curve\n",
    "\n",
    "By looking at the ROC curve, we can see the same trend from the precision/recall curve that the model predicts some false positive while true positive is nearly perfect with an AUC rating of 0.99."
   ]
  },
  {
   "cell_type": "code",
   "execution_count": 61,
   "metadata": {},
   "outputs": [
    {
     "data": {
      "image/png": "[encoded data removed]",
      "text/plain": [
       "<Figure size 432x288 with 1 Axes>"
      ]
     },
     "metadata": {
      "needs_background": "light"
     },
     "output_type": "display_data"
    },
    {
     "name": "stdout",
     "output_type": "stream",
     "text": [
      "AUC: 0.99\n"
     ]
    }
   ],
   "source": [
    "auc = roc_auc_score(y_test, y_probs)\n",
    "fpr, tpr, thresholds = roc_curve(y_test, y_probs)\n",
    "plt.plot(fpr, tpr, color='red', label='ROC')\n",
    "plt.plot([0, 1], [0, 1], color='black', linestyle='--')\n",
    "plt.ylabel('True Positive Rate')\n",
    "plt.xlabel('False Positive Rate')\n",
    "plt.title('ROC curve for Edible Mushrooms')\n",
    "plt.legend()\n",
    "plt.show()\n",
    "print('AUC: %.2f' % auc)"
   ]
  },
  {
   "cell_type": "markdown",
   "metadata": {},
   "source": [
    "#### Learning Curve\n"
   ]
  },
  {
   "cell_type": "code",
   "execution_count": 62,
   "metadata": {},
   "outputs": [],
   "source": [
    "te_errs = []\n",
    "tr_errs = []\n",
    "tr_sizes = np.linspace(100, X_train.shape[0], 10).astype(int)\n",
    "for tr_size in tr_sizes:\n",
    "  X_train1 = X_train[:tr_size,:]\n",
    "  y_train1 = y_train[:tr_size]\n",
    "  clf5.fit(X_train1, y_train1)\n",
    "  tr_predicted = clf5.predict(X_train1)\n",
    "  err = (tr_predicted != y_train1).mean()\n",
    "  tr_errs.append(err)\n",
    "  te_predicted = clf5.predict(X_test)\n",
    "  err = (te_predicted != y_test).mean()\n",
    "  te_errs.append(err)"
   ]
  },
  {
   "cell_type": "markdown",
   "metadata": {},
   "source": [
    "#### Learning curve\n",
    "\n",
    "This learning curve is a bit surprising when looking at the test data. The error seems to be pretty much consitent through out the whole progress. "
   ]
  },
  {
   "cell_type": "code",
   "execution_count": 63,
   "metadata": {},
   "outputs": [
    {
     "data": {
      "image/png": "[encoded data removed]",
      "text/plain": [
       "<Figure size 720x360 with 1 Axes>"
      ]
     },
     "metadata": {
      "needs_background": "light"
     },
     "output_type": "display_data"
    }
   ],
   "source": [
    "plt.figure(figsize=(10,5))\n",
    "sns.lineplot(x=tr_sizes, y=te_errs);\n",
    "sns.lineplot(x=tr_sizes, y=tr_errs);\n",
    "plt.title(\"Learning curve Model 5\", size=15);\n",
    "plt.xlabel(\"Training set size\", size=15);\n",
    "plt.ylabel(\"Error\", size=15);\n",
    "plt.legend(['Test Data', 'Training Data']);"
   ]
  },
  {
   "cell_type": "markdown",
   "metadata": {},
   "source": [
    "#### Feature Importance\n",
    "\n",
    "Looking at the feature importances, it seems like the most important feature for this model is no odor. The other ones seem less significant. "
   ]
  },
  {
   "cell_type": "code",
   "execution_count": 64,
   "metadata": {},
   "outputs": [
    {
     "data": {
      "image/png": "[encoded data removed]",
      "text/plain": [
       "<Figure size 720x360 with 1 Axes>"
      ]
     },
     "metadata": {
      "needs_background": "light"
     },
     "output_type": "display_data"
    }
   ],
   "source": [
    "plt.figure(figsize=(10,5))\n",
    "sns.barplot(x=clf5.feature_importances_, y=df1[predictors].columns);\n",
    "plt.title(\"Feature Importance model 5\", size=15);\n",
    "plt.xlabel(\"Importance\", size=15);\n",
    "plt.ylabel(\"Features\", size=15);"
   ]
  },
  {
   "cell_type": "markdown",
   "metadata": {},
   "source": [
    "#### Conclusion Model 5: \n",
    "\n",
    "We saw an equal accuracy in feature selection as in the previous one using only 3 features instead of 5. However the actual accuracy when making predictions seem to be marginally lower than the Naive bayes model. The precision value decreased a ittle, so 2 more mushrooms that are correctly classified in the previous model are wrondly classified as edible in this classifier."
   ]
  },
  {
   "cell_type": "markdown",
   "metadata": {},
   "source": [
    "# Logistic Regression"
   ]
  },
  {
   "cell_type": "markdown",
   "metadata": {},
   "source": [
    "# Model 6 - Logistic Regression - All Features"
   ]
  },
  {
   "cell_type": "markdown",
   "metadata": {},
   "source": [
    "For the sixth and seventh model we are going to look into Logistic regression nd how it compares to the other two types of models, Naive bayes and Tree Classifier."
   ]
  },
  {
   "cell_type": "markdown",
   "metadata": {},
   "source": [
    "#### Accuracy\n",
    "\n",
    "The baseline accuracy is at 0.48 which means that for half of the predictions there is a close to 50% chance to predict correct.\n",
    "\n",
    "After training the model with all the features, we get 100% accuracy. Like we have seen in the other models it seems we have features in the data that makes it easy to predict on all features. This is however a slightly better accuracy than what we have seen for all features in the previous models using all features."
   ]
  },
  {
   "cell_type": "code",
   "execution_count": 65,
   "metadata": {},
   "outputs": [
    {
     "name": "stdout",
     "output_type": "stream",
     "text": [
      "Baseline accuracy: 0.48\n",
      "Logistic regression accuracy: 1.0\n"
     ]
    }
   ],
   "source": [
    "X = df1.values\n",
    "y = df[\"class\"].values\n",
    "\n",
    "X_train, X_test, y_train, y_test = train_test_split(X, y, test_size=0.3, random_state=42)\n",
    "\n",
    "log = LogisticRegression()\n",
    "log.fit(X_train, y_train)\n",
    "print(\"Baseline accuracy: {:.2f}\".format(1-y_train.mean()))\n",
    "print(\"Logistic regression accuracy: {:.2}\".format(log.score(X_test, y_test)))"
   ]
  },
  {
   "cell_type": "markdown",
   "metadata": {},
   "source": [
    "#### Confusion Matrix\n",
    "\n",
    "Looking at these values this model has very good precision and recall. only one single person will potentially get sick from eating a poisonous mushroom that was classified as edible. This of course is very unfortunate for this person, but it seems like this is the best case scenario for out prediction models.  "
   ]
  },
  {
   "cell_type": "code",
   "execution_count": 66,
   "metadata": {},
   "outputs": [
    {
     "name": "stdout",
     "output_type": "stream",
     "text": [
      "             predicted     \n",
      "actual   poisonous   edible\n",
      "poisonous     1180        1\n",
      " edible          0     1257\n"
     ]
    }
   ],
   "source": [
    "y_pred = log.predict(X_test)\n",
    "print_conf_mtx(y_test, y_pred)"
   ]
  },
  {
   "cell_type": "markdown",
   "metadata": {},
   "source": [
    "#### Precision / Recall\n",
    "\n",
    "When looking at the precision and recall values for this model, we can see that when rounding to three numbers we get a value of 1 for both precision and recall which is very very good. "
   ]
  },
  {
   "cell_type": "code",
   "execution_count": 67,
   "metadata": {},
   "outputs": [
    {
     "name": "stdout",
     "output_type": "stream",
     "text": [
      "Precision: 0.9992\n",
      "Recall: 1.0000\n"
     ]
    }
   ],
   "source": [
    "print(\"Precision: {:.4f}\".format(getPrecision(y_test, y_pred)))\n",
    "print(\"Recall: {:.4f}\".format(getRecall(y_test, y_pred)))"
   ]
  },
  {
   "cell_type": "code",
   "execution_count": 68,
   "metadata": {},
   "outputs": [
    {
     "name": "stdout",
     "output_type": "stream",
     "text": [
      "F1 score: 0.9996\n"
     ]
    }
   ],
   "source": [
    "print(\"F1 score: {:.4f}\".format(f1_score(y_test, y_pred)))"
   ]
  },
  {
   "cell_type": "markdown",
   "metadata": {},
   "source": [
    "#### Precision / Recall Curve\n",
    "\n",
    "The precision recall curve of this model looks very good. And that goes well with the accuracy we saw when calculation it earlier and the precision recall values. It shows us that we can accheive a 1 for recall as well as for precision at the same time which is what we acheived with the model."
   ]
  },
  {
   "cell_type": "code",
   "execution_count": 69,
   "metadata": {},
   "outputs": [
    {
     "data": {
      "image/png": "[encoded data removed]",
      "text/plain": [
       "<Figure size 432x288 with 1 Axes>"
      ]
     },
     "metadata": {
      "needs_background": "light"
     },
     "output_type": "display_data"
    }
   ],
   "source": [
    "y_probs = log.predict_proba(X_test)\n",
    "y_probs = y_probs[:,1]\n",
    "precisionRecallCurve(y_probs, y_test)"
   ]
  },
  {
   "cell_type": "markdown",
   "metadata": {},
   "source": [
    "#### ROC curve\n",
    "\n",
    "The ROC curve is a probability curve for different classes. ROC tells us how good the model is for classifying in these classes. The ROC curve has False Positive Rate on the X-axis and True Positive Rate on the Y axis. The area between the ROC curve and the axis is AUC. A bigger area signifies a better model for distinguishing between classes. The best posible value for ROC is 1, that would mean it should hug the top left corner of the graph. \n",
    "Looking at the curve below, it seems like the model is doing very well. The AUC is 1 which is very very good."
   ]
  },
  {
   "cell_type": "code",
   "execution_count": 70,
   "metadata": {},
   "outputs": [
    {
     "data": {
      "image/png": "[encoded data removed]",
      "text/plain": [
       "<Figure size 432x288 with 1 Axes>"
      ]
     },
     "metadata": {
      "needs_background": "light"
     },
     "output_type": "display_data"
    },
    {
     "name": "stdout",
     "output_type": "stream",
     "text": [
      "AUC: 1.00\n"
     ]
    }
   ],
   "source": [
    "auc = roc_auc_score(y_test, y_probs)\n",
    "fpr, tpr, thresholds = roc_curve(y_test, y_probs)\n",
    "plt.plot(fpr, tpr, color='red', label='ROC')\n",
    "plt.plot([0, 1], [0, 1], color='black', linestyle='--')\n",
    "plt.ylabel('True Positive Rate')\n",
    "plt.xlabel('False Positive Rate')\n",
    "plt.title('ROC curve for Model 6 All features')\n",
    "plt.legend()\n",
    "plt.show()\n",
    "print('AUC: %.2f' % auc)"
   ]
  },
  {
   "cell_type": "code",
   "execution_count": 71,
   "metadata": {},
   "outputs": [],
   "source": [
    "te_errs = []\n",
    "tr_errs = []\n",
    "tr_sizes = np.linspace(100, X_train.shape[0], 10).astype(int)\n",
    "for tr_size in tr_sizes:\n",
    "  X_train1 = X_train[:tr_size,:]\n",
    "  y_train1 = y_train[:tr_size]\n",
    "  \n",
    "  log.fit(X_train1, y_train1)\n",
    "\n",
    "  tr_predicted = log.predict(X_train1)\n",
    "  err = (tr_predicted != y_train1).mean()\n",
    "  tr_errs.append(err)\n",
    "  \n",
    "  te_predicted = log.predict(X_test)\n",
    "  err = (te_predicted != y_test).mean()\n",
    "  te_errs.append(err)"
   ]
  },
  {
   "cell_type": "markdown",
   "metadata": {},
   "source": [
    "#### Learning Curve\n",
    "\n",
    "When looking at the plot below for the learning curves it initially looks like there is a big gap between the curves, but looking at the error values it is evident that these curves are actually very close together. "
   ]
  },
  {
   "cell_type": "code",
   "execution_count": 72,
   "metadata": {},
   "outputs": [
    {
     "data": {
      "image/png": "[encoded data removed]",
      "text/plain": [
       "<Figure size 720x360 with 1 Axes>"
      ]
     },
     "metadata": {
      "needs_background": "light"
     },
     "output_type": "display_data"
    }
   ],
   "source": [
    "plt.figure(figsize=(10,5))\n",
    "sns.lineplot(x=tr_sizes, y=te_errs);\n",
    "sns.lineplot(x=tr_sizes, y=tr_errs);\n",
    "plt.title(\"Learning curve Model 6\", size=15);\n",
    "plt.xlabel(\"Training set size\", size=15);\n",
    "plt.ylabel(\"Error\", size=15);\n",
    "plt.legend(['Test Data', 'Training Data']);"
   ]
  },
  {
   "cell_type": "markdown",
   "metadata": {},
   "source": [
    "#### Conclusion Model 6: \n",
    "\n",
    "This model had a better accuracy than the previous models we have made with all features from the data set. However the precision was a little bit lower. When it comes to the learning curve it seems to have both the sets very close together in error and they do not really move toward or away from each other. "
   ]
  },
  {
   "cell_type": "markdown",
   "metadata": {},
   "source": [
    "# Model 7 - Logistic Regression - The Most Usable Prediction Model"
   ]
  },
  {
   "cell_type": "markdown",
   "metadata": {},
   "source": [
    "In this model we are looking to make a useful predictor using predictors that are easy for people to identify. We will be using Logistic regression and compare it to the other models we have made so far."
   ]
  },
  {
   "cell_type": "code",
   "execution_count": 73,
   "metadata": {},
   "outputs": [],
   "source": [
    "X = df3.values\n",
    "X_train, X_test, y_train, y_test = train_test_split(X, y, test_size=0.3, random_state=42)"
   ]
  },
  {
   "cell_type": "code",
   "execution_count": 74,
   "metadata": {},
   "outputs": [],
   "source": [
    "def bestLogFeatures(num):\n",
    "    remaining = list(range(X_train.shape[1]))\n",
    "    selected = []\n",
    "    n = num\n",
    "    while len(selected) < n:\n",
    "        min_acc = -1e7\n",
    "        for i in remaining:\n",
    "            X_i = X_train[:,selected+[i]]\n",
    "            scores = cross_val_score(LogisticRegression(), X_i, y_train,\n",
    "           scoring='accuracy', cv=3)\n",
    "            accuracy = scores.mean() \n",
    "            if accuracy > min_acc:\n",
    "                min_acc = accuracy\n",
    "                i_min = i\n",
    "\n",
    "        remaining.remove(i_min)\n",
    "        selected.append(i_min)\n",
    "        print('num features: {}; accuracy: {:.2f}'.format(len(selected), min_acc))\n",
    "    return selected"
   ]
  },
  {
   "cell_type": "markdown",
   "metadata": {},
   "source": [
    "#### Forward Feature Selection\n",
    "\n",
    "We are continuing to use the same features we have used to make a useful predictor earlier. That is cap surface, odor, and cap shape. Looking at the output from forward feature selection we can tell that we hit a cap of 0.99 after 3 features are chosen."
   ]
  },
  {
   "cell_type": "code",
   "execution_count": 75,
   "metadata": {},
   "outputs": [
    {
     "name": "stdout",
     "output_type": "stream",
     "text": [
      "num features: 1; accuracy: 0.89\n",
      "num features: 2; accuracy: 0.94\n",
      "num features: 3; accuracy: 0.99\n",
      "num features: 4; accuracy: 0.99\n",
      "num features: 5; accuracy: 0.99\n"
     ]
    }
   ],
   "source": [
    "selected = df3.columns[bestLogFeatures(5)]"
   ]
  },
  {
   "cell_type": "markdown",
   "metadata": {},
   "source": [
    "The best three features are the same as we found in the second Tree classifier. Odor of almond, anis and no odor at all."
   ]
  },
  {
   "cell_type": "code",
   "execution_count": 76,
   "metadata": {},
   "outputs": [
    {
     "name": "stdout",
     "output_type": "stream",
     "text": [
      "The best 3 features are: ['odor_n' 'odor_a' 'odor_l']\n"
     ]
    }
   ],
   "source": [
    "predictors = selected[0:3].values\n",
    "print(\"The best 3 features are:\", predictors)"
   ]
  },
  {
   "cell_type": "markdown",
   "metadata": {},
   "source": [
    "#### Accuracy\n",
    "\n",
    "We get a very high accuracy for this model as well. It seems to be the exact same as we got for the second Tree classifier. "
   ]
  },
  {
   "cell_type": "code",
   "execution_count": 77,
   "metadata": {},
   "outputs": [
    {
     "name": "stdout",
     "output_type": "stream",
     "text": [
      "Baseline accuracy: 0.481\n",
      "Logistic regression accuracy: 0.984\n"
     ]
    }
   ],
   "source": [
    "X = df1[predictors].values\n",
    "X_train, X_test, y_train, y_test = train_test_split(X,y, test_size=0.3, random_state=42)\n",
    "\n",
    "log2 = LogisticRegression()\n",
    "log2.fit(X_train, y_train)\n",
    "print(\"Baseline accuracy: {:.3f}\".format(1-y_train.mean()))\n",
    "print(\"Logistic regression accuracy: {:.3}\".format(log2.score(X_test, y_test)))"
   ]
  },
  {
   "cell_type": "markdown",
   "metadata": {},
   "source": [
    "#### Confusion Matrix \n",
    "\n",
    "The confusion matric is also the same as in the last Tree Classification. There are still 39 mushrooms that are classified as edible, when they are actually poisionous."
   ]
  },
  {
   "cell_type": "code",
   "execution_count": 78,
   "metadata": {},
   "outputs": [
    {
     "name": "stdout",
     "output_type": "stream",
     "text": [
      "             predicted     \n",
      "actual   poisonous   edible\n",
      "poisonous     1142       39\n",
      " edible          0     1257\n"
     ]
    }
   ],
   "source": [
    "y_predict7 = log2.predict(X_test)\n",
    "print_conf_mtx(y_test, y_predict7)"
   ]
  },
  {
   "cell_type": "markdown",
   "metadata": {},
   "source": [
    "#### Precision/Recall\n",
    "\n",
    "The precision and recall values reflect what we read off the confusion matrix. The recall comes out to one and the precision is a bit lower than we would like it to be."
   ]
  },
  {
   "cell_type": "code",
   "execution_count": 79,
   "metadata": {},
   "outputs": [
    {
     "name": "stdout",
     "output_type": "stream",
     "text": [
      "Precision: 0.970\n",
      "Recall: 1.000\n"
     ]
    }
   ],
   "source": [
    "print(\"Precision: {:.3f}\".format(getPrecision(y_test, y_predict7)))\n",
    "print(\"Recall: {:.3f}\".format(getRecall(y_test, y_predict7)))"
   ]
  },
  {
   "cell_type": "markdown",
   "metadata": {},
   "source": [
    "#### F1 Score\n",
    "The F1 score reflects a very high precision and recall. The best value one can obtain here is 1. A score of 0.98 is pretty good."
   ]
  },
  {
   "cell_type": "code",
   "execution_count": 80,
   "metadata": {},
   "outputs": [
    {
     "name": "stdout",
     "output_type": "stream",
     "text": [
      "F1 score: 0.9847\n"
     ]
    }
   ],
   "source": [
    "print(\"F1 score: {:.4f}\".format(f1_score(y_test, y_predict7)))"
   ]
  },
  {
   "cell_type": "markdown",
   "metadata": {},
   "source": [
    "#### ROC curve\n",
    "\n",
    "In this ROC curve we can tell that the area under the curve comes out to 0.99. This is a very high score and reflects that we have a very high true positive rate and a low false positive rate."
   ]
  },
  {
   "cell_type": "code",
   "execution_count": 81,
   "metadata": {},
   "outputs": [
    {
     "data": {
      "image/png": "[encoded data removed]",
      "text/plain": [
       "<Figure size 432x288 with 1 Axes>"
      ]
     },
     "metadata": {
      "needs_background": "light"
     },
     "output_type": "display_data"
    },
    {
     "name": "stdout",
     "output_type": "stream",
     "text": [
      "AUC: 0.99\n"
     ]
    }
   ],
   "source": [
    "y_probs = log2.predict_proba(X_test)\n",
    "y_probs = y_probs[:,1]\n",
    "auc = roc_auc_score(y_test, y_probs)\n",
    "fpr, tpr, thresholds = roc_curve(y_test, y_probs)\n",
    "plt.plot(fpr, tpr, color='red', label='ROC')\n",
    "plt.plot([0, 1], [0, 1], color='black', linestyle='--')\n",
    "plt.ylabel('True Positive Rate')\n",
    "plt.xlabel('False Positive Rate')\n",
    "plt.title('ROC curve for Model 7 Usable')\n",
    "plt.legend()\n",
    "plt.show()\n",
    "print('AUC: %.2f' % auc)"
   ]
  },
  {
   "cell_type": "code",
   "execution_count": 82,
   "metadata": {},
   "outputs": [],
   "source": [
    "te_errs = []\n",
    "tr_errs = []\n",
    "tr_sizes = np.linspace(100, X_train.shape[0], 10).astype(int)\n",
    "for tr_size in tr_sizes:\n",
    "  X_train1 = X_train[:tr_size,:]\n",
    "  y_train1 = y_train[:tr_size]\n",
    "  \n",
    "  log2.fit(X_train1, y_train1)\n",
    "\n",
    "  tr_predicted = log2.predict(X_train1)\n",
    "  err = (tr_predicted != y_train1).mean()\n",
    "  tr_errs.append(err)\n",
    "  \n",
    "  te_predicted = log2.predict(X_test)\n",
    "  err = (te_predicted != y_test).mean()\n",
    "  te_errs.append(err)"
   ]
  },
  {
   "cell_type": "markdown",
   "metadata": {},
   "source": [
    "#### Learning Curve\n",
    "\n",
    "This learning curve reflects that the error for the test data decreases rapidly as well as the error for the training data. at around a 1000 instances, the curves flatten out and the error stays relatively stable. The area between them is also very small. Looking at the values of error, these errors are marginal."
   ]
  },
  {
   "cell_type": "code",
   "execution_count": 83,
   "metadata": {},
   "outputs": [
    {
     "data": {
      "image/png": "[encoded data removed]",
      "text/plain": [
       "<Figure size 720x360 with 1 Axes>"
      ]
     },
     "metadata": {
      "needs_background": "light"
     },
     "output_type": "display_data"
    }
   ],
   "source": [
    "plt.figure(figsize=(10,5))\n",
    "sns.lineplot(x=tr_sizes, y=te_errs);\n",
    "sns.lineplot(x=tr_sizes, y=tr_errs);\n",
    "plt.title(\"Learning curve Model 7\", size=15);\n",
    "plt.xlabel(\"Training set size\", size=15);\n",
    "plt.ylabel(\"Error\", size=15);\n",
    "plt.legend(['Test Data', 'Training Data']);"
   ]
  },
  {
   "cell_type": "markdown",
   "metadata": {},
   "source": [
    "#### Conclusion Model 7\n",
    "\n",
    "Overall in this model we can tell that it has the same performance as the last Tree Classifier we built using the same features. Using feature selecton the same features were pickedd out in the same amount of steps. The biggest difference between these models lie in the learning curves in which the Tree classifier seemed to have a constant error for the training set while the learning curve in this logistic regression model seems to have the training and test data error follow each other more closely."
   ]
  },
  {
   "cell_type": "markdown",
   "metadata": {},
   "source": [
    "---"
   ]
  },
  {
   "cell_type": "markdown",
   "metadata": {},
   "source": [
    "# Conclusion\n",
    "\n",
    "In total we have made 7 models, 3 Naive bayes models, 2 Tree classifiers and 2 Logistic regression models. The first observation we made is that our dataset inherently gives us a very high accuracy and precision/recall values for all of our models. At first we thought this could be because we had an imbalanced dataset but when we went back and looked at the values we are classifying by, Edible/poisonous, there is about 50% of each present in the dataset. \n",
    "\n",
    "\n",
    "The best accuracy we achieved was using Logistic regression on all features of the dataset. This gave us an accuracy of 100%. When it comes to making a most useful classifier that uses features that people could easily observe, we got predictions using the fewest features (only three variants of odor) when classifying using Logistic regression and Tree Classification. \n",
    "\n",
    "However, the accuracy was actually a little bit higher for our Naive Bayes model using 5 features. The highest accuracy achieved for the \"Useful\" model, was 0.985. This gave us a precision of 0.972. This means that worst case scenario, 36 people who had their mushroom predicted to be edible, would actually eat a poisonous one. \n",
    "The best precision vs recall was obtained using all features and Naive Bayes in model 1.\n",
    "\n",
    "Overall, based on this dataset, it looks like it is fairly easy, to decide if a mushroom is edible, based on cap-shape and smell. The best predictors are smell of nothing, almond or anis and a cap shape of conical or bell. Still, there is no 100% guarantee that you won't be poisoned using these prediction models."
   ]
  }
 ],
 "metadata": {
  "kernelspec": {
   "display_name": "Python 3",
   "language": "python",
   "name": "python3"
  },
  "language_info": {
   "codemirror_mode": {
    "name": "ipython",
    "version": 3
   },
   "file_extension": ".py",
   "mimetype": "text/x-python",
   "name": "python",
   "nbconvert_exporter": "python",
   "pygments_lexer": "ipython3",
   "version": "3.7.3"
  }
 },
 "nbformat": 4,
 "nbformat_minor": 2
}
